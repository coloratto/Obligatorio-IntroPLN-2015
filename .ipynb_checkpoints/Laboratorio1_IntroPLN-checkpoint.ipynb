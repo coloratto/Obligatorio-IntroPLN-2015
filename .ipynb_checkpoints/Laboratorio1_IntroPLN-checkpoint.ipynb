{
 "cells": [
  {
   "cell_type": "code",
   "execution_count": 1,
   "metadata": {
    "collapsed": false
   },
   "outputs": [],
   "source": [
    "# Se importan las librerias correspondientes\n",
    "import nltk\n",
    "import pandas\n",
    "import numpy as np\n",
    "import re"
   ]
  },
  {
   "cell_type": "markdown",
   "metadata": {},
   "source": [
    "### 1. Importamos el corpus de comentarios\n",
    "\n",
    "Pandas es una biblioteca de código abierto implementada en Python la cual permite realizar una fácil manipulación y análisis de los datos.\n",
    "Ésta se utilizó para cargar los datos en memoria y realizar un breve análisis de los mismos."
   ]
  },
  {
   "cell_type": "code",
   "execution_count": 2,
   "metadata": {
    "collapsed": false
   },
   "outputs": [],
   "source": [
    "# Se carga en 'datos' el archivo csv en memoria\n",
    "datos = pandas.read_csv(\"comentarios_peliculas.csv\", skiprows=1, delimiter=';', skip_blank_lines=True, encoding='utf-8')"
   ]
  },
  {
   "cell_type": "markdown",
   "metadata": {},
   "source": [
    "### 2. Características del corpus\n",
    "Para conocer acerca del corpus sobre el cual se trabajará se realiza un breve análisis de los datos. Para ello se obtiene la cantidad de filas y columnas que el dataset posee; donde las filas corresponden a los comentarios y las columnas a los atributos asociados a los mismos. Por otro lado se obtiene la cantidad de peliculas del corpus, la cantidad de comentarios para cada película, en el que se realiza un ploteo, entre otros. A su vez se listan esos atributos junto a su tipo asociado. Una vez hecho esto se procede a chequear de que los atributos de los comentarios tengan o no valores faltantes, ya que en caso de tenerlos hay que tomar una decisión en base a que hacer con los mismos (existen varias técnicas para este tratamiento). "
   ]
  },
  {
   "cell_type": "code",
   "execution_count": 3,
   "metadata": {
    "collapsed": false
   },
   "outputs": [
    {
     "name": "stdout",
     "output_type": "stream",
     "text": [
      "Hay una cantidad de 127 películas en el corpus.\n",
      "El corpus posee 1447 comentarios con 9 atributos por cada uno de ellos.\n",
      "\n",
      "Cantidad de comentarios asociados a cada película:\n",
      "\n",
      "Relatos salvajes                                      69\n",
      "A 60 km/h                                             55\n",
      "Mr. Kaplan                                            49\n",
      "Cincuenta sombras de Grey                             46\n",
      "Sin hijos                                             41\n",
      "El Gran Hotel Budapest                                36\n",
      "23 segundos                                           35\n",
      "Intensa-Mente                                         32\n",
      "Directo al corazón                                    28\n",
      "El planeta de los simios: confrontación               26\n",
      "Tus padres volverán                                   26\n",
      "Betibú                                                24\n",
      "Luna de miel en familia                               21\n",
      "Noé                                                   21\n",
      "Maléfica                                              21\n",
      "Guardianes de la Galaxia                              21\n",
      "Avant                                                 20\n",
      "La dama de oro                                        20\n",
      "Búsqueda implacable 3                                 20\n",
      "Mundo Jurásico                                        20\n",
      "Operación Monumento                                   20\n",
      "Cómo entrenar a tu dragón 2                           20\n",
      "Bajo la misma estrella                                20\n",
      "Avengers: era de Ultrón                               19\n",
      "Non-Stop: sin escalas                                 18\n",
      "Las aventuras de Peabody y Sherman                    18\n",
      "Mad Max: furia en el camino                           18\n",
      "Rápidos y furiosos 7                                  18\n",
      "El padre de Gardel                                    18\n",
      "Divergente                                            17\n",
      "                                                      ..\n",
      "Los Indestructibles 3                                  4\n",
      "Código Sombra: Jack Ryan                               3\n",
      "Poltergeist: juegos diabólicos                         3\n",
      "Osos                                                   3\n",
      "La leyenda de Hércules                                 3\n",
      "Los 4 Fantásticos                                      3\n",
      "Violetta: En Concierto                                 3\n",
      "Pompeii                                                3\n",
      "Dos locas en fuga                                      3\n",
      "Cine Arte del Sodre - Cine de Matinée                  2\n",
      "Resucitados                                            2\n",
      "Plano Americano: charlas entre cineastas uruguayos     2\n",
      "True Detective                                         2\n",
      "Cine Arte del Sodre - Los Musicales                    2\n",
      "Las novias de mis amigos                               2\n",
      "Cobain - Montage of Heck                               2\n",
      "La Pedrera Short Film Festival #11                     1\n",
      "El viaje más largo                                     1\n",
      "Aviones 2: equipo de rescate                           1\n",
      "Un golpe de talento                                    1\n",
      "15 Festival Internacional de Escuelas de Cine          1\n",
      "McFarland: Sin límites                                 1\n",
      "Heredero del diablo                                    1\n",
      "In-actividad paranormal                                1\n",
      "Muppets 2: los más buscados                            1\n",
      "1ª Muestra de Avant Premières de Cine Francés          1\n",
      "Domingos Cerrados – Cine y Gastronomía                 1\n",
      "La Murga, ópera popular                                1\n",
      "Cine Arte del Sodre: Los Musicales 2                   1\n",
      "Cineclub CCE - Lo diferente no es peor                 1\n",
      "dtype: int64\n"
     ]
    }
   ],
   "source": [
    "# Se obtiene cantidad peliculas, de comentarios y cantidad de atributos\n",
    "cantPeliculas = len(datos.ix[:,0].unique())\n",
    "cantComentarios = len(datos.index)\n",
    "cantAtributos = len(datos.columns)\n",
    "\n",
    "# Se imprimen los datos obtenidos anteriormente junto a sus tipos de datos\n",
    "print \"Hay una cantidad de \" + str(cantPeliculas) + \" películas en el corpus.\"\n",
    "print \"El corpus posee \" + str(cantComentarios) + \" comentarios con \" + str(cantAtributos) + \" atributos por cada uno de ellos.\"\n",
    "\n",
    "# Se imprime la cantidad de comentarios para cada pelicula\n",
    "print \"\\nCantidad de comentarios asociados a cada película:\\n\"\n",
    "print datos.ix[:,0].value_counts()"
   ]
  },
  {
   "cell_type": "code",
   "execution_count": 4,
   "metadata": {
    "collapsed": false
   },
   "outputs": [
    {
     "data": {
      "image/png": "[encoded data removed]",
      "text/plain": [
       "<matplotlib.figure.Figure at 0xee2b990>"
      ]
     },
     "metadata": {},
     "output_type": "display_data"
    }
   ],
   "source": [
    "# Se importa la libreria para utilizar plot\n",
    "# Además se plotea en el própio notebook y no como una ventana nueva\n",
    "%matplotlib inline\n",
    "from pylab import *\n",
    "\n",
    "# Se realiza una gráfica de cantidad de comentarios en función de su clasificación\n",
    "gruposCalificacion = datos.groupby([u'Calificación']).groups\n",
    "keyClasificacion = gruposCalificacion.keys()\n",
    "cantClasificacion = []\n",
    "for k in keyClasificacion:\n",
    "    cantClasificacion.append(len(gruposCalificacion.get(k)))    \n",
    "pos = arange(len(keyClasificacion)) + 0.5 \n",
    "\n",
    "figure(1)\n",
    "barh(pos,cantClasificacion, align='center')\n",
    "yticks(pos, keyClasificacion)\n",
    "xlabel('Cantidad de comentarios')\n",
    "ylabel(u'Clasificación')\n",
    "title(u'Grafica cantidad de comentarios por clasificación')\n",
    "grid(True)\n",
    "show()"
   ]
  },
  {
   "cell_type": "code",
   "execution_count": 5,
   "metadata": {
    "collapsed": false
   },
   "outputs": [
    {
     "name": "stdout",
     "output_type": "stream",
     "text": [
      "\n",
      "Cantidad de comentarios asociados a cada calificación:\n",
      "\n",
      "5    505\n",
      "4    354\n",
      "1    225\n",
      "3    222\n",
      "2    141\n",
      "dtype: int64\n"
     ]
    }
   ],
   "source": [
    "#Se imprime la cantidad de comentarios asociados a cada calse (es decir cantidad de comentarios por calificación)\n",
    "print \"\\nCantidad de comentarios asociados a cada calificación:\\n\"\n",
    "print datos.ix[:,7].value_counts()"
   ]
  },
  {
   "cell_type": "code",
   "execution_count": 6,
   "metadata": {
    "collapsed": false
   },
   "outputs": [
    {
     "name": "stdout",
     "output_type": "stream",
     "text": [
      "A continuación se listan los atributos con su tipo asociado:\n",
      "\n",
      "Título          object\n",
      "Año              int64\n",
      "Estrellas        int64\n",
      "Género          object\n",
      "Duración        object\n",
      "Reseña          object\n",
      "ComTexto        object\n",
      "Calificación     int64\n",
      "ComFechaHora    object\n",
      "dtype: object\n"
     ]
    }
   ],
   "source": [
    "print \"A continuación se listan los atributos con su tipo asociado:\\n\"\n",
    "print datos.dtypes"
   ]
  },
  {
   "cell_type": "code",
   "execution_count": 7,
   "metadata": {
    "collapsed": false
   },
   "outputs": [
    {
     "name": "stdout",
     "output_type": "stream",
     "text": [
      "No hay valores faltantes para el tributo Título\n",
      "No hay valores faltantes para el tributo Año\n",
      "No hay valores faltantes para el tributo Estrellas\n",
      "No hay valores faltantes para el tributo Género\n",
      "No hay valores faltantes para el tributo Duración\n",
      "No hay valores faltantes para el tributo Reseña\n",
      "No hay valores faltantes para el tributo ComTexto\n",
      "No hay valores faltantes para el tributo Calificación\n",
      "No hay valores faltantes para el tributo ComFechaHora\n"
     ]
    }
   ],
   "source": [
    "# Se chequea si los atributos poseen o no valores faltantes\n",
    "# Para ello se recorren todos los atributos (columnas de 'datos')\n",
    "for atributo in datos.columns:\n",
    "    \n",
    "    # Se obtiene la cantidad de valores distinto de vacio del atributo \n",
    "    cantValoresAtributo = datos[atributo].describe()['count']\n",
    "    \n",
    "    # Si hay menos que la cantidad de comentarios de 'datos' -> hay valores faltantes\n",
    "    if(cantComentarios > cantValoresAtributo):\n",
    "        print \"Hay valores faltantes para el atributo \" + atributo\n",
    "    else:\n",
    "        print \"No hay valores faltantes para el tributo \" + atributo"
   ]
  },
  {
   "cell_type": "markdown",
   "metadata": {},
   "source": [
    "### 3. Descartamos columnas innecesarias\n",
    "En esta sección se descartan las columnas (atributos) que se consideran innecesarios. En particular las columnas que creemos se consideran necesarias son solamente las columnas de los comentarios y los puntajes asociados a dichos comentarios. Por lo que se procede a eliminar el resto."
   ]
  },
  {
   "cell_type": "code",
   "execution_count": 8,
   "metadata": {
    "collapsed": false
   },
   "outputs": [
    {
     "name": "stdout",
     "output_type": "stream",
     "text": [
      "                                               ComTexto  Calificación\n",
      "0     Muchas gracias, vi online los primeros 4, lueg...             4\n",
      "1           La mejor serie desde Los Soprano y The Wire             5\n",
      "2     Llega un punto en el que aburre. Es un plato b...             2\n",
      "3     En realidad no es una respuesta , es una corre...             1\n",
      "4     Ahora entiendo menos. El libro en que se basa ...             1\n",
      "5     Una pena desperdiciar un buen elenco y obviame...             1\n",
      "6     MAGISTRAL!! excelente la recreación de época. ...             5\n",
      "7                             es una película mui padre             5\n",
      "8     EXCELENTE! GENIAL! Esperaba ir a ver con mi hi...             5\n",
      "9     Muy, muy buena...para grandes y chicos. Tiene ...             5\n",
      "10    Excelente película, muy original y divertida. ...             5\n",
      "11    Muy buena película, muy graciosa y de humor ba...             4\n",
      "12    Muy linda película. La fui a ver con mi hija, ...             4\n",
      "13    Linda película, buen mensaje y muy buenos efec...             4\n",
      "14    tambien me encanto la pelicula tu comentario e...             5\n",
      "15    la mejor peli que vi no hay ninguna cosa mejor...             5\n",
      "16    Excelente pelicula. Seguramente sea una de las...             4\n",
      "17    Pelicula propaganda. Resumen de la trama: USA ...             1\n",
      "18                        Muy buena pelicula de accion.             4\n",
      "19    Otro film de accion sostenido por Kevin Costne...             2\n",
      "20                Un bayago, no gasten un peso en esto.             1\n",
      "21    Qué nos queda si a Spartacus le sacamos la san...             2\n",
      "22    Bastante entretenida y absolutamente olvidable...             2\n",
      "23    pelicula aburrida en algunas ecsenas pero con ...             3\n",
      "24    Excelente, como todas las películas de Marvel,...             5\n",
      "25                                             la rompe             5\n",
      "26    Excelente pelicula desde todo punto de vistas,...             4\n",
      "27    Cumple sobradamente lo que promete. Y no hablo...             4\n",
      "28    muy buena, pero el 3d aun no esta bien logrado...             4\n",
      "29    Excelente película! Un enfoque distinto a lo q...             5\n",
      "...                                                 ...           ...\n",
      "1417  Me encantó la película, me emocionó hasta el b...             5\n",
      "1418  Aceptable, por momentos conmovedora y emotiva,...             2\n",
      "1419  Tuve la oportunidad de ver la película y me ag...             5\n",
      "1420  A mí la película me gustó mucho. Su realizació...             5\n",
      "1421  Fui al estreno en día de ayer...y la verdad me...             5\n",
      "1422  Excelente. Sin palabras. Una película muy sens...             5\n",
      "1423  Si estás buscando algo distinto esta es la pel...             5\n",
      "1424  Al fin veo una película de la época de la dict...             5\n",
      "1425  Lo siento pero creo que vimos películas comple...             5\n",
      "1426  Véanla!!! No se la pueden perder. Muy interesa...             5\n",
      "1427  La vi anoche, tenía espectativa, una pena, no ...             1\n",
      "1428  Excelente!!! Te mantiene expectante de princip...             5\n",
      "1429  La tres para mi es la mejor, Pero esta buena, ...             3\n",
      "1430  Entretenida, con humor de principio a fin. Ale...             3\n",
      "1431  Buena película de acción, con hermosas vistas ...             4\n",
      "1432  Buena para lo que son las peliculas de aventur...             4\n",
      "1433  Buena pelicula de acción.  Si viste las anteri...             3\n",
      "1434                         Mediocre, no aporta mucho.             2\n",
      "1435  MUY BUENA PELICULA Y MUY ACTUAL DEMUESTRA LO P...             4\n",
      "1436  Esta bien personalmente me gusto ,a pesar que ...             3\n",
      "1437  Aceptable, bien los actores, la trama se basa ...             2\n",
      "1438  Fui con unas amigas, no nos dejaron entrar x n...             1\n",
      "1439  Malísima. No esperaba que fuera mejor que el l...             1\n",
      "1440  me gusto pero no es que me encanto porque la v...             3\n",
      "1441  Lenta. No es lo que esperaba ni mucho menos. L...             1\n",
      "1442                    Mala. Muy lenta. Sin argumento.             2\n",
      "1443  No es buena, pasan 80% de la película introduc...             1\n",
      "1444  Mala. Malísima. No vale ni verla por la tele. ...             1\n",
      "1445  La peor película de Marvel de los últimos tiem...             1\n",
      "1446                                    Qué buenisimo!!             5\n",
      "\n",
      "[1447 rows x 2 columns]\n"
     ]
    }
   ],
   "source": [
    "# Se descartan de 'datos' las columnas innecesarias, dejando solamente los comentarios y sus calificaciones\n",
    "datos.drop(datos.columns[[0,1,2,3,4,5,8]],inplace=True,axis=1)\n",
    "\n",
    "# Se imprime un resumen de los datos\n",
    "print datos"
   ]
  },
  {
   "cell_type": "markdown",
   "metadata": {},
   "source": [
    "### 3. Preprocesamiento de los comentarios\n",
    "El corpus sobre el cual se trabaja puede tener contener datos con ruido en su contenido. Es decir, diversos elementos que están mezclados en el contenido pero que además de no aportar nada a la tarea de clasificación, generan ruido dificultando las tareas posteriores. Para ello entonces se procede a realizar el preprocesamiento de los comentarios."
   ]
  },
  {
   "cell_type": "code",
   "execution_count": 9,
   "metadata": {
    "collapsed": false
   },
   "outputs": [],
   "source": [
    "# En primera instancia se quitan los espacios en blanco al final y al principio (espacio, tab, retorno de carro, salto de linea)\n",
    "\n",
    "# Se recorren los datos por filas\n",
    "for i in range(0,len(datos)):\n",
    "    \n",
    "    # Se accede a la fila i columna 0 (es decir el valor comentario) y se lo modifica por el mismo modificado\n",
    "    datos.ix[i,0] = datos.ix[i,0].strip(' \\t\\n\\r')"
   ]
  },
  {
   "cell_type": "code",
   "execution_count": 10,
   "metadata": {
    "collapsed": false
   },
   "outputs": [],
   "source": [
    "# Luego se quitan las etiquetas html de los comentarios\n",
    "\n",
    "# Se recorren los datos por filas\n",
    "for i in range(0,len(datos)):\n",
    "    \n",
    "    # Se obtiene el largo del comentario i\n",
    "    length = len(datos.ix[i,0])\n",
    "    new_length = 0\n",
    "    \n",
    "    # Expresión regular para matchear etiquetas html\n",
    "    reg = r'<\\/?\\w+((\\s+\\w+(\\s*=\\s*(?:\".*?\"|\\'.*?\\'|[^\\'\">\\s]+))?)+\\s*|\\s*)\\/?>'\n",
    "    \n",
    "    # Se aplica la expresión regular al comentario mientras cambien los largos\n",
    "    while new_length != length:\n",
    "        \n",
    "        # Se cambia el comentario por el mismo sin etiquetas html\n",
    "        datos.ix[i,0] = re.sub(reg, \"\", datos.ix[i,0])\n",
    "        new_length = len(datos.ix[i,0])    "
   ]
  },
  {
   "cell_type": "markdown",
   "metadata": {},
   "source": [
    "### 4. Tokenización\n",
    "En esta sección se realiza el proceso de tokenización de los textos utilizando la biblioteca NLTK. Además se convierte a un formato suceptible para la clasificación. Es decir, se toquenizan los comentarios y se calcula el diccionario de palabras frecuentes del mismo. En base a ello y al valor de clasificación asociado se crea una tupla la cual corresponde al comentario analizado. Luego estas tuplas (una por cada comentario) son la entrada para el entrenamiento del algoritmo Entropía Máxima provisto por NLTK."
   ]
  },
  {
   "cell_type": "code",
   "execution_count": 11,
   "metadata": {
    "collapsed": true
   },
   "outputs": [],
   "source": [
    "# Funcion que dado un numero entre (1 y 5) devuelve la clasificación asociada\n",
    "# En este lab si es 5 o 4 -> positivo; 3 -> neutro; 1 o 0 -> negativo\n",
    "def codificarClasificacion(num):\n",
    "    if(num > 3):\n",
    "        return \"pos\"\n",
    "    elif(num == 3):\n",
    "        return \"neu\"\n",
    "    else:\n",
    "        return \"neg\""
   ]
  },
  {
   "cell_type": "code",
   "execution_count": 12,
   "metadata": {
    "collapsed": false
   },
   "outputs": [],
   "source": [
    "# Retorna una lista de tuplas. \n",
    "# Cada tupla posee un diccionario (dict) palabra-frecuencia del comentario y la clasificación asociada\n",
    "# En otras palabras [(dict1, clasificacion1),(dict2, clasificacion2), ... ]\n",
    "\n",
    "listaTuplas = []\n",
    "\n",
    "# Se recorren los comentarios y para cada uno de ellos se tokeniza con nltk\n",
    "for i in range(0,len(datos.ComTexto)):\n",
    "    \n",
    "    # Se crea el diccionario asociado al comentario\n",
    "    dic = {}\n",
    "    \n",
    "    # Por cada palabra retornada de la tokenizacion del comentario\n",
    "    for palabra in nltk.word_tokenize(datos.ix[i,0]):\n",
    "        \n",
    "        # Si la palabra está en el diccionario del comentario, se aumenta la frecuencia\n",
    "        # En caso contrario se la pone en el diccionario con valor 1\n",
    "        if(palabra.lower() in dic): \n",
    "            dic[palabra.lower()] = dic[palabra.lower()] + 1\n",
    "        else:\n",
    "            dic[palabra.lower()] = 1\n",
    "            \n",
    "    # Luego de tokenizado el comentario, se agrega una tupla a la lista que contendrá\n",
    "    # el diccionario de frecuencias y la clasificaion asociada al comentario\n",
    "    listaTuplas.insert(i,(dic,codificarClasificacion(datos.ix[i,1])))"
   ]
  },
  {
   "cell_type": "code",
   "execution_count": 13,
   "metadata": {
    "collapsed": false
   },
   "outputs": [
    {
     "name": "stdout",
     "output_type": "stream",
     "text": [
      "ComTexto        Muchas gracias, vi online los primeros 4, lueg...\n",
      "Calificación                                                    4\n",
      "Name: 0, dtype: object\n",
      "({u'hbo': 1, u'gracias': 1, u'luego': 1, u'la': 1, u'vi': 1, u'segu\\xed': 1, u',': 2, u'los': 1, u'primeros': 1, u'4': 1, u'por': 1, u'online': 1, u'muchas': 1}, 'pos')\n"
     ]
    }
   ],
   "source": [
    "# Para entender lo anterior\n",
    "\n",
    "# Se imprime el primer comentario junto a su clasificacion\n",
    "print datos.ix[0,:]\n",
    "\n",
    "# Si todo esta bien al imprimir el primer elemento de la lista\n",
    "# Se deberia ver el diccionario mas la clasificacion asociada al comentario \n",
    "print listaTuplas[0]"
   ]
  },
  {
   "cell_type": "markdown",
   "metadata": {},
   "source": [
    "### 5. Separamos entrenamiento y testeo \n",
    "Una vez de haber llegado a este punto tenemos los datos tokenizados en la variable listaTuplas. Habrá entonces que dividir dicha lista en conjuntos de entrenamiento y testeo, para primero entrenar el algoritmo y luego testearlo.\n",
    "Para poder entrenar y testear un algoritmo de aprendizaje, como se mencionó, es necesario primero particionar los datos en dos conjuntos disjuntos de entrenamiento y testeo. Se separarán aleatoriamente un 20% de los datos para testeo y el 80% restante se utilizará para el entrenamiento. Para esto se utilizó la función train_test_split del paquete cross_validation de sklearn."
   ]
  },
  {
   "cell_type": "code",
   "execution_count": 14,
   "metadata": {
    "collapsed": false
   },
   "outputs": [
    {
     "name": "stdout",
     "output_type": "stream",
     "text": [
      "1157\n",
      "290\n"
     ]
    }
   ],
   "source": [
    "from sklearn.cross_validation import train_test_split\n",
    "\n",
    "# Se divide el conjunto de datos en train (80%) y test (20%)\n",
    "datos_train, datos_test = train_test_split(listaTuplas, test_size=0.2)\n",
    "\n",
    "# Se chequean las cantidades de la división\n",
    "print len(datos_train)\n",
    "print len(datos_test)"
   ]
  },
  {
   "cell_type": "markdown",
   "metadata": {},
   "source": [
    "### 6. Se entrena el algoritmo de máxima entropia y se lo evalua\n",
    "Una vez de tener los datos en un formato aceptable para los algoritmos de entrenamiento y particionado los mismos en test y train, se procede a realizar el entrenamiento del algoritmo de Máxima Entropía. Una vez realizado dicho entrenamiento se procede a evaluarlo."
   ]
  },
  {
   "cell_type": "code",
   "execution_count": 25,
   "metadata": {
    "collapsed": false
   },
   "outputs": [
    {
     "name": "stdout",
     "output_type": "stream",
     "text": [
      "  ==> Training (1 iterations)\n",
      "\n",
      "      Iteration    Log Likelihood    Accuracy\n",
      "      ---------------------------------------\n",
      "             1          -1.09861        0.590\n",
      "         Final          -0.80770        0.785\n"
     ]
    }
   ],
   "source": [
    "# En la siguiente linea se entrena el algoritmo con 7 iteraciones\n",
    "# Obs. El entrenamiento es bastante lento, habría que llegar a un valor de iteraciones adecuado\n",
    "clf = nltk.classify.MaxentClassifier.train(datos_train,max_iter=7)"
   ]
  },
  {
   "cell_type": "code",
   "execution_count": 26,
   "metadata": {
    "collapsed": true
   },
   "outputs": [],
   "source": [
    "# Funcion que dada una distribución de probabilidad de las clasificaciones\n",
    "# devuelve la clasificacion que tiene mayor probabilidad\n",
    "def getClasificacion(pdist):\n",
    "    \n",
    "    # Se inicializa la clasificacion\n",
    "    clasificacion = 0;\n",
    "    prob = 0\n",
    "    \n",
    "    # Por cada clasificacion posible, la comparo con la inicializacion\n",
    "    # Me quedo con la mas grande\n",
    "    for i in range(1,6):\n",
    "        if( pdist.prob(i) > prob):\n",
    "            clasificacion = i\n",
    "            prob = pdist.prob(i)\n",
    "\n",
    "    return clasificacion"
   ]
  },
  {
   "cell_type": "code",
   "execution_count": 28,
   "metadata": {
    "collapsed": false
   },
   "outputs": [
    {
     "name": "stdout",
     "output_type": "stream",
     "text": [
      "La tasa de acierto para el algoritmo es de: 0.224137931034\n"
     ]
    }
   ],
   "source": [
    "# Se define la variable de aciertos\n",
    "aciertos = 0\n",
    "\n",
    "# Para cada comentario del conjunto de testeo se evalua segun el algoritmo entrenado\n",
    "for comentario in datos_test:\n",
    "    \n",
    "    # Se obtiene la clasificacion del algoritmo para el comentario\n",
    "    clasificacion = getClasificacion(clf.prob_classify(comentario[0]))\n",
    "    \n",
    "    # En caso que la clasificacion sea la correcta se aumenta el acierto\n",
    "    if(codificarClasificacion(clasificacion) == comentario[1]):\n",
    "        aciertos += 1\n",
    "\n",
    "tasa = float(acierto)/len(datos_test)\n",
    "print \"La tasa de acierto para el algoritmo es de: \" + str(tasa)"
   ]
  },
  {
   "cell_type": "code",
   "execution_count": null,
   "metadata": {
    "collapsed": false
   },
   "outputs": [],
   "source": []
  }
 ],
 "metadata": {
  "kernelspec": {
   "display_name": "Python 2",
   "language": "python",
   "name": "python2"
  },
  "language_info": {
   "codemirror_mode": {
    "name": "ipython",
    "version": 2
   },
   "file_extension": ".py",
   "mimetype": "text/x-python",
   "name": "python",
   "nbconvert_exporter": "python",
   "pygments_lexer": "ipython2",
   "version": "2.7.10"
  }
 },
 "nbformat": 4,
 "nbformat_minor": 0
}
