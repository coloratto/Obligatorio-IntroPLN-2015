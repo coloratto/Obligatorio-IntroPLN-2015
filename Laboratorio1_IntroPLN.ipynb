{
 "cells": [
  {
   "cell_type": "code",
   "execution_count": 13,
   "metadata": {
    "collapsed": false
   },
   "outputs": [],
   "source": [
    "# Hay que instalar python 3\n",
    "# Para esto... http://continuum.io/blog/anaconda-python-3\n",
    "import nltk\n",
    "import pandas\n",
    "import numpy as np\n",
    "import re\n"
   ]
  },
  {
   "cell_type": "markdown",
   "metadata": {},
   "source": [
    "### 1. Importamos el corpus de comentarios"
   ]
  },
  {
   "cell_type": "code",
   "execution_count": 19,
   "metadata": {
    "collapsed": false
   },
   "outputs": [],
   "source": [
    "datos = pandas.read_csv(\"comentarios_peliculas.csv\", skiprows=1, delimiter=';', skip_blank_lines=True, encoding='utf-8')"
   ]
  },
  {
   "cell_type": "code",
   "execution_count": 3,
   "metadata": {
    "collapsed": false
   },
   "outputs": [
    {
     "name": "stdout",
     "output_type": "stream",
     "text": [
      "0       Muchas gracias, vi online los primeros 4, lueg...\n",
      "1             La mejor serie desde Los Soprano y The Wire\n",
      "2       Llega un punto en el que aburre. Es un plato b...\n",
      "3       En realidad no es una respuesta , es una corre...\n",
      "4       Ahora entiendo menos. El libro en que se basa ...\n",
      "5       Una pena desperdiciar un buen elenco y obviame...\n",
      "6       MAGISTRAL!! excelente la recreación de época. ...\n",
      "7                               es una película mui padre\n",
      "8       EXCELENTE! GENIAL! Esperaba ir a ver con mi hi...\n",
      "9       Muy, muy buena...para grandes y chicos. Tiene ...\n",
      "10      Excelente película, muy original y divertida. ...\n",
      "11      Muy buena película, muy graciosa y de humor ba...\n",
      "12      Muy linda película. La fui a ver con mi hija, ...\n",
      "13      Linda película, buen mensaje y muy buenos efec...\n",
      "14      tambien me encanto la pelicula tu comentario e...\n",
      "15      la mejor peli que vi no hay ninguna cosa mejor...\n",
      "16      Excelente pelicula. Seguramente sea una de las...\n",
      "17      Pelicula propaganda. Resumen de la trama: USA ...\n",
      "18                          Muy buena pelicula de accion.\n",
      "19      Otro film de accion sostenido por Kevin Costne...\n",
      "20                  Un bayago, no gasten un peso en esto.\n",
      "21      Qué nos queda si a Spartacus le sacamos la san...\n",
      "22      Bastante entretenida y absolutamente olvidable...\n",
      "23      pelicula aburrida en algunas ecsenas pero con ...\n",
      "24      Excelente, como todas las películas de Marvel,...\n",
      "25                                               la rompe\n",
      "26      Excelente pelicula desde todo punto de vistas,...\n",
      "27      Cumple sobradamente lo que promete. Y no hablo...\n",
      "28      muy buena, pero el 3d aun no esta bien logrado...\n",
      "29      Excelente película! Un enfoque distinto a lo q...\n",
      "                              ...                        \n",
      "1417    Me encantó la película, me emocionó hasta el b...\n",
      "1418    Aceptable, por momentos conmovedora y emotiva,...\n",
      "1419    Tuve la oportunidad de ver la película y me ag...\n",
      "1420    A mí la película me gustó mucho. Su realizació...\n",
      "1421    Fui al estreno en día de ayer...y la verdad me...\n",
      "1422    Excelente. Sin palabras. Una película muy sens...\n",
      "1423    Si estás buscando algo distinto esta es la pel...\n",
      "1424    Al fin veo una película de la época de la dict...\n",
      "1425    Lo siento pero creo que vimos películas comple...\n",
      "1426    Véanla!!! No se la pueden perder. Muy interesa...\n",
      "1427    La vi anoche, tenía espectativa, una pena, no ...\n",
      "1428    Excelente!!! Te mantiene expectante de princip...\n",
      "1429    La tres para mi es la mejor, Pero esta buena, ...\n",
      "1430    Entretenida, con humor de principio a fin. Ale...\n",
      "1431    Buena película de acción, con hermosas vistas ...\n",
      "1432    Buena para lo que son las peliculas de aventur...\n",
      "1433    Buena pelicula de acción.  Si viste las anteri...\n",
      "1434                           Mediocre, no aporta mucho.\n",
      "1435    MUY BUENA PELICULA Y MUY ACTUAL DEMUESTRA LO P...\n",
      "1436    Esta bien personalmente me gusto ,a pesar que ...\n",
      "1437    Aceptable, bien los actores, la trama se basa ...\n",
      "1438    Fui con unas amigas, no nos dejaron entrar x n...\n",
      "1439    Malísima. No esperaba que fuera mejor que el l...\n",
      "1440    me gusto pero no es que me encanto porque la v...\n",
      "1441    Lenta. No es lo que esperaba ni mucho menos. L...\n",
      "1442                      Mala. Muy lenta. Sin argumento.\n",
      "1443    No es buena, pasan 80% de la película introduc...\n",
      "1444    Mala. Malísima. No vale ni verla por la tele. ...\n",
      "1445    La peor película de Marvel de los últimos tiem...\n",
      "1446                                      Qué buenisimo!!\n",
      "Name: ComTexto, dtype: object\n"
     ]
    }
   ],
   "source": [
    "print (datos.ComTexto)"
   ]
  },
  {
   "cell_type": "markdown",
   "metadata": {},
   "source": [
    "### 2. Descartamos columnas innecesarias"
   ]
  },
  {
   "cell_type": "code",
   "execution_count": 20,
   "metadata": {
    "collapsed": true
   },
   "outputs": [],
   "source": [
    "comentarios = datos.ComTexto\n",
    "estrellas = datos.Estrellas\n",
    "comentarios_estrellas = []\n",
    "for i in range(0,len(datos)):\n",
    "    comentarios_estrellas.insert(i,(comentarios[i],estrellas[i]))\n"
   ]
  },
  {
   "cell_type": "markdown",
   "metadata": {},
   "source": [
    "### 3. Preprocesamiento de los comentarios"
   ]
  },
  {
   "cell_type": "code",
   "execution_count": 21,
   "metadata": {
    "collapsed": false
   },
   "outputs": [],
   "source": [
    "for i in range(0,len(comentarios_estrellas)):\n",
    "    comentarios_estrellas[i] = (comentarios_estrellas[i][0].strip(' \\t\\n\\r'),comentarios_estrellas[i][1])"
   ]
  },
  {
   "cell_type": "code",
   "execution_count": 16,
   "metadata": {
    "collapsed": false
   },
   "outputs": [],
   "source": [
    "for i in range(0,len(comentarios_estrellas)):\n",
    "    length = len(comentarios_estrellas[i][0])\n",
    "    new_length = 0\n",
    "    reg = r'<\\/?\\w+((\\s+\\w+(\\s*=\\s*(?:\".*?\"|\\'.*?\\'|[^\\'\">\\s]+))?)+\\s*|\\s*)\\/?>'\n",
    "    while new_length != length:\n",
    "        new_comment = re.sub(reg, \"\", comentarios_estrellas[i][0])\n",
    "        comentarios_estrellas[i] = (new_comment,comentarios_estrellas[i][1])\n",
    "        new_length = len(comentarios_estrellas[i][0])\n",
    "        \n",
    "    "
   ]
  },
  {
   "cell_type": "markdown",
   "metadata": {},
   "source": [
    "### 2. Separamos entrenamiento y testeo "
   ]
  },
  {
   "cell_type": "code",
   "execution_count": 23,
   "metadata": {
    "collapsed": false
   },
   "outputs": [
    {
     "name": "stdout",
     "output_type": "stream",
     "text": [
      "('Carencias de Lenguaje filmico??? Yo creo que es la película más cercana a un neorrealismo italiano al estilo antonioni visconti etc etc…Como se puede decir falta de lenguaje fílmico?? En todo caso será falta de lenguaje fílmico clásico por que lo plantea y como lo desarrolla no se acerca a una película convencional. A medida que pasa el tiempo y continuo pensando en esta película, le encuentro cada vez más cosas interesantes. No es para todo el mundo claro está, pero tiene muchos méritos esta película.', 0)\n"
     ]
    }
   ],
   "source": [
    "print (comentarios_estrellas[47])"
   ]
  },
  {
   "cell_type": "code",
   "execution_count": 28,
   "metadata": {
    "collapsed": false
   },
   "outputs": [],
   "source": [
    "#http://stackoverflow.com/questions/24147278/how-do-i-create-test-and-train-samples-from-one-dataframe-with-pandas\n",
    "np.random.seed(42)\n",
    "msk = np.random.rand(len(comentarios)) < 0.8\n",
    "comentarios_training= comentarios[msk]\n",
    "comentarios_testing = comentarios[~msk]"
   ]
  }
 ],
 "metadata": {
  "kernelspec": {
   "display_name": "Python 3",
   "language": "python",
   "name": "python3"
  },
  "language_info": {
   "codemirror_mode": {
    "name": "ipython",
    "version": 3
   },
   "file_extension": ".py",
   "mimetype": "text/x-python",
   "name": "python",
   "nbconvert_exporter": "python",
   "pygments_lexer": "ipython3",
   "version": "3.4.3"
  }
 },
 "nbformat": 4,
 "nbformat_minor": 0
}
