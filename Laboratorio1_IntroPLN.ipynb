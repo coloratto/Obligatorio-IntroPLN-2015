{
 "cells": [
  {
   "cell_type": "code",
   "execution_count": 1,
   "metadata": {
    "collapsed": false
   },
   "outputs": [],
   "source": [
    "# Se importan las librerias correspondientes\n",
    "import nltk\n",
    "from nltk.corpus import stopwords\n",
    "import pandas\n",
    "import numpy as np\n",
    "import utils_pln as utl\n",
    "from sklearn.cross_validation import train_test_split"
   ]
  },
  {
   "cell_type": "markdown",
   "metadata": {},
   "source": [
    "### 1. Importamos el corpus de comentarios\n",
    "\n",
    "Pandas es una biblioteca de código abierto implementada en Python la cual permite realizar una fácil manipulación y análisis de los datos.\n",
    "Ésta se utilizó para cargar los datos en memoria y realizar un breve análisis de los mismos."
   ]
  },
  {
   "cell_type": "code",
   "execution_count": 2,
   "metadata": {
    "collapsed": false
   },
   "outputs": [],
   "source": [
    "# Se carga en 'datos' el archivo csv en memoria\n",
    "datos = pandas.read_csv(\"comentarios_peliculas.csv\", skiprows=1, delimiter=';', skip_blank_lines=True, encoding='utf-8')"
   ]
  },
  {
   "cell_type": "code",
   "execution_count": 3,
   "metadata": {
    "collapsed": false
   },
   "outputs": [],
   "source": [
    "elementos_subjetivos = utl.diccionarioElementosSubjetivos(\"elementos_subjetivos.txt\")"
   ]
  },
  {
   "cell_type": "markdown",
   "metadata": {},
   "source": [
    "### 2. Características del corpus\n",
    "Para conocer acerca del corpus sobre el cual se trabajará se realiza un breve análisis de los datos. Para ello se obtiene la cantidad de filas y columnas que el dataset posee; donde las filas corresponden a los comentarios y las columnas a los atributos asociados a los mismos. Por otro lado se obtiene la cantidad de peliculas del corpus, la cantidad de comentarios para cada película, en el que se realiza un ploteo, entre otros. A su vez se listan esos atributos junto a su tipo asociado. Una vez hecho esto se procede a chequear de que los atributos de los comentarios tengan o no valores faltantes, ya que en caso de tenerlos hay que tomar una decisión en base a que hacer con los mismos (existen varias técnicas para este tratamiento). "
   ]
  },
  {
   "cell_type": "code",
   "execution_count": 4,
   "metadata": {
    "collapsed": false
   },
   "outputs": [
    {
     "name": "stdout",
     "output_type": "stream",
     "text": [
      "Hay una cantidad de 127 películas en el corpus.\n",
      "El corpus posee 1447 comentarios con 9 atributos por cada uno de ellos.\n",
      "\n",
      "Cantidad de comentarios asociados a cada película:\n",
      "\n",
      "Relatos salvajes                                      69\n",
      "A 60 km/h                                             55\n",
      "Mr. Kaplan                                            49\n",
      "Cincuenta sombras de Grey                             46\n",
      "Sin hijos                                             41\n",
      "El Gran Hotel Budapest                                36\n",
      "23 segundos                                           35\n",
      "Intensa-Mente                                         32\n",
      "Directo al corazón                                    28\n",
      "Tus padres volverán                                   26\n",
      "El planeta de los simios: confrontación               26\n",
      "Betibú                                                24\n",
      "Noé                                                   21\n",
      "Maléfica                                              21\n",
      "Guardianes de la Galaxia                              21\n",
      "Luna de miel en familia                               21\n",
      "Avant                                                 20\n",
      "Operación Monumento                                   20\n",
      "Bajo la misma estrella                                20\n",
      "Cómo entrenar a tu dragón 2                           20\n",
      "La dama de oro                                        20\n",
      "Mundo Jurásico                                        20\n",
      "Búsqueda implacable 3                                 20\n",
      "Avengers: era de Ultrón                               19\n",
      "Mad Max: furia en el camino                           18\n",
      "Las aventuras de Peabody y Sherman                    18\n",
      "Rápidos y furiosos 7                                  18\n",
      "Non-Stop: sin escalas                                 18\n",
      "El padre de Gardel                                    18\n",
      "Rio 2                                                 17\n",
      "                                                      ..\n",
      "Mujeres al ataque!                                     4\n",
      "Dos locas en fuga                                      3\n",
      "Osos                                                   3\n",
      "Violetta: En Concierto                                 3\n",
      "Pompeii                                                3\n",
      "Los 4 Fantásticos                                      3\n",
      "La leyenda de Hércules                                 3\n",
      "Poltergeist: juegos diabólicos                         3\n",
      "Código Sombra: Jack Ryan                               3\n",
      "True Detective                                         2\n",
      "Cine Arte del Sodre - Los Musicales                    2\n",
      "Plano Americano: charlas entre cineastas uruguayos     2\n",
      "Las novias de mis amigos                               2\n",
      "Resucitados                                            2\n",
      "Cine Arte del Sodre - Cine de Matinée                  2\n",
      "Cobain - Montage of Heck                               2\n",
      "15 Festival Internacional de Escuelas de Cine          1\n",
      "El viaje más largo                                     1\n",
      "McFarland: Sin límites                                 1\n",
      "Heredero del diablo                                    1\n",
      "Cine Arte del Sodre: Los Musicales 2                   1\n",
      "Cineclub CCE - Lo diferente no es peor                 1\n",
      "Aviones 2: equipo de rescate                           1\n",
      "Muppets 2: los más buscados                            1\n",
      "In-actividad paranormal                                1\n",
      "La Murga, ópera popular                                1\n",
      "La Pedrera Short Film Festival #11                     1\n",
      "Un golpe de talento                                    1\n",
      "1ª Muestra de Avant Premières de Cine Francés          1\n",
      "Domingos Cerrados – Cine y Gastronomía                 1\n",
      "dtype: int64\n"
     ]
    }
   ],
   "source": [
    "# Se obtiene cantidad peliculas, de comentarios y cantidad de atributos\n",
    "cantPeliculas = len(datos.ix[:,0].unique())\n",
    "cantComentarios = len(datos.index)\n",
    "cantAtributos = len(datos.columns)\n",
    "\n",
    "# Se imprimen los datos obtenidos anteriormente junto a sus tipos de datos\n",
    "print (\"Hay una cantidad de \" + str(cantPeliculas) + \" películas en el corpus.\")\n",
    "print (\"El corpus posee \" + str(cantComentarios) + \" comentarios con \" + str(cantAtributos) + \" atributos por cada uno de ellos.\")\n",
    "\n",
    "# Se imprime la cantidad de comentarios para cada pelicula\n",
    "print (\"\\nCantidad de comentarios asociados a cada película:\\n\")\n",
    "print (datos.ix[:,0].value_counts())"
   ]
  },
  {
   "cell_type": "code",
   "execution_count": 5,
   "metadata": {
    "collapsed": false
   },
   "outputs": [
    {
     "ename": "TypeError",
     "evalue": "'dict_keys' object does not support indexing",
     "output_type": "error",
     "traceback": [
      "\u001b[1;31m---------------------------------------------------------------------------\u001b[0m",
      "\u001b[1;31mTypeError\u001b[0m                                 Traceback (most recent call last)",
      "\u001b[1;32m<ipython-input-5-0f1e2cd5c7ab>\u001b[0m in \u001b[0;36m<module>\u001b[1;34m()\u001b[0m\n\u001b[0;32m     14\u001b[0m \u001b[0mfigure\u001b[0m\u001b[1;33m(\u001b[0m\u001b[1;36m1\u001b[0m\u001b[1;33m)\u001b[0m\u001b[1;33m\u001b[0m\u001b[0m\n\u001b[0;32m     15\u001b[0m \u001b[0mbarh\u001b[0m\u001b[1;33m(\u001b[0m\u001b[0mpos\u001b[0m\u001b[1;33m,\u001b[0m\u001b[0mcantClasificacion\u001b[0m\u001b[1;33m,\u001b[0m \u001b[0malign\u001b[0m\u001b[1;33m=\u001b[0m\u001b[1;34m'center'\u001b[0m\u001b[1;33m)\u001b[0m\u001b[1;33m\u001b[0m\u001b[0m\n\u001b[1;32m---> 16\u001b[1;33m \u001b[0myticks\u001b[0m\u001b[1;33m(\u001b[0m\u001b[0mpos\u001b[0m\u001b[1;33m,\u001b[0m \u001b[0mkeyClasificacion\u001b[0m\u001b[1;33m)\u001b[0m\u001b[1;33m\u001b[0m\u001b[0m\n\u001b[0m\u001b[0;32m     17\u001b[0m \u001b[0mxlabel\u001b[0m\u001b[1;33m(\u001b[0m\u001b[1;34m'Cantidad de comentarios'\u001b[0m\u001b[1;33m)\u001b[0m\u001b[1;33m\u001b[0m\u001b[0m\n\u001b[0;32m     18\u001b[0m \u001b[0mylabel\u001b[0m\u001b[1;33m(\u001b[0m\u001b[1;34mu'Clasificación'\u001b[0m\u001b[1;33m)\u001b[0m\u001b[1;33m\u001b[0m\u001b[0m\n",
      "\u001b[1;32m/home/fkauffman/anaconda3/lib/python3.4/site-packages/matplotlib/pyplot.py\u001b[0m in \u001b[0;36myticks\u001b[1;34m(*args, **kwargs)\u001b[0m\n\u001b[0;32m   1634\u001b[0m     \u001b[1;32melif\u001b[0m \u001b[0mlen\u001b[0m\u001b[1;33m(\u001b[0m\u001b[0margs\u001b[0m\u001b[1;33m)\u001b[0m\u001b[1;33m==\u001b[0m\u001b[1;36m2\u001b[0m\u001b[1;33m:\u001b[0m\u001b[1;33m\u001b[0m\u001b[0m\n\u001b[0;32m   1635\u001b[0m         \u001b[0mlocs\u001b[0m \u001b[1;33m=\u001b[0m \u001b[0max\u001b[0m\u001b[1;33m.\u001b[0m\u001b[0mset_yticks\u001b[0m\u001b[1;33m(\u001b[0m\u001b[0margs\u001b[0m\u001b[1;33m[\u001b[0m\u001b[1;36m0\u001b[0m\u001b[1;33m]\u001b[0m\u001b[1;33m)\u001b[0m\u001b[1;33m\u001b[0m\u001b[0m\n\u001b[1;32m-> 1636\u001b[1;33m         \u001b[0mlabels\u001b[0m \u001b[1;33m=\u001b[0m \u001b[0max\u001b[0m\u001b[1;33m.\u001b[0m\u001b[0mset_yticklabels\u001b[0m\u001b[1;33m(\u001b[0m\u001b[0margs\u001b[0m\u001b[1;33m[\u001b[0m\u001b[1;36m1\u001b[0m\u001b[1;33m]\u001b[0m\u001b[1;33m,\u001b[0m \u001b[1;33m**\u001b[0m\u001b[0mkwargs\u001b[0m\u001b[1;33m)\u001b[0m\u001b[1;33m\u001b[0m\u001b[0m\n\u001b[0m\u001b[0;32m   1637\u001b[0m     \u001b[1;32melse\u001b[0m\u001b[1;33m:\u001b[0m \u001b[1;32mraise\u001b[0m \u001b[0mTypeError\u001b[0m\u001b[1;33m(\u001b[0m\u001b[1;34m'Illegal number of arguments to yticks'\u001b[0m\u001b[1;33m)\u001b[0m\u001b[1;33m\u001b[0m\u001b[0m\n\u001b[0;32m   1638\u001b[0m     \u001b[1;32mif\u001b[0m \u001b[0mlen\u001b[0m\u001b[1;33m(\u001b[0m\u001b[0mkwargs\u001b[0m\u001b[1;33m)\u001b[0m\u001b[1;33m:\u001b[0m\u001b[1;33m\u001b[0m\u001b[0m\n",
      "\u001b[1;32m/home/fkauffman/anaconda3/lib/python3.4/site-packages/matplotlib/axes/_base.py\u001b[0m in \u001b[0;36mset_yticklabels\u001b[1;34m(self, labels, fontdict, minor, **kwargs)\u001b[0m\n\u001b[0;32m   2931\u001b[0m         \"\"\"\n\u001b[0;32m   2932\u001b[0m         return self.yaxis.set_ticklabels(labels, fontdict,\n\u001b[1;32m-> 2933\u001b[1;33m                                          minor=minor, **kwargs)\n\u001b[0m\u001b[0;32m   2934\u001b[0m \u001b[1;33m\u001b[0m\u001b[0m\n\u001b[0;32m   2935\u001b[0m     \u001b[1;32mdef\u001b[0m \u001b[0mxaxis_date\u001b[0m\u001b[1;33m(\u001b[0m\u001b[0mself\u001b[0m\u001b[1;33m,\u001b[0m \u001b[0mtz\u001b[0m\u001b[1;33m=\u001b[0m\u001b[1;32mNone\u001b[0m\u001b[1;33m)\u001b[0m\u001b[1;33m:\u001b[0m\u001b[1;33m\u001b[0m\u001b[0m\n",
      "\u001b[1;32m/home/fkauffman/anaconda3/lib/python3.4/site-packages/matplotlib/axis.py\u001b[0m in \u001b[0;36mset_ticklabels\u001b[1;34m(self, ticklabels, *args, **kwargs)\u001b[0m\n\u001b[0;32m   1563\u001b[0m             \u001b[1;32mif\u001b[0m \u001b[0mi\u001b[0m \u001b[1;33m<\u001b[0m \u001b[0mlen\u001b[0m\u001b[1;33m(\u001b[0m\u001b[0mticklabels\u001b[0m\u001b[1;33m)\u001b[0m\u001b[1;33m:\u001b[0m\u001b[1;33m\u001b[0m\u001b[0m\n\u001b[0;32m   1564\u001b[0m                 \u001b[1;32mif\u001b[0m \u001b[0mtick\u001b[0m\u001b[1;33m.\u001b[0m\u001b[0mlabel1On\u001b[0m\u001b[1;33m:\u001b[0m\u001b[1;33m\u001b[0m\u001b[0m\n\u001b[1;32m-> 1565\u001b[1;33m                     \u001b[0mtick\u001b[0m\u001b[1;33m.\u001b[0m\u001b[0mlabel1\u001b[0m\u001b[1;33m.\u001b[0m\u001b[0mset_text\u001b[0m\u001b[1;33m(\u001b[0m\u001b[0mticklabels\u001b[0m\u001b[1;33m[\u001b[0m\u001b[0mi\u001b[0m\u001b[1;33m]\u001b[0m\u001b[1;33m)\u001b[0m\u001b[1;33m\u001b[0m\u001b[0m\n\u001b[0m\u001b[0;32m   1566\u001b[0m                     \u001b[0mtick\u001b[0m\u001b[1;33m.\u001b[0m\u001b[0mlabel1\u001b[0m\u001b[1;33m.\u001b[0m\u001b[0mupdate\u001b[0m\u001b[1;33m(\u001b[0m\u001b[0mkwargs\u001b[0m\u001b[1;33m)\u001b[0m\u001b[1;33m\u001b[0m\u001b[0m\n\u001b[0;32m   1567\u001b[0m                     \u001b[0mret1\u001b[0m\u001b[1;33m.\u001b[0m\u001b[0mappend\u001b[0m\u001b[1;33m(\u001b[0m\u001b[0mtick\u001b[0m\u001b[1;33m.\u001b[0m\u001b[0mlabel1\u001b[0m\u001b[1;33m)\u001b[0m\u001b[1;33m\u001b[0m\u001b[0m\n",
      "\u001b[1;31mTypeError\u001b[0m: 'dict_keys' object does not support indexing"
     ]
    },
    {
     "ename": "TypeError",
     "evalue": "'dict_keys' object does not support indexing",
     "output_type": "error",
     "traceback": [
      "\u001b[1;31m---------------------------------------------------------------------------\u001b[0m",
      "\u001b[1;31mTypeError\u001b[0m                                 Traceback (most recent call last)",
      "\u001b[1;32m/home/fkauffman/anaconda3/lib/python3.4/site-packages/IPython/core/formatters.py\u001b[0m in \u001b[0;36m__call__\u001b[1;34m(self, obj)\u001b[0m\n\u001b[0;32m    328\u001b[0m                 \u001b[1;32mpass\u001b[0m\u001b[1;33m\u001b[0m\u001b[0m\n\u001b[0;32m    329\u001b[0m             \u001b[1;32melse\u001b[0m\u001b[1;33m:\u001b[0m\u001b[1;33m\u001b[0m\u001b[0m\n\u001b[1;32m--> 330\u001b[1;33m                 \u001b[1;32mreturn\u001b[0m \u001b[0mprinter\u001b[0m\u001b[1;33m(\u001b[0m\u001b[0mobj\u001b[0m\u001b[1;33m)\u001b[0m\u001b[1;33m\u001b[0m\u001b[0m\n\u001b[0m\u001b[0;32m    331\u001b[0m             \u001b[1;31m# Finally look for special method names\u001b[0m\u001b[1;33m\u001b[0m\u001b[1;33m\u001b[0m\u001b[0m\n\u001b[0;32m    332\u001b[0m             \u001b[0mmethod\u001b[0m \u001b[1;33m=\u001b[0m \u001b[0m_safe_get_formatter_method\u001b[0m\u001b[1;33m(\u001b[0m\u001b[0mobj\u001b[0m\u001b[1;33m,\u001b[0m \u001b[0mself\u001b[0m\u001b[1;33m.\u001b[0m\u001b[0mprint_method\u001b[0m\u001b[1;33m)\u001b[0m\u001b[1;33m\u001b[0m\u001b[0m\n",
      "\u001b[1;32m/home/fkauffman/anaconda3/lib/python3.4/site-packages/IPython/core/pylabtools.py\u001b[0m in \u001b[0;36m<lambda>\u001b[1;34m(fig)\u001b[0m\n\u001b[0;32m    205\u001b[0m \u001b[1;33m\u001b[0m\u001b[0m\n\u001b[0;32m    206\u001b[0m     \u001b[1;32mif\u001b[0m \u001b[1;34m'png'\u001b[0m \u001b[1;32min\u001b[0m \u001b[0mformats\u001b[0m\u001b[1;33m:\u001b[0m\u001b[1;33m\u001b[0m\u001b[0m\n\u001b[1;32m--> 207\u001b[1;33m         \u001b[0mpng_formatter\u001b[0m\u001b[1;33m.\u001b[0m\u001b[0mfor_type\u001b[0m\u001b[1;33m(\u001b[0m\u001b[0mFigure\u001b[0m\u001b[1;33m,\u001b[0m \u001b[1;32mlambda\u001b[0m \u001b[0mfig\u001b[0m\u001b[1;33m:\u001b[0m \u001b[0mprint_figure\u001b[0m\u001b[1;33m(\u001b[0m\u001b[0mfig\u001b[0m\u001b[1;33m,\u001b[0m \u001b[1;34m'png'\u001b[0m\u001b[1;33m,\u001b[0m \u001b[1;33m**\u001b[0m\u001b[0mkwargs\u001b[0m\u001b[1;33m)\u001b[0m\u001b[1;33m)\u001b[0m\u001b[1;33m\u001b[0m\u001b[0m\n\u001b[0m\u001b[0;32m    208\u001b[0m     \u001b[1;32mif\u001b[0m \u001b[1;34m'retina'\u001b[0m \u001b[1;32min\u001b[0m \u001b[0mformats\u001b[0m \u001b[1;32mor\u001b[0m \u001b[1;34m'png2x'\u001b[0m \u001b[1;32min\u001b[0m \u001b[0mformats\u001b[0m\u001b[1;33m:\u001b[0m\u001b[1;33m\u001b[0m\u001b[0m\n\u001b[0;32m    209\u001b[0m         \u001b[0mpng_formatter\u001b[0m\u001b[1;33m.\u001b[0m\u001b[0mfor_type\u001b[0m\u001b[1;33m(\u001b[0m\u001b[0mFigure\u001b[0m\u001b[1;33m,\u001b[0m \u001b[1;32mlambda\u001b[0m \u001b[0mfig\u001b[0m\u001b[1;33m:\u001b[0m \u001b[0mretina_figure\u001b[0m\u001b[1;33m(\u001b[0m\u001b[0mfig\u001b[0m\u001b[1;33m,\u001b[0m \u001b[1;33m**\u001b[0m\u001b[0mkwargs\u001b[0m\u001b[1;33m)\u001b[0m\u001b[1;33m)\u001b[0m\u001b[1;33m\u001b[0m\u001b[0m\n",
      "\u001b[1;32m/home/fkauffman/anaconda3/lib/python3.4/site-packages/IPython/core/pylabtools.py\u001b[0m in \u001b[0;36mprint_figure\u001b[1;34m(fig, fmt, bbox_inches, **kwargs)\u001b[0m\n\u001b[0;32m    115\u001b[0m \u001b[1;33m\u001b[0m\u001b[0m\n\u001b[0;32m    116\u001b[0m     \u001b[0mbytes_io\u001b[0m \u001b[1;33m=\u001b[0m \u001b[0mBytesIO\u001b[0m\u001b[1;33m(\u001b[0m\u001b[1;33m)\u001b[0m\u001b[1;33m\u001b[0m\u001b[0m\n\u001b[1;32m--> 117\u001b[1;33m     \u001b[0mfig\u001b[0m\u001b[1;33m.\u001b[0m\u001b[0mcanvas\u001b[0m\u001b[1;33m.\u001b[0m\u001b[0mprint_figure\u001b[0m\u001b[1;33m(\u001b[0m\u001b[0mbytes_io\u001b[0m\u001b[1;33m,\u001b[0m \u001b[1;33m**\u001b[0m\u001b[0mkw\u001b[0m\u001b[1;33m)\u001b[0m\u001b[1;33m\u001b[0m\u001b[0m\n\u001b[0m\u001b[0;32m    118\u001b[0m     \u001b[0mdata\u001b[0m \u001b[1;33m=\u001b[0m \u001b[0mbytes_io\u001b[0m\u001b[1;33m.\u001b[0m\u001b[0mgetvalue\u001b[0m\u001b[1;33m(\u001b[0m\u001b[1;33m)\u001b[0m\u001b[1;33m\u001b[0m\u001b[0m\n\u001b[0;32m    119\u001b[0m     \u001b[1;32mif\u001b[0m \u001b[0mfmt\u001b[0m \u001b[1;33m==\u001b[0m \u001b[1;34m'svg'\u001b[0m\u001b[1;33m:\u001b[0m\u001b[1;33m\u001b[0m\u001b[0m\n",
      "\u001b[1;32m/home/fkauffman/anaconda3/lib/python3.4/site-packages/matplotlib/backend_bases.py\u001b[0m in \u001b[0;36mprint_figure\u001b[1;34m(self, filename, dpi, facecolor, edgecolor, orientation, format, **kwargs)\u001b[0m\n\u001b[0;32m   2156\u001b[0m                     \u001b[0morientation\u001b[0m\u001b[1;33m=\u001b[0m\u001b[0morientation\u001b[0m\u001b[1;33m,\u001b[0m\u001b[1;33m\u001b[0m\u001b[0m\n\u001b[0;32m   2157\u001b[0m                     \u001b[0mdryrun\u001b[0m\u001b[1;33m=\u001b[0m\u001b[1;32mTrue\u001b[0m\u001b[1;33m,\u001b[0m\u001b[1;33m\u001b[0m\u001b[0m\n\u001b[1;32m-> 2158\u001b[1;33m                     **kwargs)\n\u001b[0m\u001b[0;32m   2159\u001b[0m                 \u001b[0mrenderer\u001b[0m \u001b[1;33m=\u001b[0m \u001b[0mself\u001b[0m\u001b[1;33m.\u001b[0m\u001b[0mfigure\u001b[0m\u001b[1;33m.\u001b[0m\u001b[0m_cachedRenderer\u001b[0m\u001b[1;33m\u001b[0m\u001b[0m\n\u001b[0;32m   2160\u001b[0m                 \u001b[0mbbox_inches\u001b[0m \u001b[1;33m=\u001b[0m \u001b[0mself\u001b[0m\u001b[1;33m.\u001b[0m\u001b[0mfigure\u001b[0m\u001b[1;33m.\u001b[0m\u001b[0mget_tightbbox\u001b[0m\u001b[1;33m(\u001b[0m\u001b[0mrenderer\u001b[0m\u001b[1;33m)\u001b[0m\u001b[1;33m\u001b[0m\u001b[0m\n",
      "\u001b[1;32m/home/fkauffman/anaconda3/lib/python3.4/site-packages/matplotlib/backends/backend_agg.py\u001b[0m in \u001b[0;36mprint_png\u001b[1;34m(self, filename_or_obj, *args, **kwargs)\u001b[0m\n\u001b[0;32m    519\u001b[0m \u001b[1;33m\u001b[0m\u001b[0m\n\u001b[0;32m    520\u001b[0m     \u001b[1;32mdef\u001b[0m \u001b[0mprint_png\u001b[0m\u001b[1;33m(\u001b[0m\u001b[0mself\u001b[0m\u001b[1;33m,\u001b[0m \u001b[0mfilename_or_obj\u001b[0m\u001b[1;33m,\u001b[0m \u001b[1;33m*\u001b[0m\u001b[0margs\u001b[0m\u001b[1;33m,\u001b[0m \u001b[1;33m**\u001b[0m\u001b[0mkwargs\u001b[0m\u001b[1;33m)\u001b[0m\u001b[1;33m:\u001b[0m\u001b[1;33m\u001b[0m\u001b[0m\n\u001b[1;32m--> 521\u001b[1;33m         \u001b[0mFigureCanvasAgg\u001b[0m\u001b[1;33m.\u001b[0m\u001b[0mdraw\u001b[0m\u001b[1;33m(\u001b[0m\u001b[0mself\u001b[0m\u001b[1;33m)\u001b[0m\u001b[1;33m\u001b[0m\u001b[0m\n\u001b[0m\u001b[0;32m    522\u001b[0m         \u001b[0mrenderer\u001b[0m \u001b[1;33m=\u001b[0m \u001b[0mself\u001b[0m\u001b[1;33m.\u001b[0m\u001b[0mget_renderer\u001b[0m\u001b[1;33m(\u001b[0m\u001b[1;33m)\u001b[0m\u001b[1;33m\u001b[0m\u001b[0m\n\u001b[0;32m    523\u001b[0m         \u001b[0moriginal_dpi\u001b[0m \u001b[1;33m=\u001b[0m \u001b[0mrenderer\u001b[0m\u001b[1;33m.\u001b[0m\u001b[0mdpi\u001b[0m\u001b[1;33m\u001b[0m\u001b[0m\n",
      "\u001b[1;32m/home/fkauffman/anaconda3/lib/python3.4/site-packages/matplotlib/backends/backend_agg.py\u001b[0m in \u001b[0;36mdraw\u001b[1;34m(self)\u001b[0m\n\u001b[0;32m    467\u001b[0m \u001b[1;33m\u001b[0m\u001b[0m\n\u001b[0;32m    468\u001b[0m         \u001b[1;32mtry\u001b[0m\u001b[1;33m:\u001b[0m\u001b[1;33m\u001b[0m\u001b[0m\n\u001b[1;32m--> 469\u001b[1;33m             \u001b[0mself\u001b[0m\u001b[1;33m.\u001b[0m\u001b[0mfigure\u001b[0m\u001b[1;33m.\u001b[0m\u001b[0mdraw\u001b[0m\u001b[1;33m(\u001b[0m\u001b[0mself\u001b[0m\u001b[1;33m.\u001b[0m\u001b[0mrenderer\u001b[0m\u001b[1;33m)\u001b[0m\u001b[1;33m\u001b[0m\u001b[0m\n\u001b[0m\u001b[0;32m    470\u001b[0m         \u001b[1;32mfinally\u001b[0m\u001b[1;33m:\u001b[0m\u001b[1;33m\u001b[0m\u001b[0m\n\u001b[0;32m    471\u001b[0m             \u001b[0mRendererAgg\u001b[0m\u001b[1;33m.\u001b[0m\u001b[0mlock\u001b[0m\u001b[1;33m.\u001b[0m\u001b[0mrelease\u001b[0m\u001b[1;33m(\u001b[0m\u001b[1;33m)\u001b[0m\u001b[1;33m\u001b[0m\u001b[0m\n",
      "\u001b[1;32m/home/fkauffman/anaconda3/lib/python3.4/site-packages/matplotlib/artist.py\u001b[0m in \u001b[0;36mdraw_wrapper\u001b[1;34m(artist, renderer, *args, **kwargs)\u001b[0m\n\u001b[0;32m     57\u001b[0m     \u001b[1;32mdef\u001b[0m \u001b[0mdraw_wrapper\u001b[0m\u001b[1;33m(\u001b[0m\u001b[0martist\u001b[0m\u001b[1;33m,\u001b[0m \u001b[0mrenderer\u001b[0m\u001b[1;33m,\u001b[0m \u001b[1;33m*\u001b[0m\u001b[0margs\u001b[0m\u001b[1;33m,\u001b[0m \u001b[1;33m**\u001b[0m\u001b[0mkwargs\u001b[0m\u001b[1;33m)\u001b[0m\u001b[1;33m:\u001b[0m\u001b[1;33m\u001b[0m\u001b[0m\n\u001b[0;32m     58\u001b[0m         \u001b[0mbefore\u001b[0m\u001b[1;33m(\u001b[0m\u001b[0martist\u001b[0m\u001b[1;33m,\u001b[0m \u001b[0mrenderer\u001b[0m\u001b[1;33m)\u001b[0m\u001b[1;33m\u001b[0m\u001b[0m\n\u001b[1;32m---> 59\u001b[1;33m         \u001b[0mdraw\u001b[0m\u001b[1;33m(\u001b[0m\u001b[0martist\u001b[0m\u001b[1;33m,\u001b[0m \u001b[0mrenderer\u001b[0m\u001b[1;33m,\u001b[0m \u001b[1;33m*\u001b[0m\u001b[0margs\u001b[0m\u001b[1;33m,\u001b[0m \u001b[1;33m**\u001b[0m\u001b[0mkwargs\u001b[0m\u001b[1;33m)\u001b[0m\u001b[1;33m\u001b[0m\u001b[0m\n\u001b[0m\u001b[0;32m     60\u001b[0m         \u001b[0mafter\u001b[0m\u001b[1;33m(\u001b[0m\u001b[0martist\u001b[0m\u001b[1;33m,\u001b[0m \u001b[0mrenderer\u001b[0m\u001b[1;33m)\u001b[0m\u001b[1;33m\u001b[0m\u001b[0m\n\u001b[0;32m     61\u001b[0m \u001b[1;33m\u001b[0m\u001b[0m\n",
      "\u001b[1;32m/home/fkauffman/anaconda3/lib/python3.4/site-packages/matplotlib/figure.py\u001b[0m in \u001b[0;36mdraw\u001b[1;34m(self, renderer)\u001b[0m\n\u001b[0;32m   1083\u001b[0m         \u001b[0mdsu\u001b[0m\u001b[1;33m.\u001b[0m\u001b[0msort\u001b[0m\u001b[1;33m(\u001b[0m\u001b[0mkey\u001b[0m\u001b[1;33m=\u001b[0m\u001b[0mitemgetter\u001b[0m\u001b[1;33m(\u001b[0m\u001b[1;36m0\u001b[0m\u001b[1;33m)\u001b[0m\u001b[1;33m)\u001b[0m\u001b[1;33m\u001b[0m\u001b[0m\n\u001b[0;32m   1084\u001b[0m         \u001b[1;32mfor\u001b[0m \u001b[0mzorder\u001b[0m\u001b[1;33m,\u001b[0m \u001b[0ma\u001b[0m\u001b[1;33m,\u001b[0m \u001b[0mfunc\u001b[0m\u001b[1;33m,\u001b[0m \u001b[0margs\u001b[0m \u001b[1;32min\u001b[0m \u001b[0mdsu\u001b[0m\u001b[1;33m:\u001b[0m\u001b[1;33m\u001b[0m\u001b[0m\n\u001b[1;32m-> 1085\u001b[1;33m             \u001b[0mfunc\u001b[0m\u001b[1;33m(\u001b[0m\u001b[1;33m*\u001b[0m\u001b[0margs\u001b[0m\u001b[1;33m)\u001b[0m\u001b[1;33m\u001b[0m\u001b[0m\n\u001b[0m\u001b[0;32m   1086\u001b[0m \u001b[1;33m\u001b[0m\u001b[0m\n\u001b[0;32m   1087\u001b[0m         \u001b[0mrenderer\u001b[0m\u001b[1;33m.\u001b[0m\u001b[0mclose_group\u001b[0m\u001b[1;33m(\u001b[0m\u001b[1;34m'figure'\u001b[0m\u001b[1;33m)\u001b[0m\u001b[1;33m\u001b[0m\u001b[0m\n",
      "\u001b[1;32m/home/fkauffman/anaconda3/lib/python3.4/site-packages/matplotlib/artist.py\u001b[0m in \u001b[0;36mdraw_wrapper\u001b[1;34m(artist, renderer, *args, **kwargs)\u001b[0m\n\u001b[0;32m     57\u001b[0m     \u001b[1;32mdef\u001b[0m \u001b[0mdraw_wrapper\u001b[0m\u001b[1;33m(\u001b[0m\u001b[0martist\u001b[0m\u001b[1;33m,\u001b[0m \u001b[0mrenderer\u001b[0m\u001b[1;33m,\u001b[0m \u001b[1;33m*\u001b[0m\u001b[0margs\u001b[0m\u001b[1;33m,\u001b[0m \u001b[1;33m**\u001b[0m\u001b[0mkwargs\u001b[0m\u001b[1;33m)\u001b[0m\u001b[1;33m:\u001b[0m\u001b[1;33m\u001b[0m\u001b[0m\n\u001b[0;32m     58\u001b[0m         \u001b[0mbefore\u001b[0m\u001b[1;33m(\u001b[0m\u001b[0martist\u001b[0m\u001b[1;33m,\u001b[0m \u001b[0mrenderer\u001b[0m\u001b[1;33m)\u001b[0m\u001b[1;33m\u001b[0m\u001b[0m\n\u001b[1;32m---> 59\u001b[1;33m         \u001b[0mdraw\u001b[0m\u001b[1;33m(\u001b[0m\u001b[0martist\u001b[0m\u001b[1;33m,\u001b[0m \u001b[0mrenderer\u001b[0m\u001b[1;33m,\u001b[0m \u001b[1;33m*\u001b[0m\u001b[0margs\u001b[0m\u001b[1;33m,\u001b[0m \u001b[1;33m**\u001b[0m\u001b[0mkwargs\u001b[0m\u001b[1;33m)\u001b[0m\u001b[1;33m\u001b[0m\u001b[0m\n\u001b[0m\u001b[0;32m     60\u001b[0m         \u001b[0mafter\u001b[0m\u001b[1;33m(\u001b[0m\u001b[0martist\u001b[0m\u001b[1;33m,\u001b[0m \u001b[0mrenderer\u001b[0m\u001b[1;33m)\u001b[0m\u001b[1;33m\u001b[0m\u001b[0m\n\u001b[0;32m     61\u001b[0m \u001b[1;33m\u001b[0m\u001b[0m\n",
      "\u001b[1;32m/home/fkauffman/anaconda3/lib/python3.4/site-packages/matplotlib/axes/_base.py\u001b[0m in \u001b[0;36mdraw\u001b[1;34m(self, renderer, inframe)\u001b[0m\n\u001b[0;32m   2108\u001b[0m \u001b[1;33m\u001b[0m\u001b[0m\n\u001b[0;32m   2109\u001b[0m         \u001b[1;32mfor\u001b[0m \u001b[0mzorder\u001b[0m\u001b[1;33m,\u001b[0m \u001b[0ma\u001b[0m \u001b[1;32min\u001b[0m \u001b[0mdsu\u001b[0m\u001b[1;33m:\u001b[0m\u001b[1;33m\u001b[0m\u001b[0m\n\u001b[1;32m-> 2110\u001b[1;33m             \u001b[0ma\u001b[0m\u001b[1;33m.\u001b[0m\u001b[0mdraw\u001b[0m\u001b[1;33m(\u001b[0m\u001b[0mrenderer\u001b[0m\u001b[1;33m)\u001b[0m\u001b[1;33m\u001b[0m\u001b[0m\n\u001b[0m\u001b[0;32m   2111\u001b[0m \u001b[1;33m\u001b[0m\u001b[0m\n\u001b[0;32m   2112\u001b[0m         \u001b[0mrenderer\u001b[0m\u001b[1;33m.\u001b[0m\u001b[0mclose_group\u001b[0m\u001b[1;33m(\u001b[0m\u001b[1;34m'axes'\u001b[0m\u001b[1;33m)\u001b[0m\u001b[1;33m\u001b[0m\u001b[0m\n",
      "\u001b[1;32m/home/fkauffman/anaconda3/lib/python3.4/site-packages/matplotlib/artist.py\u001b[0m in \u001b[0;36mdraw_wrapper\u001b[1;34m(artist, renderer, *args, **kwargs)\u001b[0m\n\u001b[0;32m     57\u001b[0m     \u001b[1;32mdef\u001b[0m \u001b[0mdraw_wrapper\u001b[0m\u001b[1;33m(\u001b[0m\u001b[0martist\u001b[0m\u001b[1;33m,\u001b[0m \u001b[0mrenderer\u001b[0m\u001b[1;33m,\u001b[0m \u001b[1;33m*\u001b[0m\u001b[0margs\u001b[0m\u001b[1;33m,\u001b[0m \u001b[1;33m**\u001b[0m\u001b[0mkwargs\u001b[0m\u001b[1;33m)\u001b[0m\u001b[1;33m:\u001b[0m\u001b[1;33m\u001b[0m\u001b[0m\n\u001b[0;32m     58\u001b[0m         \u001b[0mbefore\u001b[0m\u001b[1;33m(\u001b[0m\u001b[0martist\u001b[0m\u001b[1;33m,\u001b[0m \u001b[0mrenderer\u001b[0m\u001b[1;33m)\u001b[0m\u001b[1;33m\u001b[0m\u001b[0m\n\u001b[1;32m---> 59\u001b[1;33m         \u001b[0mdraw\u001b[0m\u001b[1;33m(\u001b[0m\u001b[0martist\u001b[0m\u001b[1;33m,\u001b[0m \u001b[0mrenderer\u001b[0m\u001b[1;33m,\u001b[0m \u001b[1;33m*\u001b[0m\u001b[0margs\u001b[0m\u001b[1;33m,\u001b[0m \u001b[1;33m**\u001b[0m\u001b[0mkwargs\u001b[0m\u001b[1;33m)\u001b[0m\u001b[1;33m\u001b[0m\u001b[0m\n\u001b[0m\u001b[0;32m     60\u001b[0m         \u001b[0mafter\u001b[0m\u001b[1;33m(\u001b[0m\u001b[0martist\u001b[0m\u001b[1;33m,\u001b[0m \u001b[0mrenderer\u001b[0m\u001b[1;33m)\u001b[0m\u001b[1;33m\u001b[0m\u001b[0m\n\u001b[0;32m     61\u001b[0m \u001b[1;33m\u001b[0m\u001b[0m\n",
      "\u001b[1;32m/home/fkauffman/anaconda3/lib/python3.4/site-packages/matplotlib/axis.py\u001b[0m in \u001b[0;36mdraw\u001b[1;34m(self, renderer, *args, **kwargs)\u001b[0m\n\u001b[0;32m   1112\u001b[0m         \u001b[0mrenderer\u001b[0m\u001b[1;33m.\u001b[0m\u001b[0mopen_group\u001b[0m\u001b[1;33m(\u001b[0m\u001b[0m__name__\u001b[0m\u001b[1;33m)\u001b[0m\u001b[1;33m\u001b[0m\u001b[0m\n\u001b[0;32m   1113\u001b[0m \u001b[1;33m\u001b[0m\u001b[0m\n\u001b[1;32m-> 1114\u001b[1;33m         \u001b[0mticks_to_draw\u001b[0m \u001b[1;33m=\u001b[0m \u001b[0mself\u001b[0m\u001b[1;33m.\u001b[0m\u001b[0m_update_ticks\u001b[0m\u001b[1;33m(\u001b[0m\u001b[0mrenderer\u001b[0m\u001b[1;33m)\u001b[0m\u001b[1;33m\u001b[0m\u001b[0m\n\u001b[0m\u001b[0;32m   1115\u001b[0m         ticklabelBoxes, ticklabelBoxes2 = self._get_tick_bboxes(ticks_to_draw,\n\u001b[0;32m   1116\u001b[0m                                                                 renderer)\n",
      "\u001b[1;32m/home/fkauffman/anaconda3/lib/python3.4/site-packages/matplotlib/axis.py\u001b[0m in \u001b[0;36m_update_ticks\u001b[1;34m(self, renderer)\u001b[0m\n\u001b[0;32m    955\u001b[0m \u001b[1;33m\u001b[0m\u001b[0m\n\u001b[0;32m    956\u001b[0m         \u001b[0minterval\u001b[0m \u001b[1;33m=\u001b[0m \u001b[0mself\u001b[0m\u001b[1;33m.\u001b[0m\u001b[0mget_view_interval\u001b[0m\u001b[1;33m(\u001b[0m\u001b[1;33m)\u001b[0m\u001b[1;33m\u001b[0m\u001b[0m\n\u001b[1;32m--> 957\u001b[1;33m         \u001b[0mtick_tups\u001b[0m \u001b[1;33m=\u001b[0m \u001b[1;33m[\u001b[0m\u001b[0mt\u001b[0m \u001b[1;32mfor\u001b[0m \u001b[0mt\u001b[0m \u001b[1;32min\u001b[0m \u001b[0mself\u001b[0m\u001b[1;33m.\u001b[0m\u001b[0miter_ticks\u001b[0m\u001b[1;33m(\u001b[0m\u001b[1;33m)\u001b[0m\u001b[1;33m]\u001b[0m\u001b[1;33m\u001b[0m\u001b[0m\n\u001b[0m\u001b[0;32m    958\u001b[0m         \u001b[1;32mif\u001b[0m \u001b[0mself\u001b[0m\u001b[1;33m.\u001b[0m\u001b[0m_smart_bounds\u001b[0m\u001b[1;33m:\u001b[0m\u001b[1;33m\u001b[0m\u001b[0m\n\u001b[0;32m    959\u001b[0m             \u001b[1;31m# handle inverted limits\u001b[0m\u001b[1;33m\u001b[0m\u001b[1;33m\u001b[0m\u001b[0m\n",
      "\u001b[1;32m/home/fkauffman/anaconda3/lib/python3.4/site-packages/matplotlib/axis.py\u001b[0m in \u001b[0;36m<listcomp>\u001b[1;34m(.0)\u001b[0m\n\u001b[0;32m    955\u001b[0m \u001b[1;33m\u001b[0m\u001b[0m\n\u001b[0;32m    956\u001b[0m         \u001b[0minterval\u001b[0m \u001b[1;33m=\u001b[0m \u001b[0mself\u001b[0m\u001b[1;33m.\u001b[0m\u001b[0mget_view_interval\u001b[0m\u001b[1;33m(\u001b[0m\u001b[1;33m)\u001b[0m\u001b[1;33m\u001b[0m\u001b[0m\n\u001b[1;32m--> 957\u001b[1;33m         \u001b[0mtick_tups\u001b[0m \u001b[1;33m=\u001b[0m \u001b[1;33m[\u001b[0m\u001b[0mt\u001b[0m \u001b[1;32mfor\u001b[0m \u001b[0mt\u001b[0m \u001b[1;32min\u001b[0m \u001b[0mself\u001b[0m\u001b[1;33m.\u001b[0m\u001b[0miter_ticks\u001b[0m\u001b[1;33m(\u001b[0m\u001b[1;33m)\u001b[0m\u001b[1;33m]\u001b[0m\u001b[1;33m\u001b[0m\u001b[0m\n\u001b[0m\u001b[0;32m    958\u001b[0m         \u001b[1;32mif\u001b[0m \u001b[0mself\u001b[0m\u001b[1;33m.\u001b[0m\u001b[0m_smart_bounds\u001b[0m\u001b[1;33m:\u001b[0m\u001b[1;33m\u001b[0m\u001b[0m\n\u001b[0;32m    959\u001b[0m             \u001b[1;31m# handle inverted limits\u001b[0m\u001b[1;33m\u001b[0m\u001b[1;33m\u001b[0m\u001b[0m\n",
      "\u001b[1;32m/home/fkauffman/anaconda3/lib/python3.4/site-packages/matplotlib/axis.py\u001b[0m in \u001b[0;36miter_ticks\u001b[1;34m(self)\u001b[0m\n\u001b[0;32m    903\u001b[0m         \u001b[0mself\u001b[0m\u001b[1;33m.\u001b[0m\u001b[0mmajor\u001b[0m\u001b[1;33m.\u001b[0m\u001b[0mformatter\u001b[0m\u001b[1;33m.\u001b[0m\u001b[0mset_locs\u001b[0m\u001b[1;33m(\u001b[0m\u001b[0mmajorLocs\u001b[0m\u001b[1;33m)\u001b[0m\u001b[1;33m\u001b[0m\u001b[0m\n\u001b[0;32m    904\u001b[0m         majorLabels = [self.major.formatter(val, i)\n\u001b[1;32m--> 905\u001b[1;33m                        for i, val in enumerate(majorLocs)]\n\u001b[0m\u001b[0;32m    906\u001b[0m \u001b[1;33m\u001b[0m\u001b[0m\n\u001b[0;32m    907\u001b[0m         \u001b[0mminorLocs\u001b[0m \u001b[1;33m=\u001b[0m \u001b[0mself\u001b[0m\u001b[1;33m.\u001b[0m\u001b[0mminor\u001b[0m\u001b[1;33m.\u001b[0m\u001b[0mlocator\u001b[0m\u001b[1;33m(\u001b[0m\u001b[1;33m)\u001b[0m\u001b[1;33m\u001b[0m\u001b[0m\n",
      "\u001b[1;32m/home/fkauffman/anaconda3/lib/python3.4/site-packages/matplotlib/axis.py\u001b[0m in \u001b[0;36m<listcomp>\u001b[1;34m(.0)\u001b[0m\n\u001b[0;32m    903\u001b[0m         \u001b[0mself\u001b[0m\u001b[1;33m.\u001b[0m\u001b[0mmajor\u001b[0m\u001b[1;33m.\u001b[0m\u001b[0mformatter\u001b[0m\u001b[1;33m.\u001b[0m\u001b[0mset_locs\u001b[0m\u001b[1;33m(\u001b[0m\u001b[0mmajorLocs\u001b[0m\u001b[1;33m)\u001b[0m\u001b[1;33m\u001b[0m\u001b[0m\n\u001b[0;32m    904\u001b[0m         majorLabels = [self.major.formatter(val, i)\n\u001b[1;32m--> 905\u001b[1;33m                        for i, val in enumerate(majorLocs)]\n\u001b[0m\u001b[0;32m    906\u001b[0m \u001b[1;33m\u001b[0m\u001b[0m\n\u001b[0;32m    907\u001b[0m         \u001b[0mminorLocs\u001b[0m \u001b[1;33m=\u001b[0m \u001b[0mself\u001b[0m\u001b[1;33m.\u001b[0m\u001b[0mminor\u001b[0m\u001b[1;33m.\u001b[0m\u001b[0mlocator\u001b[0m\u001b[1;33m(\u001b[0m\u001b[1;33m)\u001b[0m\u001b[1;33m\u001b[0m\u001b[0m\n",
      "\u001b[1;32m/home/fkauffman/anaconda3/lib/python3.4/site-packages/matplotlib/ticker.py\u001b[0m in \u001b[0;36m__call__\u001b[1;34m(self, x, pos)\u001b[0m\n\u001b[0;32m    288\u001b[0m             \u001b[1;32mreturn\u001b[0m \u001b[1;34m''\u001b[0m\u001b[1;33m\u001b[0m\u001b[0m\n\u001b[0;32m    289\u001b[0m         \u001b[1;32melse\u001b[0m\u001b[1;33m:\u001b[0m\u001b[1;33m\u001b[0m\u001b[0m\n\u001b[1;32m--> 290\u001b[1;33m             \u001b[1;32mreturn\u001b[0m \u001b[0mself\u001b[0m\u001b[1;33m.\u001b[0m\u001b[0mseq\u001b[0m\u001b[1;33m[\u001b[0m\u001b[0mpos\u001b[0m\u001b[1;33m]\u001b[0m\u001b[1;33m\u001b[0m\u001b[0m\n\u001b[0m\u001b[0;32m    291\u001b[0m \u001b[1;33m\u001b[0m\u001b[0m\n\u001b[0;32m    292\u001b[0m     \u001b[1;32mdef\u001b[0m \u001b[0mget_offset\u001b[0m\u001b[1;33m(\u001b[0m\u001b[0mself\u001b[0m\u001b[1;33m)\u001b[0m\u001b[1;33m:\u001b[0m\u001b[1;33m\u001b[0m\u001b[0m\n",
      "\u001b[1;31mTypeError\u001b[0m: 'dict_keys' object does not support indexing"
     ]
    },
    {
     "data": {
      "text/plain": [
       "<matplotlib.figure.Figure at 0x7f2ede0d6828>"
      ]
     },
     "metadata": {},
     "output_type": "display_data"
    }
   ],
   "source": [
    "# Se importa la libreria para utilizar plot\n",
    "# Además se plotea en el própio notebook y no como una ventana nueva\n",
    "%matplotlib inline\n",
    "from pylab import *\n",
    "\n",
    "# Se realiza una gráfica de cantidad de comentarios en función de su clasificación\n",
    "gruposCalificacion = datos.groupby([u'Calificación']).groups\n",
    "keyClasificacion = gruposCalificacion.keys()\n",
    "cantClasificacion = []\n",
    "for k in keyClasificacion:\n",
    "    cantClasificacion.append(len(gruposCalificacion.get(k)))    \n",
    "pos = arange(len(keyClasificacion)) + 0.5 \n",
    "\n",
    "figure(1)\n",
    "barh(pos,cantClasificacion, align='center')\n",
    "yticks(pos, keyClasificacion)\n",
    "xlabel('Cantidad de comentarios')\n",
    "ylabel(u'Clasificación')\n",
    "title(u'Grafica cantidad de comentarios por clasificación')\n",
    "grid(True)\n",
    "show()"
   ]
  },
  {
   "cell_type": "code",
   "execution_count": 6,
   "metadata": {
    "collapsed": false
   },
   "outputs": [
    {
     "name": "stdout",
     "output_type": "stream",
     "text": [
      "\n",
      "Cantidad de comentarios asociados a cada calificación:\n",
      "\n",
      "5    505\n",
      "4    354\n",
      "1    225\n",
      "3    222\n",
      "2    141\n",
      "dtype: int64\n"
     ]
    }
   ],
   "source": [
    "#Se imprime la cantidad de comentarios asociados a cada clase (es decir cantidad de comentarios por calificación)\n",
    "print (\"\\nCantidad de comentarios asociados a cada calificación:\\n\")\n",
    "print (datos.ix[:,7].value_counts())"
   ]
  },
  {
   "cell_type": "code",
   "execution_count": 7,
   "metadata": {
    "collapsed": false
   },
   "outputs": [
    {
     "name": "stdout",
     "output_type": "stream",
     "text": [
      "A continuación se listan los atributos con su tipo asociado:\n",
      "\n",
      "Título          object\n",
      "Año              int64\n",
      "Estrellas        int64\n",
      "Género          object\n",
      "Duración        object\n",
      "Reseña          object\n",
      "ComTexto        object\n",
      "Calificación     int64\n",
      "ComFechaHora    object\n",
      "dtype: object\n"
     ]
    }
   ],
   "source": [
    "print (\"A continuación se listan los atributos con su tipo asociado:\\n\")\n",
    "print (datos.dtypes)"
   ]
  },
  {
   "cell_type": "code",
   "execution_count": 8,
   "metadata": {
    "collapsed": false
   },
   "outputs": [
    {
     "name": "stdout",
     "output_type": "stream",
     "text": [
      "No hay valores faltantes para el tributo Título\n",
      "No hay valores faltantes para el tributo Año\n",
      "No hay valores faltantes para el tributo Estrellas\n",
      "No hay valores faltantes para el tributo Género\n",
      "No hay valores faltantes para el tributo Duración\n",
      "No hay valores faltantes para el tributo Reseña\n",
      "No hay valores faltantes para el tributo ComTexto\n",
      "No hay valores faltantes para el tributo Calificación\n",
      "No hay valores faltantes para el tributo ComFechaHora\n"
     ]
    }
   ],
   "source": [
    "# Se chequea si los atributos poseen o no valores faltantes\n",
    "# Para ello se recorren todos los atributos (columnas de 'datos')\n",
    "for atributo in datos.columns:\n",
    "    \n",
    "    # Se obtiene la cantidad de valores distinto de vacio del atributo \n",
    "    cantValoresAtributo = datos[atributo].describe()['count']\n",
    "    \n",
    "    # Si hay menos que la cantidad de comentarios de 'datos' -> hay valores faltantes\n",
    "    if(cantComentarios > cantValoresAtributo):\n",
    "        print (\"Hay valores faltantes para el atributo \" + atributo)\n",
    "    else:\n",
    "        print (\"No hay valores faltantes para el tributo \" + atributo)"
   ]
  },
  {
   "cell_type": "markdown",
   "metadata": {},
   "source": [
    "### 3. Descartamos columnas innecesarias\n",
    "En esta sección se descartan las columnas (atributos) que se consideran innecesarios. En particular las columnas que creemos se consideran necesarias son solamente las columnas de los comentarios y los puntajes asociados a dichos comentarios. Por lo que se procede a eliminar el resto."
   ]
  },
  {
   "cell_type": "code",
   "execution_count": 9,
   "metadata": {
    "collapsed": false
   },
   "outputs": [
    {
     "name": "stdout",
     "output_type": "stream",
     "text": [
      "                                               ComTexto  Calificación\n",
      "0     Muchas gracias, vi online los primeros 4, lueg...             4\n",
      "1           La mejor serie desde Los Soprano y The Wire             5\n",
      "2     Llega un punto en el que aburre. Es un plato b...             2\n",
      "3     En realidad no es una respuesta , es una corre...             1\n",
      "4     Ahora entiendo menos. El libro en que se basa ...             1\n",
      "5     Una pena desperdiciar un buen elenco y obviame...             1\n",
      "6     MAGISTRAL!! excelente la recreación de época. ...             5\n",
      "7                             es una película mui padre             5\n",
      "8     EXCELENTE! GENIAL! Esperaba ir a ver con mi hi...             5\n",
      "9     Muy, muy buena...para grandes y chicos. Tiene ...             5\n",
      "10    Excelente película, muy original y divertida. ...             5\n",
      "11    Muy buena película, muy graciosa y de humor ba...             4\n",
      "12    Muy linda película. La fui a ver con mi hija, ...             4\n",
      "13    Linda película, buen mensaje y muy buenos efec...             4\n",
      "14    tambien me encanto la pelicula tu comentario e...             5\n",
      "15    la mejor peli que vi no hay ninguna cosa mejor...             5\n",
      "16    Excelente pelicula. Seguramente sea una de las...             4\n",
      "17    Pelicula propaganda. Resumen de la trama: USA ...             1\n",
      "18                        Muy buena pelicula de accion.             4\n",
      "19    Otro film de accion sostenido por Kevin Costne...             2\n",
      "20                Un bayago, no gasten un peso en esto.             1\n",
      "21    Qué nos queda si a Spartacus le sacamos la san...             2\n",
      "22    Bastante entretenida y absolutamente olvidable...             2\n",
      "23    pelicula aburrida en algunas ecsenas pero con ...             3\n",
      "24    Excelente, como todas las películas de Marvel,...             5\n",
      "25                                             la rompe             5\n",
      "26    Excelente pelicula desde todo punto de vistas,...             4\n",
      "27    Cumple sobradamente lo que promete. Y no hablo...             4\n",
      "28    muy buena, pero el 3d aun no esta bien logrado...             4\n",
      "29    Excelente película! Un enfoque distinto a lo q...             5\n",
      "...                                                 ...           ...\n",
      "1417  Me encantó la película, me emocionó hasta el b...             5\n",
      "1418  Aceptable, por momentos conmovedora y emotiva,...             2\n",
      "1419  Tuve la oportunidad de ver la película y me ag...             5\n",
      "1420  A mí la película me gustó mucho. Su realizació...             5\n",
      "1421  Fui al estreno en día de ayer...y la verdad me...             5\n",
      "1422  Excelente. Sin palabras. Una película muy sens...             5\n",
      "1423  Si estás buscando algo distinto esta es la pel...             5\n",
      "1424  Al fin veo una película de la época de la dict...             5\n",
      "1425  Lo siento pero creo que vimos películas comple...             5\n",
      "1426  Véanla!!! No se la pueden perder. Muy interesa...             5\n",
      "1427  La vi anoche, tenía espectativa, una pena, no ...             1\n",
      "1428  Excelente!!! Te mantiene expectante de princip...             5\n",
      "1429  La tres para mi es la mejor, Pero esta buena, ...             3\n",
      "1430  Entretenida, con humor de principio a fin. Ale...             3\n",
      "1431  Buena película de acción, con hermosas vistas ...             4\n",
      "1432  Buena para lo que son las peliculas de aventur...             4\n",
      "1433  Buena pelicula de acción.  Si viste las anteri...             3\n",
      "1434                         Mediocre, no aporta mucho.             2\n",
      "1435  MUY BUENA PELICULA Y MUY ACTUAL DEMUESTRA LO P...             4\n",
      "1436  Esta bien personalmente me gusto ,a pesar que ...             3\n",
      "1437  Aceptable, bien los actores, la trama se basa ...             2\n",
      "1438  Fui con unas amigas, no nos dejaron entrar x n...             1\n",
      "1439  Malísima. No esperaba que fuera mejor que el l...             1\n",
      "1440  me gusto pero no es que me encanto porque la v...             3\n",
      "1441  Lenta. No es lo que esperaba ni mucho menos. L...             1\n",
      "1442                    Mala. Muy lenta. Sin argumento.             2\n",
      "1443  No es buena, pasan 80% de la película introduc...             1\n",
      "1444  Mala. Malísima. No vale ni verla por la tele. ...             1\n",
      "1445  La peor película de Marvel de los últimos tiem...             1\n",
      "1446                                    Qué buenisimo!!             5\n",
      "\n",
      "[1447 rows x 2 columns]\n"
     ]
    }
   ],
   "source": [
    "# Se descartan de 'datos' las columnas innecesarias, dejando solamente los comentarios y sus calificaciones\n",
    "datos.drop(datos.columns[[0,1,2,3,4,5,8]],inplace=True,axis=1)\n",
    "comentarios_peliculas = datos\n",
    "# Se imprime un resumen de los datos\n",
    "print (comentarios_peliculas)"
   ]
  },
  {
   "cell_type": "markdown",
   "metadata": {},
   "source": [
    "### 3. Preprocesamiento de los comentarios\n",
    "El corpus sobre el cual se trabaja puede tener contener datos con ruido en su contenido. Es decir, diversos elementos que están mezclados en el contenido pero que además de no aportar nada a la tarea de clasificación, generan ruido dificultando las tareas posteriores. Para ello entonces se procede a realizar el preprocesamiento de los comentarios."
   ]
  },
  {
   "cell_type": "code",
   "execution_count": 11,
   "metadata": {
    "collapsed": false
   },
   "outputs": [
    {
     "ename": "AttributeError",
     "evalue": "'list' object has no attribute 'ix'",
     "output_type": "error",
     "traceback": [
      "\u001b[1;31m---------------------------------------------------------------------------\u001b[0m",
      "\u001b[1;31mAttributeError\u001b[0m                            Traceback (most recent call last)",
      "\u001b[1;32m<ipython-input-11-cd9ba9c7363f>\u001b[0m in \u001b[0;36m<module>\u001b[1;34m()\u001b[0m\n\u001b[1;32m----> 1\u001b[1;33m \u001b[0mcomentarios_peliculas\u001b[0m \u001b[1;33m=\u001b[0m \u001b[0mutl\u001b[0m\u001b[1;33m.\u001b[0m\u001b[0mconvert_to_list\u001b[0m\u001b[1;33m(\u001b[0m\u001b[0mutl\u001b[0m\u001b[1;33m.\u001b[0m\u001b[0mdepurar_comentarios\u001b[0m\u001b[1;33m(\u001b[0m\u001b[0mcomentarios_peliculas\u001b[0m\u001b[1;33m)\u001b[0m\u001b[1;33m)\u001b[0m\u001b[1;33m\u001b[0m\u001b[0m\n\u001b[0m",
      "\u001b[1;32m/home/fkauffman/Desktop/insumos/utils_pln.py\u001b[0m in \u001b[0;36mdepurar_comentarios\u001b[1;34m(comentarios_peliculas)\u001b[0m\n\u001b[0;32m     31\u001b[0m     \u001b[1;32mfor\u001b[0m \u001b[0mi\u001b[0m \u001b[1;32min\u001b[0m \u001b[0mrange\u001b[0m\u001b[1;33m(\u001b[0m\u001b[1;36m0\u001b[0m\u001b[1;33m,\u001b[0m\u001b[0mlen\u001b[0m\u001b[1;33m(\u001b[0m\u001b[0mcomentarios_peliculas\u001b[0m\u001b[1;33m)\u001b[0m\u001b[1;33m)\u001b[0m\u001b[1;33m:\u001b[0m\u001b[1;33m\u001b[0m\u001b[0m\n\u001b[0;32m     32\u001b[0m     \u001b[1;31m# Se accede a la fila i columna 0 (es decir el valor comentario) y se lo modifica por el mismo modificado\u001b[0m\u001b[1;33m\u001b[0m\u001b[1;33m\u001b[0m\u001b[0m\n\u001b[1;32m---> 33\u001b[1;33m         \u001b[0mcomentarios_peliculas\u001b[0m\u001b[1;33m.\u001b[0m\u001b[0mix\u001b[0m\u001b[1;33m[\u001b[0m\u001b[0mi\u001b[0m\u001b[1;33m,\u001b[0m\u001b[1;36m0\u001b[0m\u001b[1;33m]\u001b[0m \u001b[1;33m=\u001b[0m \u001b[0mcomentarios_peliculas\u001b[0m\u001b[1;33m.\u001b[0m\u001b[0mix\u001b[0m\u001b[1;33m[\u001b[0m\u001b[0mi\u001b[0m\u001b[1;33m,\u001b[0m\u001b[1;36m0\u001b[0m\u001b[1;33m]\u001b[0m\u001b[1;33m.\u001b[0m\u001b[0mstrip\u001b[0m\u001b[1;33m(\u001b[0m\u001b[1;34m' \\t\\n\\r'\u001b[0m\u001b[1;33m)\u001b[0m\u001b[1;33m\u001b[0m\u001b[0m\n\u001b[0m\u001b[0;32m     34\u001b[0m \u001b[1;33m\u001b[0m\u001b[0m\n\u001b[0;32m     35\u001b[0m     \u001b[1;31m# Luego se quitan las etiquetas html de los comentarios\u001b[0m\u001b[1;33m\u001b[0m\u001b[1;33m\u001b[0m\u001b[0m\n",
      "\u001b[1;31mAttributeError\u001b[0m: 'list' object has no attribute 'ix'"
     ]
    }
   ],
   "source": [
    "comentarios_peliculas = utl.convert_to_list(utl.depurar_comentarios(comentarios_peliculas))"
   ]
  },
  {
   "cell_type": "markdown",
   "metadata": {},
   "source": [
    "### 4. Separamos entrenamiento y testeo \n",
    "Una vez de haber llegado a este punto tenemos los datos tokenizados en la variable listaTuplas. Habrá entonces que dividir dicha lista en conjuntos de entrenamiento y testeo, para primero entrenar el algoritmo y luego testearlo.\n",
    "Para poder entrenar y testear un algoritmo de aprendizaje, como se mencionó, es necesario primero particionar los datos en dos conjuntos disjuntos de entrenamiento y testeo. Se separarán aleatoriamente un 20% de los datos para testeo y el 80% restante se utilizará para el entrenamiento. Para esto se utilizó la función train_test_split del paquete cross_validation de sklearn."
   ]
  },
  {
   "cell_type": "code",
   "execution_count": 13,
   "metadata": {
    "collapsed": false,
    "scrolled": false
   },
   "outputs": [],
   "source": [
    "filtroSW = []\n",
    "filtroAC = []\n",
    "\n",
    "dominio_cine_peliculas = open('terminosNoValorativosAmbitoCine.txt').read()\n",
    "palabras_f = utl.palabras_mas_frecuentes(1500,comentarios_peliculas)\n",
    "nltk_stopwords = stopwords.words('spanish')\n",
    "\n",
    "#Aplico distintos filtros a las palabras de los comentarios\n",
    "for i in range(0,len(comentarios_peliculas)):\n",
    "    #elimino stopwords\n",
    "    palabras_frecuentes = [w for w in comentarios_peliculas[i][0].split(\" \") if not w in palabras_f]\n",
    "    filtroSW = [w for w in palabras_frecuentes if not w in nltk_stopwords]\n",
    "    filtroAC = [w for w in filtroSW if not w in dominio_cine_peliculas]\n",
    "    comentarios_peliculas[i] = (\" \".join(filtroAC),comentarios_peliculas[i][1])"
   ]
  },
  {
   "cell_type": "code",
   "execution_count": 14,
   "metadata": {
    "collapsed": false
   },
   "outputs": [
    {
     "name": "stdout",
     "output_type": "stream",
     "text": [
      "1157\n",
      "290\n"
     ]
    }
   ],
   "source": [
    "# Se divide el conjunto de datos en train (80%) y test (20%)\n",
    "datos_train, datos_test = train_test_split(comentarios_peliculas, test_size=0.2)\n",
    "\n",
    "# Se chequean las cantidades de la división\n",
    "print (len(datos_train))\n",
    "print (len(datos_test))"
   ]
  },
  {
   "cell_type": "markdown",
   "metadata": {},
   "source": [
    "### 4. Tokenización\n",
    "En esta sección se realiza el proceso de tokenización de los textos utilizando la biblioteca NLTK. Además se convierte a un formato suceptible para la clasificación. Es decir, se toquenizan los comentarios y se calcula el diccionario de palabras frecuentes del mismo. En base a ello y al valor de clasificación asociado se crea una tupla la cual corresponde al comentario analizado. Luego estas tuplas (una por cada comentario) son la entrada para el entrenamiento del algoritmo Entropía Máxima provisto por NLTK."
   ]
  },
  {
   "cell_type": "code",
   "execution_count": 15,
   "metadata": {
    "collapsed": false
   },
   "outputs": [
    {
     "name": "stdout",
     "output_type": "stream",
     "text": [
      "Muy buena película; volvió Al Pacino pensé nunca iba volver ver. Super recomendable.\n",
      "({';': 1, 'recomendable': 1, 'volver': 1, '.': 2, 'nunca': 1, 'super': 1, 'pacino': 1, 'buena': 1, 'ver': 1, 'muy': 1, 'volvió': 1, 'pensé': 1, 'película': 1, 'iba': 1, 'al': 1}, 'pos')\n"
     ]
    }
   ],
   "source": [
    "# Se imprime el primer comentario junto a su clasificacion\n",
    "print (datos_train[0][0])\n",
    "\n",
    "datos_train = utl.tokenizar_nltk(datos_train)\n",
    "\n",
    "# Si todo esta bien al imprimir el primer elemento de la lista\n",
    "# Se deberia ver el diccionario mas la clasificacion asociada al comentario \n",
    "print (datos_train[0])"
   ]
  },
  {
   "cell_type": "markdown",
   "metadata": {},
   "source": [
    "### 6. Se entrena el algoritmo de máxima entropia y se lo evalua\n",
    "Una vez de tener los datos en un formato aceptable para los algoritmos de entrenamiento y particionado los mismos en test y train, se procede a realizar el entrenamiento del algoritmo de Máxima Entropía. Una vez realizado dicho entrenamiento se procede a evaluarlo."
   ]
  },
  {
   "cell_type": "code",
   "execution_count": 16,
   "metadata": {
    "collapsed": false
   },
   "outputs": [
    {
     "name": "stdout",
     "output_type": "stream",
     "text": [
      "  ==> Training (8 iterations)\n",
      "\n",
      "      Iteration    Log Likelihood    Accuracy\n",
      "      ---------------------------------------\n",
      "             1          -1.09861        0.596\n",
      "             2          -0.70759        0.765\n",
      "             3          -0.55691        0.881\n",
      "             4          -0.46771        0.920\n",
      "             5          -0.40759        0.941\n",
      "             6          -0.36367        0.954\n",
      "             7          -0.32984        0.965\n",
      "         Final          -0.30280        0.968\n"
     ]
    }
   ],
   "source": [
    "# En la siguiente linea se entrena el algoritmo con 7 iteraciones\n",
    "# Obs. El entrenamiento es bastante lento, habría que llegar a un valor de iteraciones adecuado\n",
    "clf_max_ent = nltk.classify.MaxentClassifier.train(datos_train,max_iter=8)"
   ]
  },
  {
   "cell_type": "code",
   "execution_count": 17,
   "metadata": {
    "collapsed": true
   },
   "outputs": [],
   "source": [
    "# Funcion que dada una distribución de probabilidad de las clasificaciones\n",
    "# devuelve la clasificacion que tiene mayor probabilidad\n",
    "def getClasificacion(pdist):\n",
    "    \n",
    "    # Se inicializa la clasificacion\n",
    "    clasificacion = 0;\n",
    "    prob = 0\n",
    "    \n",
    "    # Por cada clasificacion posible, la comparo con la inicializacion\n",
    "    # Me quedo con la mas grande\n",
    "    for i in range(1,6):\n",
    "        if( pdist.prob(i) > prob):\n",
    "            clasificacion = i\n",
    "            prob = pdist.prob(i)\n",
    "\n",
    "    return clasificacion"
   ]
  },
  {
   "cell_type": "code",
   "execution_count": 18,
   "metadata": {
    "collapsed": false
   },
   "outputs": [],
   "source": [
    "def getTasa(clf,datos_test):\n",
    "    # Se define la variable de aciertos\n",
    "    aciertos = 0\n",
    "    \n",
    "    salidaClasificador = []\n",
    "    salida = []\n",
    "\n",
    "    # Para cada comentario del conjunto de testeo se evalua segun el algoritmo entrenado\n",
    "    for comentario in datos_test:\n",
    "\n",
    "        # Se obtiene la clasificacion del algoritmo para el comentario\n",
    "        clasificacion = clf.classify(comentario[0])\n",
    "        salidaClasificador.append(clasificacion)\n",
    "        salida.append(comentario[1])\n",
    "        \n",
    "        # En caso que la clasificacion sea la correcta se aumenta el acierto\n",
    "        if(clasificacion == comentario[1]):\n",
    "            aciertos += 1\n",
    "    \n",
    "    cm = nltk.ConfusionMatrix(salidaClasificador, salida)\n",
    "    print(cm)\n",
    "\n",
    "    return float(aciertos)/len(datos_test)"
   ]
  },
  {
   "cell_type": "code",
   "execution_count": 19,
   "metadata": {
    "collapsed": false,
    "scrolled": true
   },
   "outputs": [
    {
     "name": "stdout",
     "output_type": "stream",
     "text": [
      "    |   n   n   p |\n",
      "    |   e   e   o |\n",
      "    |   g   u   s |\n",
      "----+-------------+\n",
      "neg | <39>  7   5 |\n",
      "neu |   3  <4>  5 |\n",
      "pos |  30  38<159>|\n",
      "----+-------------+\n",
      "(row = reference; col = test)\n",
      "\n",
      "Tase de Max Ent: 0.696551724137931\n"
     ]
    }
   ],
   "source": [
    "print (\"Tase de Max Ent: \" + str(getTasa(clf_max_ent,utl.tokenizar_nltk(datos_test))))"
   ]
  },
  {
   "cell_type": "code",
   "execution_count": 20,
   "metadata": {
    "collapsed": false
   },
   "outputs": [
    {
     "name": "stdout",
     "output_type": "stream",
     "text": [
      "  -4.008 excelente==1 and label is 'neu'\n",
      "   3.907 buenasa==1 and label is 'pos'\n",
      "   3.907 siniestra==1 and label is 'neg'\n",
      "   3.907 divinaa==1 and label is 'pos'\n",
      "   3.907 melor==1 and label is 'pos'\n",
      "   3.907 cool==1 and label is 'pos'\n",
      "   3.907 sarpada==1 and label is 'pos'\n",
      "  -3.199 excelente==1 and label is 'neg'\n",
      "   2.809 good==1 and label is 'pos'\n",
      "   2.793 puntaje==1 and label is 'pos'\n"
     ]
    }
   ],
   "source": [
    "clf_max_ent.show_most_informative_features(10)"
   ]
  },
  {
   "cell_type": "code",
   "execution_count": 27,
   "metadata": {
    "collapsed": true
   },
   "outputs": [],
   "source": [
    "def codificarClasificacionesSubjetivos():\n",
    "    lista = []\n",
    "    for t in elementos_subjetivos:\n",
    "\n",
    "        clasificacion = 'neg'\n",
    "        if elementos_subjetivos[t] == 3:\n",
    "            clasificacion = 'pos'\n",
    "            \n",
    "        lista.append(({t:1},clasificacion))\n",
    "    \n",
    "    return lista\n",
    "\n",
    "def getPositivos():\n",
    "    lista = []\n",
    "    for t in elementos_subjetivos:\n",
    "\n",
    "        #clasificacion = 'neg'\n",
    "        if elementos_subjetivos[t] == 3:\n",
    "            lista.append(t)\n",
    "    \n",
    "    return lista\n",
    "\n",
    "def getNegativos():\n",
    "    lista = []\n",
    "    for t in elementos_subjetivos:\n",
    "\n",
    "        #clasificacion = 'neg'\n",
    "        if elementos_subjetivos[t] != 3:\n",
    "            lista.append(t)\n",
    "    \n",
    "    return lista"
   ]
  },
  {
   "cell_type": "code",
   "execution_count": 28,
   "metadata": {
    "collapsed": false
   },
   "outputs": [],
   "source": [
    "#print(codificarClasificacionesSubjetivos())\n",
    "#clf_max_ent.train(codificarClasificacionesSubjetivos(), max_iter = 7)"
   ]
  },
  {
   "cell_type": "code",
   "execution_count": 29,
   "metadata": {
    "collapsed": false
   },
   "outputs": [],
   "source": [
    "subPositivos = getPositivos()\n",
    "subNegativos = getNegativos()\n"
   ]
  },
  {
   "cell_type": "code",
   "execution_count": 30,
   "metadata": {
    "collapsed": true
   },
   "outputs": [],
   "source": [
    "def atributos(diccionario,SUBP,SUBN):\n",
    "    atributos = {}\n",
    "    cantPositivos = 0\n",
    "    cantNegativos = 0\n",
    "    cantPalabrasNeutras = 0\n",
    "    comentario = list(diccionario.keys())[0]\n",
    "    largoComentario = len(comentario)\n",
    "    #GRAL\n",
    "    \n",
    "    if (largoComentario > 14): \n",
    "        atributos[\"comentario_largo\"]=True\n",
    "        atributos[\"comentario_corto\"]=False\n",
    "    else: \n",
    "        atributos[\"comentario_corto\"]=True\n",
    "        atributos[\"comentario_largo\"]=False\n",
    "\n",
    "    for w in SUBP:\n",
    "        if w in comentario: atributos[w]=True\n",
    "        else: atributos[w]=False\n",
    "        cantPositivos += comentario.count(w)\n",
    "    for w in SUBN:\n",
    "        if w in comentario: atributos[w]=True\n",
    "        else: atributos[w]=False\n",
    "        cantNegativos += comentario.count(w)\n",
    "\n",
    "    #POSITIVOS\n",
    "    if (cantPositivos < 1): atributos[\"hay_Positivos\"] = False\n",
    "    else: atributos[\"hay_Positivos\"] = True\n",
    "\n",
    "    if (cantPositivos > 3): atributos[\"muchos_Positivos\"] = True\n",
    "    else: atributos[\"muchos_Positivos\"] = False\n",
    "\n",
    "    #NEGATIVOS\n",
    "    if (cantNegativos < 1): atributos[\"hay_Negativos\"] = False\n",
    "    else: atributos[\"hay_Negativos\"] = True\n",
    "\n",
    "    if (cantNegativos > 3): atributos[\"muchos_Negativos\"] = True\n",
    "    else: atributos[\"muchos_Negativos\"] = False\n",
    "\n",
    "    #NEUTRAS\n",
    "    for w in comentario:\n",
    "        if ((w not in SUBN) & (w not in SUBP)): \n",
    "            #atributos[w] = 1\n",
    "            cantPalabrasNeutras +=1\n",
    "\n",
    "    if (cantPalabrasNeutras <= 5): atributos[\"pocasPalabrasNeutras\"] = True\n",
    "    else: atributos[\"pocasPalabrasNeutras\"] = False\n",
    "\n",
    "    return atributos\n"
   ]
  },
  {
   "cell_type": "code",
   "execution_count": 31,
   "metadata": {
    "collapsed": false
   },
   "outputs": [
    {
     "ename": "AttributeError",
     "evalue": "'str' object has no attribute 'keys'",
     "output_type": "error",
     "traceback": [
      "\u001b[1;31m---------------------------------------------------------------------------\u001b[0m",
      "\u001b[1;31mAttributeError\u001b[0m                            Traceback (most recent call last)",
      "\u001b[1;32m<ipython-input-31-85c5c7c8cbff>\u001b[0m in \u001b[0;36m<module>\u001b[1;34m()\u001b[0m\n\u001b[1;32m----> 1\u001b[1;33m \u001b[0mtraining_set\u001b[0m \u001b[1;33m=\u001b[0m \u001b[1;33m[\u001b[0m\u001b[1;33m(\u001b[0m\u001b[0matributos\u001b[0m\u001b[1;33m(\u001b[0m\u001b[0mc\u001b[0m\u001b[1;33m,\u001b[0m \u001b[0msubPositivos\u001b[0m\u001b[1;33m,\u001b[0m \u001b[0msubNegativos\u001b[0m\u001b[1;33m)\u001b[0m\u001b[1;33m,\u001b[0m \u001b[0mp\u001b[0m\u001b[1;33m)\u001b[0m \u001b[1;32mfor\u001b[0m \u001b[1;33m(\u001b[0m\u001b[0mc\u001b[0m\u001b[1;33m,\u001b[0m\u001b[0mp\u001b[0m\u001b[1;33m)\u001b[0m \u001b[1;32min\u001b[0m \u001b[0mdatos_train\u001b[0m\u001b[1;33m]\u001b[0m\u001b[1;33m\u001b[0m\u001b[0m\n\u001b[0m",
      "\u001b[1;32m<ipython-input-31-85c5c7c8cbff>\u001b[0m in \u001b[0;36m<listcomp>\u001b[1;34m(.0)\u001b[0m\n\u001b[1;32m----> 1\u001b[1;33m \u001b[0mtraining_set\u001b[0m \u001b[1;33m=\u001b[0m \u001b[1;33m[\u001b[0m\u001b[1;33m(\u001b[0m\u001b[0matributos\u001b[0m\u001b[1;33m(\u001b[0m\u001b[0mc\u001b[0m\u001b[1;33m,\u001b[0m \u001b[0msubPositivos\u001b[0m\u001b[1;33m,\u001b[0m \u001b[0msubNegativos\u001b[0m\u001b[1;33m)\u001b[0m\u001b[1;33m,\u001b[0m \u001b[0mp\u001b[0m\u001b[1;33m)\u001b[0m \u001b[1;32mfor\u001b[0m \u001b[1;33m(\u001b[0m\u001b[0mc\u001b[0m\u001b[1;33m,\u001b[0m\u001b[0mp\u001b[0m\u001b[1;33m)\u001b[0m \u001b[1;32min\u001b[0m \u001b[0mdatos_train\u001b[0m\u001b[1;33m]\u001b[0m\u001b[1;33m\u001b[0m\u001b[0m\n\u001b[0m",
      "\u001b[1;32m<ipython-input-30-dcbb5042f8d8>\u001b[0m in \u001b[0;36matributos\u001b[1;34m(diccionario, SUBP, SUBN)\u001b[0m\n\u001b[0;32m      4\u001b[0m     \u001b[0mcantNegativos\u001b[0m \u001b[1;33m=\u001b[0m \u001b[1;36m0\u001b[0m\u001b[1;33m\u001b[0m\u001b[0m\n\u001b[0;32m      5\u001b[0m     \u001b[0mcantPalabrasNeutras\u001b[0m \u001b[1;33m=\u001b[0m \u001b[1;36m0\u001b[0m\u001b[1;33m\u001b[0m\u001b[0m\n\u001b[1;32m----> 6\u001b[1;33m     \u001b[0mcomentario\u001b[0m \u001b[1;33m=\u001b[0m \u001b[0mlist\u001b[0m\u001b[1;33m(\u001b[0m\u001b[0mdiccionario\u001b[0m\u001b[1;33m.\u001b[0m\u001b[0mkeys\u001b[0m\u001b[1;33m(\u001b[0m\u001b[1;33m)\u001b[0m\u001b[1;33m)\u001b[0m\u001b[1;33m[\u001b[0m\u001b[1;36m0\u001b[0m\u001b[1;33m]\u001b[0m\u001b[1;33m\u001b[0m\u001b[0m\n\u001b[0m\u001b[0;32m      7\u001b[0m     \u001b[0mlargoComentario\u001b[0m \u001b[1;33m=\u001b[0m \u001b[0mlen\u001b[0m\u001b[1;33m(\u001b[0m\u001b[0mcomentario\u001b[0m\u001b[1;33m)\u001b[0m\u001b[1;33m\u001b[0m\u001b[0m\n\u001b[0;32m      8\u001b[0m     \u001b[1;31m#GRAL\u001b[0m\u001b[1;33m\u001b[0m\u001b[1;33m\u001b[0m\u001b[0m\n",
      "\u001b[1;31mAttributeError\u001b[0m: 'str' object has no attribute 'keys'"
     ]
    }
   ],
   "source": [
    "training_set = [(atributos(c, subPositivos, subNegativos), p) for (c,p) in datos_train]"
   ]
  },
  {
   "cell_type": "code",
   "execution_count": 302,
   "metadata": {
    "collapsed": false
   },
   "outputs": [
    {
     "ename": "IndexError",
     "evalue": "list index out of range",
     "output_type": "error",
     "traceback": [
      "\u001b[1;31m---------------------------------------------------------------------------\u001b[0m",
      "\u001b[1;31mIndexError\u001b[0m                                Traceback (most recent call last)",
      "\u001b[1;32m<ipython-input-302-61f3473ccadb>\u001b[0m in \u001b[0;36m<module>\u001b[1;34m()\u001b[0m\n\u001b[1;32m----> 1\u001b[1;33m \u001b[0mtest_set\u001b[0m \u001b[1;33m=\u001b[0m \u001b[1;33m[\u001b[0m\u001b[1;33m(\u001b[0m\u001b[0matributos\u001b[0m\u001b[1;33m(\u001b[0m\u001b[0mc\u001b[0m\u001b[1;33m,\u001b[0m \u001b[0msubPositivos\u001b[0m\u001b[1;33m,\u001b[0m \u001b[0msubNegativos\u001b[0m\u001b[1;33m)\u001b[0m\u001b[1;33m,\u001b[0m \u001b[0mp\u001b[0m\u001b[1;33m)\u001b[0m \u001b[1;32mfor\u001b[0m \u001b[1;33m(\u001b[0m\u001b[0mc\u001b[0m\u001b[1;33m,\u001b[0m\u001b[0mp\u001b[0m\u001b[1;33m)\u001b[0m \u001b[1;32min\u001b[0m \u001b[0mdatos_test\u001b[0m\u001b[1;33m]\u001b[0m\u001b[1;33m\u001b[0m\u001b[0m\n\u001b[0m",
      "\u001b[1;32m<ipython-input-302-61f3473ccadb>\u001b[0m in \u001b[0;36m<listcomp>\u001b[1;34m(.0)\u001b[0m\n\u001b[1;32m----> 1\u001b[1;33m \u001b[0mtest_set\u001b[0m \u001b[1;33m=\u001b[0m \u001b[1;33m[\u001b[0m\u001b[1;33m(\u001b[0m\u001b[0matributos\u001b[0m\u001b[1;33m(\u001b[0m\u001b[0mc\u001b[0m\u001b[1;33m,\u001b[0m \u001b[0msubPositivos\u001b[0m\u001b[1;33m,\u001b[0m \u001b[0msubNegativos\u001b[0m\u001b[1;33m)\u001b[0m\u001b[1;33m,\u001b[0m \u001b[0mp\u001b[0m\u001b[1;33m)\u001b[0m \u001b[1;32mfor\u001b[0m \u001b[1;33m(\u001b[0m\u001b[0mc\u001b[0m\u001b[1;33m,\u001b[0m\u001b[0mp\u001b[0m\u001b[1;33m)\u001b[0m \u001b[1;32min\u001b[0m \u001b[0mdatos_test\u001b[0m\u001b[1;33m]\u001b[0m\u001b[1;33m\u001b[0m\u001b[0m\n\u001b[0m",
      "\u001b[1;32m<ipython-input-300-dcbb5042f8d8>\u001b[0m in \u001b[0;36matributos\u001b[1;34m(diccionario, SUBP, SUBN)\u001b[0m\n\u001b[0;32m      4\u001b[0m     \u001b[0mcantNegativos\u001b[0m \u001b[1;33m=\u001b[0m \u001b[1;36m0\u001b[0m\u001b[1;33m\u001b[0m\u001b[0m\n\u001b[0;32m      5\u001b[0m     \u001b[0mcantPalabrasNeutras\u001b[0m \u001b[1;33m=\u001b[0m \u001b[1;36m0\u001b[0m\u001b[1;33m\u001b[0m\u001b[0m\n\u001b[1;32m----> 6\u001b[1;33m     \u001b[0mcomentario\u001b[0m \u001b[1;33m=\u001b[0m \u001b[0mlist\u001b[0m\u001b[1;33m(\u001b[0m\u001b[0mdiccionario\u001b[0m\u001b[1;33m.\u001b[0m\u001b[0mkeys\u001b[0m\u001b[1;33m(\u001b[0m\u001b[1;33m)\u001b[0m\u001b[1;33m)\u001b[0m\u001b[1;33m[\u001b[0m\u001b[1;36m0\u001b[0m\u001b[1;33m]\u001b[0m\u001b[1;33m\u001b[0m\u001b[0m\n\u001b[0m\u001b[0;32m      7\u001b[0m     \u001b[0mlargoComentario\u001b[0m \u001b[1;33m=\u001b[0m \u001b[0mlen\u001b[0m\u001b[1;33m(\u001b[0m\u001b[0mcomentario\u001b[0m\u001b[1;33m)\u001b[0m\u001b[1;33m\u001b[0m\u001b[0m\n\u001b[0;32m      8\u001b[0m     \u001b[1;31m#GRAL\u001b[0m\u001b[1;33m\u001b[0m\u001b[1;33m\u001b[0m\u001b[0m\n",
      "\u001b[1;31mIndexError\u001b[0m: list index out of range"
     ]
    }
   ],
   "source": [
    "test_set = [(atributos(c, subPositivos, subNegativos), p) for (c,p) in datos_test]"
   ]
  },
  {
   "cell_type": "code",
   "execution_count": null,
   "metadata": {
    "collapsed": false
   },
   "outputs": [],
   "source": [
    "clf_max_ent = nltk.classify.MaxentClassifier.train(training_set,max_iter=7)\n",
    "print(nltk.classify.accuracy(clf_max_ent, test_set))\n",
    "clf_max_ent.show_most_informative_features()"
   ]
  },
  {
   "cell_type": "code",
   "execution_count": null,
   "metadata": {
    "collapsed": false
   },
   "outputs": [],
   "source": [
    "salidaClasificador = []\n",
    "salida = []\n",
    "for c in test_set:\n",
    "    salidaClasificador.append(clf_max_ent.classify(c[0]))\n",
    "    salida.append(c[1])\n",
    "\n",
    "cm = nltk.ConfusionMatrix(salidaClasificador, salida)\n",
    "print(cm)\n"
   ]
  },
  {
   "cell_type": "code",
   "execution_count": null,
   "metadata": {
    "collapsed": true
   },
   "outputs": [],
   "source": []
  },
  {
   "cell_type": "code",
   "execution_count": null,
   "metadata": {
    "collapsed": true
   },
   "outputs": [],
   "source": []
  },
  {
   "cell_type": "code",
   "execution_count": null,
   "metadata": {
    "collapsed": true
   },
   "outputs": [],
   "source": []
  },
  {
   "cell_type": "code",
   "execution_count": null,
   "metadata": {
    "collapsed": true
   },
   "outputs": [],
   "source": []
  },
  {
   "cell_type": "code",
   "execution_count": null,
   "metadata": {
    "collapsed": true
   },
   "outputs": [],
   "source": []
  }
 ],
 "metadata": {
  "kernelspec": {
   "display_name": "Python 3",
   "language": "python",
   "name": "python3"
  },
  "language_info": {
   "codemirror_mode": {
    "name": "ipython",
    "version": 3
   },
   "file_extension": ".py",
   "mimetype": "text/x-python",
   "name": "python",
   "nbconvert_exporter": "python",
   "pygments_lexer": "ipython3",
   "version": "3.4.3"
  }
 },
 "nbformat": 4,
 "nbformat_minor": 0
}
