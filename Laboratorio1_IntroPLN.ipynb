{
 "cells": [
  {
   "cell_type": "code",
   "execution_count": 217,
   "metadata": {
    "collapsed": false
   },
   "outputs": [],
   "source": [
    "# Se importan las librerias correspondientes\n",
    "import nltk\n",
    "import pandas\n",
    "import numpy as np\n",
    "import re\n",
    "import ast"
   ]
  },
  {
   "cell_type": "markdown",
   "metadata": {},
   "source": [
    "### 1. Importamos el corpus de comentarios\n",
    "\n",
    "Pandas es una biblioteca de código abierto implementada en Python la cual permite realizar una fácil manipulación y análisis de los datos.\n",
    "Ésta se utilizó para cargar los datos en memoria y realizar un breve análisis de los mismos."
   ]
  },
  {
   "cell_type": "code",
   "execution_count": 218,
   "metadata": {
    "collapsed": false
   },
   "outputs": [],
   "source": [
    "def diccionarioElementosSubjetivos(archivoElementosSubjetivos):\n",
    "    positivosRaw = open(archivoElementosSubjetivos).read()\n",
    "    positivosRaw = positivosRaw.replace(u'\\ufeff', '')\n",
    "    positivosRaw = positivosRaw.replace('elementoSubjetivo','')\n",
    "    positivosRaw = positivosRaw.strip()\n",
    "    regex = re.compile(r\"%.*\\n\", re.IGNORECASE | re.MULTILINE)\n",
    "    positivosRaw = re.sub(regex,'',positivosRaw)\n",
    "    regex = re.compile(r\"\\)(.[^\\)\\(]|\\s[^\\)\\(])*\\(\",re.IGNORECASE | re.MULTILINE)\n",
    "    positivosRaw = re.sub(regex,').(',positivosRaw)\n",
    "    arregloPositivos = positivosRaw.split('.')\n",
    "    #Saco punto final\n",
    "    tope = len(arregloPositivos) -1\n",
    "    arregloPositivos.pop(tope)\n",
    "    tuplas = ()\n",
    "    #Voy a tener un diccionario palabra:valor\n",
    "    for tupla in arregloPositivos:\n",
    "        #print(ast.literal_eval(tupla))\n",
    "        tuplas = tuplas + (ast.literal_eval(tupla.strip()),)\n",
    "    \n",
    "    #print (tuplas)\n",
    "    diccionario = dict(tuplas)\n",
    "    return diccionario"
   ]
  },
  {
   "cell_type": "code",
   "execution_count": 257,
   "metadata": {
    "collapsed": false
   },
   "outputs": [
    {
     "name": "stdout",
     "output_type": "stream",
     "text": [
      "{'retraso': -3, 'secret': -3, 'pieza': -3, 'aburrido': -3, 'catastrofes': -3, 'decadente': -3, 'trastorno': -3, 'aprender': 3, 'turbulencia': -3, 'protestar': -3, 'temible': -3, 'cuenta': -3, 'medio': -3, 'inmóvil': -3, 'solo': -3, 'libertad': 3, 'imprecisión': -3, 'obesidad': -3, 'vehemente': -3, 'confesión': -3, 'desconocido': -3, 'precipicio': -3, 'inutilidad': -3, 'júbilo': 3, 'jactarse': -3, 'pánico': -3, 'bullet': -3, 'gruñido': -3, 'reparto': -3, 'malaria': -3, 'destruir': -3, 'vanidoso': -3, 'matanza': -3, 'perjuicio': -3, 'excepción': -3, 'adulteración': -3, 'deprimir': -3, 'tarifa': -3, 'emboscada': -3, 'invisible': -3, 'lujo': 3, 'quebrar': -3, 'cadáver': -3, 'impopulares': -3, 'calvario': -3, 'pesimismo': -3, 'agonizar': -3, 'rastrear': -3, 'esconder': -3, 'recesión': -3, 'abstener': -3, 'intrusión': -3, 'bomba': -3, 'cazador': -3, 'guerra': -3, 'desenfadado': 3, 'venenosos': -3, 'cárcel': -3, 'insignificante': -3, 'melodía': 3, 'amigo': 3, 'generoso': 3, 'terrorista': -3, 'contemptuous': -3, 'cascada': 3, 'sore': -3, 'perra': -3, 'cerdo': -3, 'hermano': 3, 'desorganizada': -3, 'tosquedad': -3, 'gripe': -3, 'opinión': 3, 'azarosa': -3, 'suspensión': -3, 'abyectos': -3, 'estricto': -3, 'restringir': -3, 'insecto': -3, 'desear': -3, 'tensar': -3, 'desterrar': -3, 'asediar': -3, 'atrevido': 3, 'torpe': -3, 'increible': -3, 'redundancia': -3, 'honesto': 3, 'feo': -3, 'decorar': 3, 'licenciado': 3, 'apologético': -3, 'enojo': -3, 'necesidad': -3, 'colapso': -3, 'piojo': -3, 'agotamiento': -3, 'confiables': -3, 'enajenación': -3, 'frente': -3, 'peor': -3, 'falsedad': -3, 'resentido': -3, 'hastío': -3, 'exponer': -3, 'engañosas': -3, 'vándalo': -3, 'sueño': 3, 'lamentable': -3, 'pusilánime': -3, 'clamoroso': -3, 'traumático': -3, 'alba': 3, 'ejército': -3, 'orgasmo': 3, 'frígido': -3, 'senil': -3, 'inexacto': -3, 'crimen': -3, 'alardear': -3, 'calambre': -3, 'víctima': -3, 'perplejidad': -3, 'asustado': -3, 'acechar': -3, 'ciego': -3, 'rage': -3, 'rencor': -3, 'enfadado': -3, 'océano': 3, 'deficiencia': -3, 'sabor': 3, 'doble': -3, 'basto': -3, 'abrazo': 3, 'desastroso': -3, 'rebelión': -3, 'rude': -3, 'decepcionar': -3, 'vaciar': -3, 'luchar': -3, 'litigantes': -3, 'desagrado': -3, 'incivil': -3, 'repugnante': -3, 'horrible': -3, 'afectación': -3, 'defecto': -3, 'superación': -3, 'resistencia': -3, 'amigable': 3, 'exterminio': -3, 'bajo': -3, 'invadir': -3, 'disgusto': -3, 'acusación': -3, 'disturbios': -3, 'complicación': -3, 'persona': 3, 'ausencia': -3, 'reto': -3, 'insano': -3, 'fuerte': 3, 'mal': -3, 'autócrata': -3, 'espina': -3, 'desafiar': -3, 'insatisfacción': -3, 'oposición': -3, 'tonterías': -3, 'intelecto': 3, 'asqueroso': -3, 'imaginar': 3, 'detalle': 3, 'vida': 3, 'veneno': -3, 'belicoso': -3, 'fraudulenta': -3, 'expiatorio': -3, 'exterior': 3, 'socorro': -3, 'injustificada': -3, 'íntimo': 3, 'correo': 3, 'renuncia': -3, 'angustiado': -3, 'perdido': -3, 'expediente': -3, 'negativo': -3, 'inmuebles': -3, 'burla': -3, 'maravilla': 3, 'gratuito': -3, 'peste': -3, 'pronunciación': -3, 'bebida': 3, 'desconcierto': -3, 'vulgar': -3, 'ruinosa': -3, 'mortal': -3, 'sarampión': -3, 'interés': 3, 'artificial': -3, 'entusiasmo': 3, 'asalto': -3, 'piel': 3, 'confundir': -3, 'carnicería': -3, 'enclenque': -3, 'despreciar': -3, 'desmoralizar': -3, 'segregacion': -3, 'caricia': 3, 'orquesta': 3, 'ruido': -3, 'roña': -3, 'escrúpulos': -3, 'absurdo': -3, 'incompetencia': -3, 'monja': -3, 'censure': -3, 'bulto': -3, 'tornado': -3, 'educación': 3, 'hambruna': -3, 'ceguera': -3, 'bebé': 3, 'dispensar': -3, 'ánimo': 3, 'excelencia': 3, 'exagerar': -3, 'denegación': -3, 'prestigio': 3, 'dominante': -3, 'justicia': 3, 'lóbrego': -3, 'vagabundos': -3, 'chocolate': 3, 'crítico': -3, 'agravar': -3, 'examinar': -3, 'sofocar': -3, 'indecente': -3, 'encerrar': -3, 'costo': -3, 'brillante': 3, 'irresponsabilidad': -3, 'trágico': -3, 'repulsivo': -3, 'agresor': -3, 'caramelo': 3, 'perplejidades': -3, 'penoso': -3, 'estruendo': -3, 'tonto': -3, 'alegar': -3, 'amor': 3, 'aburrimiento': -3, 'mundo': 3, 'santo': -3, 'mantener': -3, 'inmoralidad': -3, 'lucha': -3, 'estiércol': -3, 'apagar': -3, 'prision': -3, 'imprudente': -3, 'suprimir': -3, 'imprevistos': -3, 'cara': 3, 'rezongar': -3, 'sancionar': -3, 'blasfemia': -3, 'paloma': 3, 'ampolla': -3, 'antipatía': -3, 'injuriar': -3, 'bueno': 3, 'limitación': -3, 'reprochar': -3, 'basura': -3, 'enojado': -3, 'represalias': -3, 'histérico': -3, 'erode': -3, 'vampiro': -3, 'impuros': -3, 'indecisión': -3, 'bala': -3, 'inundar': -3, 'cariñoso': 3, 'bañera': 3, 'fiebre': -3, 'pacotilla': -3, 'calumnioso': -3, 'atracador': -3, 'voluble': -3, 'inferior': -3, 'pelear': -3, 'mentiroso': -3, 'destacamento': -3, 'espinoso': -3, 'vestido': 3, 'frustrado': -3, 'porquería': -3, 'mugre': -3, 'estúpido': -3, 'fatigado': -3, 'nudo': -3, 'golpear': -3, 'dormir': 3, 'inanición': -3, 'silvestres': -3, 'congestión': -3, 'inexperto': -3, 'engreído': -3, 'abominable': -3, 'escéptico': -3, 'crisis': -3, 'curso': -3, 'atrocidad': -3, 'distraer': -3, 'advertir': -3, 'envidia': -3, 'atrofia': -3, 'excusa': -3, 'ilegalidad': -3, 'neutralizar': -3, 'infeliz': -3, 'suicidio': -3, 'escasez': -3, 'pájaro': 3, 'temor': -3, 'identidad': 3, 'refugiado': -3, 'violín': 3, 'boicot': -3, 'epíteto': -3, 'derogación': -3, 'hundir': -3, 'planta': 3, 'perverso': -3, 'enfrentar': -3, 'fraude': -3, 'ruina': -3, 'simplista': -3, 'evadir': -3, 'ladrón': -3, 'mujer': 3, 'dificultar': -3, 'estupor': -3, 'ghetto': -3, 'eliminación': -3, 'negro': -3, 'descomponer': -3, 'intolerable': -3, 'agoreras': -3, 'independientemente': -3, 'escandaloso': -3, 'sustitución': -3, 'sentencia': -3, 'hosco': -3, 'parásito': -3, 'fatiga': -3, 'grueso': -3, 'fed': -3, 'usurpar': -3, 'daño': -3, 'temeroso': -3, 'caducidad': -3, 'enjuiciamiento': -3, 'tenso': -3, 'retrasado': -3, 'indeterminable': -3, 'desconcertar': -3, 'agravamiento': -3, 'plaga': -3, 'desplazar': -3, 'ponzoña': -3, 'graduado': 3, 'ahogarse': -3, 'jubiloso': 3, 'deshonor': -3, 'deplorables': -3, 'rotonda': -3, 'síntoma': -3, 'exquisito': 3, 'perjudiciales': -3, 'quebradizos': -3, 'inhumano': -3, 'cortesía': 3, 'piojos': -3, 'capaz': 3, 'abrasador': -3, 'diploma': 3, 'maníaco': -3, 'ayuno': -3, 'indifference': -3, 'grasa': -3, 'exasperación': -3, 'ático': 3, 'incompatible': -3, 'rata': -3, 'interceptación': -3, 'agobiado': -3, 'colusión': -3, 'desconfiar': -3, 'negligencia': -3, 'seguro': 3, 'incómodo': -3, 'castigo': -3, 'subir': -3, 'baladronada': -3, 'excitado': 3, 'malicia': -3, 'sedentario': -3, 'liquidar': -3, 'lento': -3, 'mendigo': -3, 'trofeo': 3, 'convencido': 3, 'moody': -3, 'cruel': -3, 'displease': -3, 'campo': 3, 'egoísmo': -3, 'superflua': -3, 'sucumbe': -3, 'defensa': -3, 'retrasar': -3, 'implicar': -3, 'principiante': -3, 'inaccesible': -3, 'odioso': -3, 'follón': -3, 'agitador': -3, 'fiables': -3, 'pradera': 3, 'defendido': 3, 'bum': -3, 'raíz': -3, 'limo': -3, 'suspender': -3, 'vigilancia': -3, 'histeria': -3, 'sábana': -3, 'supersticioso': -3, 'cuchillo': -3, 'turbulento': -3, 'impulsivo': -3, 'bostezo': -3, 'insolencia': -3, 'inoportuno': -3, 'disgustado': -3, 'genial': 3, 'fatal': -3, 'jubilar': -3, 'alerta': -3, 'banal': -3, 'concurso': -3, 'faneca': -3, 'robo': -3, 'queer': -3, 'regresión': -3, 'selección': -3, 'humilde': 3, 'definido': -3, 'dumb': -3, 'oprimir': -3, 'obligar': -3, 'caliente': -3, 'regañar': -3, 'ganar': 3, 'heridas': -3, 'congestionadas': -3, 'alboroto': -3, 'fallar': -3, 'tullido': -3, 'quemadura': -3, 'gestión': -3, 'ferocidad': -3, 'falter': -3, 'embrollo': -3, 'sonajero': 3, 'abrumado': -3, 'venom': -3, 'corazón': 3, 'inconsistencia': -3, 'flagrante': -3, 'revuelta': -3, 'constraint': -3, 'progreso': 3, 'intimidante': -3, 'diluvio': -3, 'manipular': -3, 'censor': -3, 'discutible': -3, 'realismo': -3, 'violatorio': -3, 'agujero': -3, 'lánguido': -3, 'cementerio': -3, 'rechazado': -3, 'asolando': -3, 'tabú': -3, 'esposo': 3, 'improcedentes': -3, 'idiota': -3, 'insalubres': -3, 'tirar': -3, 'morir': -3, 'tiranía': -3, 'pandemonium': -3, 'sabotaje': -3, 'pecado': -3, 'comida': 3, 'aplausos': 3, 'escaramuza': -3, 'piedad': -3, 'pretencioso': -3, 'dizzy': -3, 'vetar': -3, 'pareja': 3, 'demoler': -3, 'sensible': -3, 'impasible': -3, 'remordimiento': -3, 'regalo': 3, 'sinopsis': -3, 'seda': 3, 'austera': -3, 'pecaminoso': -3, 'denegar': -3, 'estudio': -3, 'mágico': 3, 'engaño': -3, 'desagradecido': -3, 'foe': -3, 'resistir': -3, 'accidente': -3, 'evasion': -3, 'alegre': 3, 'diablo': -3, 'rozar': -3, 'traición': -3, 'avanzar': -3, 'esperanza': 3, 'sordera': -3, 'farsa': -3, 'sucio': -3, 'triste': -3, 'infiltración': -3, 'hongo': -3, 'oblicuo': -3, 'cansar': -3, 'erradicar': -3, 'hedonista': -3, 'enredar': -3, 'torpeza': -3, 'inconveniente': -3, 'odio': -3, 'violento': -3, 'furioso': -3, 'desigualdad': -3, 'súplica': -3, 'discrimina': -3, 'modesto': 3, 'daga': -3, 'asediado': -3, 'ramo': 3, 'tic': -3, 'césped': 3, 'llorar': -3, 'crónico': -3, 'penetrar': -3, 'ganancias': 3, 'contrabando': -3, 'oferta': -3, 'tardío': -3, 'temer': -3, 'desempleados': -3, 'denunciar': -3, 'infección': -3, 'destructivas': -3, 'decadencia': -3, 'melancolía': -3, 'retirada': -3, 'recompensa': 3, 'demandado': -3, 'insatisfactorio': -3, 'retroceder': -3, 'ocaso': 3, 'nebuloso': -3, 'inundación': -3, 'llevar': -3, 'desolado': -3, 'alarma': -3, 'harto': -3, 'inane': -3, 'aplicar': -3, 'agitar': -3, 'inadvertido': -3, 'cieno': -3, 'acogedor': 3, 'celos': -3, 'perseguir': -3, 'gente': 3, 'termita': -3, 'vencido': -3, 'demanda': -3, 'escopeta': -3, 'tumba': -3, 'caballo': 3, 'desprecio': -3, 'reprimir': -3, 'corrupción': -3, 'rasgados': -3, 'sabio': 3, 'revólver': -3, 'anhelar': -3, 'impotencia': -3, 'cielo': 3, 'hipocresía': -3, 'palacio': 3, 'apuros': -3, 'inspirado': 3, 'insensible': -3, 'fusil': -3, 'imperfecta': -3, 'indisciplinado': -3, 'rayo': -3, 'desafortunado': -3, 'descanso': 3, 'pintura': 3, 'avaro': -3, 'irregular': -3, 'presuntuoso': -3, 'lunático': -3, 'debilidad': -3, 'atacar': -3, 'ordenado': 3, 'conmiseración': -3, 'piedra': -3, 'conspirar': -3, 'cena': 3, 'derrocar': -3, 'suciedad': -3, 'vagabond': -3, 'esotérico': -3, 'satisfacción': 3, 'yate': 3, 'pobreza': -3, 'rebelde': -3, 'castigar': -3, 'barrera': -3, 'araña': -3, 'negligentes': -3, 'imprevisible': -3, 'puño': -3, 'abuso': -3, 'reprensión': -3, 'incomodidad': -3, 'desconfianza': -3, 'tristeza': -3, 'snob': -3, 'ropa': 3, 'sexo': 3, 'clamor': -3, 'asesinar': -3, 'entrometido': -3, 'contaminar': -3, 'dentista': -3, 'importancia': -3, 'pasta': 3, 'obtener': -3, 'carroña': -3, 'vómito': -3, 'engañar': -3, 'soga': -3, 'puta': -3, 'victoria': 3, 'ilegal': -3, 'turbio': -3, 'dolor_de_cabeza': -3, 'escorpión': -3, 'quemaduras': -3, 'severidad': -3, 'parálisis': -3, 'soledad': -3, 'aborrecer': -3, 'anormal': -3, 'ambigüedad': -3, 'fractura': -3, 'rivalidad': -3, 'padre': 3, 'desarmar': -3, 'mito': -3, 'reacción': -3, 'muerte': -3, 'ruptura': -3, 'bungle': -3, 'afligen': -3, 'hostilidad': -3, 'agradecido': 3, 'mutilar': -3, 'interferencia': -3, 'aterrorizado': -3, 'desenfrenada': -3, 'colonia': -3, 'ofensivo': -3, 'desorden': -3, 'deploramos': -3, 'anomalía': -3, 'bestial': -3, 'esclavo': -3, 'gatito': 3, 'peso': -3, 'presentimiento': -3, 'indignación': -3, 'cinismo': -3, 'pesimista': -3, 'somnolencia': -3, 'despiadado': -3, 'arrastrar': -3, 'funeral': -3, 'dañar': -3, 'disturb': -3, 'capturar': -3, 'exceso': -3, 'calumniador': -3, 'asolado': -3, 'solterona': -3, 'dominación': -3, 'violar': -3, 'demasiado': -3, 'insulto': -3, 'atroz': -3, 'infestar': -3, 'disturbio': -3, 'perdedor': -3, 'talento': 3, 'masacre': -3, 'tedioso': -3, 'plomo': -3, 'anti-social': -3, 'sarmiento': -3, 'avergonzado': -3, 'jar': -3, 'hipócrita': -3, 'desfavorecidas': -3, 'humano': 3, 'golpe': -3, 'ironía': -3, 'impureza': -3, 'confort': 3, 'peligroso': -3, 'partición': -3, 'primitivo': -3, 'guapa': 3, 'notorio': -3, 'libre': 3, 'favor': 3, 'guillotina': -3, 'iglesia': -3, 'censura': -3, 'escorbuto': -3, 'juventud': 3, 'ineffectualness': -3, 'preocupar': -3, 'satisfecho': 3, 'gloria': 3, 'deportes': 3, 'barrer': -3, 'conspirador': -3, 'impetuoso': -3, 'estridente': -3, 'calamidad': -3, 'ineficiencia': -3, 'miedoso': -3, 'perfección': 3, 'exilio': -3, 'rogar': -3, 'joya': 3, 'cumpleaños': 3, 'arbitrario': -3, 'infectar': -3, 'desacuerdo': -3, 'quitter': -3, 'pezón': 3, 'coercitivas': -3, 'trauma': -3, 'mortificar': -3, 'aguja': -3, 'falso ': -3, 'comprometido': 3, 'manejar': -3, 'escándalo': -3, 'mano': 3, 'objeto': -3, 'gruñir': -3, 'feroces': -3, 'bruta': -3, 'deshonestos': -3, 'depreciarse': -3, 'ídolo': 3, 'retreat': -3, 'fascista': -3, 'mandamiento': -3, 'sospechoso': -3, 'barato': -3, 'tumor': -3, 'antagonista': -3, 'vicioso': -3, 'peculiar': -3, 'aprobación': 3, 'serpiente': -3, 'ácido': -3, 'bullicioso': -3, 'caníbal': -3, 'amenazar': -3, 'negación': -3, 'excomunión': -3, 'ejecución': -3, 'acurrucarse': 3, 'arrogante': -3, 'demonio': -3, 'orfandad': -3, 'dilema': -3, 'traspasar': -3, 'bien': 3, 'feudo': -3, 'mucosidad': -3, 'bastón': -3, 'innecesario': -3, 'sumisión': -3, 'degenerada': -3, 'colisión': -3, 'embriagar': -3, 'particular': -3, 'provocar': -3, 'acuerdo': 3, 'brutalidad': -3, 'admirado': 3, 'acostumbrar': -3, 'barra': -3, 'apático': -3, 'néctar': 3, 'jardín': 3, 'misiles': -3, 'trato': -3, 'explotar': -3, 'marca': -3, 'privacidad': 3, 'encoger': -3, 'incorrecto': -3, 'defectuoso': -3, 'círculo': -3, 'radio': 3, 'fangosos': -3, 'contra': -3, 'pellizco': -3, 'problema': -3, 'desorientado': -3, 'miope': -3, 'viruela': -3, 'necesitar': -3, 'corroer': -3, 'escaso': -3, 'disipación': -3, 'milagro': 3, 'dicha': 3, 'agilidad': 3, 'arte': 3, 'contradicción': -3, 'estropear': -3, 'edge': -3, 'crédulo': -3, 'crueldad': -3, 'mancha': -3, 'endebles': -3, 'peligro': -3, 'jovial': 3, 'mishap': -3, 'paraíso': 3, 'insidioso': -3, 'desigual': -3, 'excesivo': -3, 'marginal': -3, 'coito': 3, 'manosear': -3, 'odiar': -3, 'interrupción': -3, 'riqueza': 3, 'competidor': -3, 'látigo': -3, 'jerk': -3, 'costa': 3, 'infiel': -3, 'incurable': -3, 'choque': -3, 'prisión': -3, 'deseo': 3, 'desaliento': -3, 'cólera': -3, 'ceño': -3, 'granada': -3, 'fallecimiento': -3, 'arriesgar': -3, 'coste': -3, 'oscurecer': -3, 'conducta': -3, 'perecer': -3, 'inteligencia': -3, 'magdalena': 3, 'detestar': -3, 'inhibición': -3, 'arrogancia': -3, 'engreimiento': -3, 'monstruoso': -3, 'pesadilla': -3, 'arresto': -3, 'beligerante': -3, 'conflicto': -3, 'miseria': -3, 'subyugar': -3, 'exento': -3, 'negar': -3, 'infantil': -3, 'bastardo': -3, 'aventura': 3, 'hierro': -3, 'misery': -3, 'desventaja': -3, 'asqueado': -3, 'curar': 3, 'modelo': -3, 'enérgico': 3, 'arco': -3, 'irónico': -3, 'impar': -3, 'musaraña': -3, 'despectivo': -3, 'conocimiento': 3, 'malestar': -3, 'herido': -3, 'anulación': -3, 'exclusión': -3, 'tranquilo': 3, 'impresionado': 3, 'arrugar': -3, 'régimen': -3, 'arma': -3, 'preocupación': -3, 'desordenado': -3, 'menace': -3, 'tormento': -3, 'campeón': 3, 'comedia': 3, 'deuda': -3, 'inseguro': -3, 'insinuar': -3, 'limp': -3, 'desarraigar': -3, 'gérmenes': -3, 'explosivo': -3, 'tergiversar': -3, 'perfume': 3, 'vicio': -3, 'pulsador': -3, 'pretensión': -3, 'matar': -3, 'capitular': -3, 'abandonado': -3, 'rabia': -3, 'innoble': -3, 'err': -3, 'corruptas': -3, 'cama': 3, 'agresivo': -3, 'manipulación': -3, 'salvedad': -3, 'furcia': -3, 'rival': -3, 'controversia': -3, 'inmaduro': -3, 'laboriosamente': -3, 'brisa': 3, 'duro': -3, 'toque': -3, 'obsesión': -3, 'contradicen': -3, 'oponer': -3, 'malvado': -3, 'laicos': -3, 'dolencia': -3, 'demandante': -3, 'cuerpo': 3, 'considerado': 3, 'escapar': -3, 'hambre': -3, 'avispa': -3, 'prohibición': -3, 'indefenso': -3, 'ambiguo': -3, 'grotesco': -3, 'degradar': -3, 'afortunado': 3, 'dull': -3, 'altercación': -3, 'madre': 3, 'sufrimiento': -3, 'nieve': 3, 'éxito': 3, 'abundancia': 3, 'novio': 3, 'socavar': -3, 'adicción': -3, 'rifle': -3, 'frustración': -3, 'revolución': -3, 'antinatural': -3, 'vergüenza': -3, 'humillar': -3, 'inevitable': -3, 'condescendencia': -3, 'hacker': -3, 'obsequio': 3, 'estupidez': -3, 'contrarrestar': -3, 'omisión': -3, 'amputar': -3, 'ambivalentes': -3, 'escoria': -3, 'homicida': -3, 'reptil': -3, 'avaricia': -3, 'melodramático': -3, 'corrupto': -3, 'nerviosismo': -3, 'obstinado': -3, 'acusar': -3, 'horror': -3, 'agresión': -3, 'obsceno': -3, 'casa': 3, 'desacato': -3, 'sorprendido': 3, 'esclavizar': -3, 'falseamiento': -3, 'falsear': -3, 'distracción': -3, 'disuasión': -3, 'bombardeo': -3, 'terrible': -3, 'cavernas': -3, 'entrometerse': -3, 'cansado': -3, 'relajado': 3, 'chico': 3, 'mischief': -3, 'libro': 3, 'romper': -3, 'altivo': -3, 'magistral': 3, 'forjar': -3, 'dedicado': 3, 'desamparado': -3, 'entierro': -3, 'febril': -3, 'mosquito': -3, 'gusano': -3, 'solitario': -3, 'frantic': -3, 'huir': -3, 'contagiosa': -3, 'inspirar': 3, 'tragedia': -3, 'mina': -3, 'puntapié': -3, 'fuerza': -3, 'almohada': 3, 'impaciencia': -3, 'descenso': -3, 'decepción': -3, 'perezoso': -3, 'infamous': -3, 'excluir': -3, 'contrario': -3, 'respetuoso': 3, 'sed': -3, 'juego': 3, 'impersonal': -3, 'leyenda': 3, 'cicatriz': -3, 'zanja': -3, 'señuelo': -3, 'controvertido': -3, 'abejas': -3, 'común': -3, 'erótico': 3, 'úlcera': -3, 'fallo': -3, 'materia': -3, 'fruncir': -3, 'espada': -3, 'fobia': -3, 'desempleo': -3, 'extinto': -3, 'desastre': -3, 'provocación': -3, 'desgaste': -3, 'disfraz': -3, 'digno': 3, 'ejecucion': -3, 'incalificable': -3, 'confusión': -3, 'monotonía': -3, 'inquieto': -3, 'pueblo': 3, 'zafiro': 3, 'coche': 3, 'rebel': -3, 'ultimátum': -3, 'restar': -3, 'hermoso': 3, 'lástima': -3, 'divorcio': -3, 'sumiso': -3, 'soborno': -3, 'fingir': -3, 'agrio': -3, 'esguince': -3, 'enfrentamiento': -3, 'seethe': -3, 'dictar': -3, 'poesía': 3, 'sífilis': -3, 'venenoso': -3, 'infierno': -3, 'amenaza': -3, 'obstaculizar': -3, 'empleo': 3, 'suplemento': -3, 'agua': 3, 'impuesto': -3, 'sombrío': -3, 'abrasivos': -3, 'boda': 3, 'discordia': -3, 'alienación': -3, 'desechado': -3, 'delirium': -3, 'perturbar': -3, 'egoístas': -3, 'descarado': -3, 'descorazonar': -3, 'restaurante': 3, 'sangría': -3, 'aborto': -3, 'desesperado': -3, 'frustrar': -3, 'primavera': 3, 'sarcasmo': -3, 'intervención': -3, 'neurótico': -3, 'vertedero': -3, 'privación': -3, 'riña': -3, 'indefinido': -3, 'ofender': -3, 'molesto': -3, 'fabricación': -3, 'desafío': -3, 'renunciar': -3, 'virtud': 3, 'deprimido': -3, 'vergonzoso': -3, 'refutar': -3, 'adversas': -3, 'frívolo': -3, 'brutal': -3, 'mejorar': 3, 'antagonismo': -3, 'anarquista': -3, 'disentimiento': -3, 'brusco': -3, 'abandonar': -3, 'delincuente': -3, 'hiriente': -3, 'estrella': 3, 'carrera': -3, 'condescendiente': -3, 'duda': -3, 'alegaciones': -3, 'monster': -3, 'repulse': -3, 'ingratitud': -3, 'guardería': 3, 'insolente': -3, 'calidad': 3, 'duelo': -3, 'amanecer': 3, 'crucificar': -3, 'fugarse': -3, 'mascota': 3, 'dissatisfy': -3, 'familia': 3, 'abyecta': -3, 'receso': -3, 'queja': -3, 'robar': -3, 'fracaso': -3, 'bancarrota': -3, 'soportar': -3, 'hambriento': -3, 'despilfarro': -3, 'ensalada': 3, 'erar': -3, 'indeciso': -3, 'lluvia': -3, 'guapo': 3, 'lotería': 3, 'dividir': -3, 'estatica': -3, 'nutrir': 3, 'natural': 3, 'saludar': 3, 'mente': 3, 'languidecer': -3, 'delincuencia': -3, 'calmar': 3, 'huelga': -3, 'liquidación': -3, 'sequía': -3, 'rígido': -3, 'penetración': -3, 'asco': -3, 'diamante': 3, 'deforme': -3, 'calumnia': -3, 'imponer': -3, 'implacable': -3, 'lesión': -3, 'menosprecio': -3, 'bestia': -3, 'confuso': -3, 'zurra': -3, 'incentivo': 3, 'eufórico': 3, 'estrangular': -3, 'pesaroso': -3, 'sangriento': -3, 'fatalista': -3, 'goce': 3, 'refriega': -3, 'precipitar': -3, 'descontento': -3, 'antieconómica': -3, 'jaqueca': -3, 'coacción': -3, 'débil': -3, 'terror': -3, 'incumplimiento': -3, 'gangrena': -3, 'balbucear': -3, 'cabeza': -3, 'retroceso': -3, 'deber': -3, 'derrota': -3, 'guerrero': -3, 'sexy': 3, 'podrir': -3, 'ocultar': -3, 'chillido': -3, 'inducir': -3, 'vengar': -3, 'espuma': 3, 'honor': 3, 'inadaptados': -3, 'fiesta': 3, 'optimismo': 3, 'locura': -3, 'cucaracha': -3, 'aislar': -3, 'tarde': -3, 'retener': -3, 'aterrorizar': -3, 'frágil': -3, 'cruz': -3, 'retardo': -3, 'desesperar': -3, 'interferir': -3, 'enemigo': -3, 'volcán': -3, 'recalcitrantes': -3, 'travieso': -3, 'fastidiar': -3, 'ventaja': 3, 'incumplido': -3, 'furia': -3, 'infracción': -3, 'soleado': 3, 'avión': 3, 'handicap': -3, 'propaganda': -3, 'adicto': -3, 'prisionero': -3, 'freak': -3, 'desdén': -3, 'rehén': -3, 'opción': 3, 'amabilidad': 3, 'desertor': -3, 'frenéticamente': -3, 'competencia': -3, 'mess': -3, 'diabólico': -3, 'visión': 3, 'circo': 3, 'estrés': -3, 'culpa': -3, 'cancel': -3, 'ordenar': -3, 'soso': -3, 'jittery': -3, 'preparar': -3, 'ingenio': 3, 'despedazar': -3, 'desproporcionados': -3, 'desaprobación': -3, 'ración': -3, 'destierro': -3, 'inhibir': -3, 'ahorrar': 3, 'dependencia': -3, 'depravado': -3, 'desobediencia': -3, 'crepe': 3, 'ansiedad': -3, 'pobre': -3, 'deshacer': -3, 'trampa': -3, 'obsoleto': -3, 'contaminación': -3, 'esperar': -3, 'obstinadamente': -3, 'obstaculiza': -3, 'nocivo': -3, 'olvido': -3, 'complicar': -3, 'dependiente': -3, 'presión': -3, 'irritar': -3, 'desmoronarse': -3, 'paralizar': -3, 'irritable': -3, 'lepra': -3, 'impropios': -3, 'estufa': 3, 'confiscar': -3, 'gato': 3, 'censurable': -3, 'cuestionable': -3, 'dungeon': -3, 'breve': -3, 'narcótico': -3, 'obstáculo': -3, 'excentricidad': -3, 'navidad': 3, 'playa': 3, 'incomprensión': -3, 'jagged': -3, 'fiasco': -3, 'satisfacer': -3, 'amargo': -3, 'demente': -3, 'áspero': -3, 'desfavorable': -3, 'consternación': -3, 'careen': -3, 'descomposición': -3, 'frío': -3, 'antagónicos': -3, 'engorrosos': -3, 'cerrar': -3, 'inmovilidad': -3, 'discriminación': -3, 'inestable': -3, 'fabricar': -3, 'desacreditar': -3, 'incompetente': -3, 'inmoral': -3, 'diabolical': -3, 'reaccionarias': -3, 'despreciable': -3, 'traicionar': -3, 'horde': -3, 'molestar': -3, 'mareado': -3, 'incredulidad': -3, 'agitación': -3, 'escaldaduras': -3, 'aniquilar': -3, 'litigio': -3, 'florecer': 3, 'eludir': -3, 'lago': 3, 'someter': -3, 'malo': -3, 'bruja': -3, 'temporalmente': -3, 'hostil': -3, 'portar': -3, 'desesperación': -3, 'naive': -3, 'humillación': -3, 'glare': -3, 'estigma': -3, 'incapacidad': -3, 'antagonizar': -3, 'revenge': -3, 'importante': 3, 'bizarro': -3, 'útil': 3, 'ayuda': -3, 'maldad': -3, 'flecha': -3, 'dispensability': -3, 'complicidad': -3, 'pesar': -3, 'equivocar': -3, 'despegue': -3, 'batalla': -3, 'aburrir': -3, 'enamorado': 3, 'difícil': -3, 'niño': 3, 'cobertura': -3, 'malezas': -3, 'nene': 3, 'callejón': -3, 'intimidar': -3, 'suburbio': -3, 'dilatar': -3, 'ambulancia': -3, 'concentrado': 3, 'falso': -3, 'fantasía': 3, 'cuidado': -3, 'deserción': -3, 'opresivo': -3, 'volatilidad': -3, 'baño': 3, 'retard': -3, 'volcar': -3, 'museo': 3, 'autocrático': -3, 'prohibir': -3, 'platija': -3, 'heroína': -3, 'hotel': 3, 'simpático': 3, 'amonestar': -3, 'estremecerse': -3, 'pus': -3, 'millonario': 3, 'predeterminado': -3, 'complejidad': -3, 'deudor': -3, 'acritud': -3, 'fuego': -3, 'analfabetos': -3, 'pistola': -3, 'ciclón': -3, 'adulterar': -3, 'romántico': 3, 'fidget': -3, 'abdicar': -3, 'cautividad': -3, 'rash': -3, 'sorpresa': -3, 'famélico': -3, 'relámpago': -3, 'siniestro': -3, 'respeto': 3, 'penosamente': -3, 'velero': 3, 'transgredir': -3, 'distanciado': -3, 'leal': 3, 'dawdle': -3, 'secreto': -3, 'disminuir': -3, 'prevención': -3, 'indebida': -3, 'ira': -3, 'derramar': -3, 'absoluto': -3, 'movilidad': 3, 'contradictorio': -3, 'indiferente': -3, 'qualm': -3, 'desviación': -3, 'volátiles': -3, 'desierto': -3, 'dopaje': -3, 'ronquido': -3, 'suerte': -3, 'asolar': -3, 'desperdicio': -3, 'malicioso': -3, 'tentación': -3, 'memoria': 3, 'pena': -3, 'infelicidad': -3, 'homicidio': -3, 'encanto': 3, 'azúcar': 3, 'asaltar': -3, 'rumor': -3, 'dificultad': -3, 'pervertido': -3, 'adinerado': 3, 'discordante': -3, 'irracional': -3, 'tierno': 3, 'indeterminado': -3, 'corrosión': -3, 'herida': -3, 'usar': -3, 'aplastado': -3, 'pitón': -3, 'equívoca': -3, 'perplex': -3, 'prófugo': -3, 'mordedura': -3, 'invasión': -3, 'canción': 3, 'blandir': -3, 'moho': -3, 'avalancha': -3, 'crepúsculo': 3, 'bar': 3, 'afecto': 3, 'bandido': -3, 'objeción': -3, 'mentira': -3, 'amado': 3, 'fofo': -3, 'peleador': -3, 'alcohólico': -3, 'viajes': 3, 'cazar': -3, 'exterminar': -3, 'espacio': 3, 'terquedad': -3, 'combatiente': -3, 'loco': -3, 'pervert': -3, 'aprensivo': -3, 'declive': -3, 'maligno': -3, 'enfermizo': -3, 'ineficaz': -3, 'imprudencia': -3, 'costoso': -3, 'girar': -3, 'crédulos': -3, 'paz': 3, 'estancado': -3, 'riguroso': -3, 'fuga': -3, 'recuadro': -3, 'defiant': -3, 'bofetada': -3, 'conmoción': -3, 'árbol': 3, 'restricción': -3, 'desventurado': -3, 'desalojar': -3, 'fanático': -3, 'inocente': 3, 'pregunta': -3, 'sol': 3, 'sordo': -3, 'ausentar': -3, 'enfermedad': -3, 'insuficiencia': -3, 'mariposa': 3, 'hombre': 3, 'rancio': -3, 'arruga': -3, 'flemón': -3, 'lloriqueo': -3, 'caprichoso': -3, 'conejo': 3, 'vencedor': 3, 'tímido': -3, 'culpable': -3, 'fiend': -3, 'resentir': -3, 'enfado': -3, 'vano': -3, 'desperdiciar': -3, 'manía': -3, 'tóxico': -3, 'depreciación': -3, 'guiño': 3, 'traicionero': -3, 'agresividad': -3, 'angustia': -3, 'liberación': 3, 'sobrecogido': -3, 'adorable': 3, 'tormenta': -3, 'terrorismo': -3, 'zopenco': -3, 'revisión': -3, 'vivo': 3, 'crudo': -3, 'atónito': -3, 'maldito': -3, 'gordo': -3, 'disputar': -3, 'precaria': -3, 'piso': -3, 'lidiar': -3, 'perder': -3, 'residuos': -3, 'podrido': -3, 'rigor': -3, 'detest': -3, 'inflamar': -3, 'inestabilidad': -3, 'subvertir': -3, 'desgracia': -3, 'roto': -3, 'arranque': -3, 'difamar': -3, 'carta': 3, 'adversario': -3, 'naturaleza': 3, 'chantaje': -3, 'chase': -3, 'fascinar': 3, 'rentable': -3, 'tabaco': -3, 'mutación': -3, 'incesante': -3, 'beso': 3, 'complejo': -3, 'protegido': 3, 'novia': 3, 'ineficacia': -3, 'victimismo': -3, 'bloque': -3, 'sentimiento': 3, 'desolación': -3, 'esperanzado': 3, 'cobarde': -3, 'festivo': 3, 'caos': -3, 'servicio': -3, 'confinamiento': -3, 'joven': 3, 'empeorar': -3, 'perdigón': -3, 'cataclismo': -3, 'inútil': -3, 'ilícita': -3, 'enajenar': -3, 'eliminar': -3, 'bache': -3, 'inseguridad': -3, 'sociable': 3, 'pelea': -3, 'impedimento': -3, 'dedo': -3, 'inesperadamente': -3, 'rat': -3, 'animosidad': -3, 'bailarín': 3, 'tanque': -3, 'secesión': -3, 'invitación': 3, 'culpar': -3, 'tarta': 3, 'rezagado': -3, 'testarudo': -3, 'orden': -3, 'inadaptación': -3, 'infructuoso': -3, 'quo': -3, 'color': 3, 'nublado': -3, 'gozar': -3, 'limitar': -3, 'gélido': -3, 'atractivo': -3, 'exótico': -3, 'amortiguador': -3, 'chafe': -3, 'irritación': -3, 'recuerdos': 3, 'jactancioso': -3, 'grosero': -3, 'verde': 3, 'irresponsable': -3, 'abaratar': -3, 'faltar': -3, 'subversión': -3, 'lament': -3, 'moretón': -3, 'caótico': -3, 'collide': -3, 'menospreciar': -3, 'rebelion': -3, 'destrucción': -3, 'música': 3, 'prohibitivas': -3, 'tomar': -3, 'perezosamente': -3, 'devastación': -3, 'nasty': -3, 'desanimado': -3, 'ligero': -3, 'holgazán': -3, 'deleite': 3, 'dictatorial': -3, 'caída': -3, 'distante': -3, 'violación': -3, 'doloroso': -3, 'rufián': -3, 'burlar': -3, 'anarquía': -3, 'déficit': -3, 'irrisión': -3, 'disolución': -3, 'miserable': -3, 'fragancia': 3, 'motley': -3, 'putrefacto': -3, 'aplastamiento': -3, 'sujeción': -3, 'diversion': -3, 'vulnerable': -3, 'desdicha': -3, 'armar': -3, 'agotar': -3, 'downcast': -3, 'división': -3, 'bombardear': -3, 'oxidado': -3, 'blanco': 3, 'pleito': -3, 'fatigoso': -3, 'decomiso': -3, 'rugosidad': -3, 'radiante': 3, 'guise': -3, 'cierre': -3, 'acosar': -3, 'formidable': -3, 'desbordar': -3, 'resentirse': -3, 'enfermo': -3, 'indigentes': -3, 'moneda': 3, 'ratero': -3, 'fétido': -3, 'erosión': -3, 'as': 3, 'pistoleros': -3, 'consuntivos': -3, 'oro': 3, 'mix': -3, 'depresión': -3, 'desaprueba': -3, 'perjudicar': -3, 'desglose': -3, 'discrepant': -3, 'cebar': -3, 'feliz': 3, 'sorna': -3, 'moral': 3, 'advertencia': -3, 'tensión': -3, 'pizza': 3, 'ociosidad': -3, 'desobedientes': -3, 'tiburón': -3, 'boxeador': -3, 'dinero': 3, 'ilógico': -3, 'travesura': 3, 'superficialidad': -3, 'triunfante': 3, 'timidez': -3, 'vanidad': -3, 'avergonzar': -3, 'penal': -3, 'conspiración': -3, 'invasor': -3, 'caminar': -3, 'corrosivo': -3, 'obedecer': -3, 'pendenciero': -3, 'río': 3, 'misunderstood': -3, 'borracho': -3, 'extradición': -3, 'hedor': -3, 'pantano': -3, 'ausente': -3, 'catódica': -3, 'injusto': -3, 'mentir': -3, 'afligido': -3, 'diversión': 3, 'menoscabaría': -3, 'complicado': -3, 'explosión': -3, 'dominar': -3, 'estremecer': -3, 'adversidad': -3, 'maltrato': -3, 'ofensores': -3, 'salvador': 3, 'diferir': -3, 'desleal': -3, 'encarcelar': -3, 'queroseno': -3, 'exasperar': -3, 'alto': -3, 'insoportable': -3, 'desdeñoso': -3, 'ruidoso': -3, 'apatía': -3, 'herir': -3, 'traidor': -3, 'cojear': -3, 'traumas': -3, 'suave': 3, 'asesino': -3, 'quisquilloso': -3, 'emergencia': -3, 'conejito': 3, 'servir': -3, 'rapto': -3, 'implorar': -3, 'indebido': -3, 'involuntarias': -3, 'rencoroso': -3, 'placer': 3, 'cultivar': -3, 'risa': 3, 'secar': -3, 'grave': -3, 'oscuridad': -3, 'azul': 3, 'rescate': 3, 'abatir': -3, 'impotente': -3, 'elegante': 3, 'muleta': -3, 'máquina': -3, 'enfurecer': -3, 'huracán': -3, 'hospital': -3, 'morgue': -3, 'límite': -3, 'verdad': 3, 'sostener': -3, 'chivo': -3, 'desinformar': -3, 'amable': 3, 'omitir': -3, 'grito': -3, 'fugaz': -3, 'coaccionar': -3, 'paranoico': -3, 'abrumador': -3, 'cáncer': -3, 'oscuro': -3, 'incompatibilidad': -3, 'vacación': 3, 'pinchazo': -3, 'increíble': -3, 'ataúd': -3, 'recaer': -3, 'supervisión': -3, 'feudal': -3, 'adulterio': -3, 'sufrir': -3, 'espantoso': -3, 'aprovechar': -3, 'bristle': -3, 'desinterés': -3, 'falta': -3, 'expulsar': -3, 'enfurecido': -3, 'ataque': -3, 'molestia': -3, 'poco': -3, 'capital': -3, 'fácil': 3, 'epidemia': -3, 'montaña': 3, 'indignar': -3, 'ridículo': -3, 'aversión': -3, 'inquietud': -3, 'merodear': -3, 'perturbación': -3, 'triunfo': 3, 'vago': -3, 'cachorro': 3, 'afectar': -3, 'trivial': -3, 'hundimiento': -3, 'egoísta': -3, 'violencia': -3, 'superficial': -3, 'anticuado': -3, 'aire': 3, 'belleza': 3, 'radical': -3, 'incapaz': -3, 'mundano': -3, 'patético': -3, 'insuficiente': -3, 'hogar': 3, 'pérdida': -3, 'chiste': 3, 'aflicción': -3, 'competir': -3, 'humor': 3, 'perro': 3, 'vulnerabilidad': -3, 'detracción': -3, 'devastar': -3, 'raid': -3, 'ángel': 3, 'gemir': -3, 'opresión': -3, 'cheater': -3, 'asustar': -3, 'inferioridad': -3, 'salud  ': 3, 'detestable': -3, 'reconocido': 3, 'comer': 3, 'muñeca': 3, 'judicial': -3, 'fundador': -3, 'jurar': -3, 'cansancio': -3, 'ignorancia': -3, 'mob': -3, 'extravagantes': -3, 'pisotear': -3, 'monótono': -3, 'naufragio': -3, 'vaguedad': -3, 'inexplicable': -3, 'escritor': 3, 'agonía': -3, 'flor': 3, 'arco-iris': 3, 'carga': -3, 'otoño': -3, 'vacilar': -3, 'cínico': -3, 'amargura': -3, 'película': 3, 'nervioso': -3, 'fiabilidad': -3, 'subyugación': -3, 'execute': -3, 'criminal': -3, 'servidumbre': -3, 'dudoso': -3, 'casita': 3, 'indulge': -3, 'anómalo': -3, 'multa': -3, 'efectivo': 3, 'pastel': 3, 'cañón': -3, 'asfixiarse': -3, 'tolerante': 3, 'revocar': -3, 'tobogán': 3, 'dump': -3, 'inquietante': -3, 'estallar': -3, 'incluso': -3, 'vacilación': -3, 'inflación': -3, 'nubes': 3, 'persecución': -3, 'cirugía': -3, 'muerto': -3, 'cancelación': -3, 'rascal': -3, 'impaciente': -3, 'mediocre': -3, 'revolcarse': -3, 'estancamiento': -3, 'rebut': -3, 'irónica': -3, 'superstición': -3, 'desalentar': -3, 'firmamento': 3, 'gravoso': -3, 'ansioso': -3, 'irregularidad': -3, 'deficiente': -3, 'confesar': -3, 'sospechar': -3, 'reactivo': -3, 'disidencia': -3, 'feroz': -3, 'liar': -3, 'mishandle': -3, 'desprovisto': -3, 'logro': 3, 'tieso': -3, 'finta': -3, 'idea': 3, 'desviar': -3, 'secuestrar': -3, 'mostrar': -3, 'desagradable': -3, 'confianza': 3, 'descuidar': -3, 'represión': -3, 'dolor': -3, 'sanguinario': -3, 'valiente': 3, 'vehículo': 3, 'detener': -3, 'gasto': -3, 'error': -3, 'serio': -3, 'erróneo': -3, 'tortura': -3, 'incordio': -3, 'revolucionario': -3, 'pomposo': -3, 'harras': -3, 'peril': -3, 'miedo': -3, 'anular': -3, 'saludo': 3, 'aurora': 3, 'intruso': -3, 'extraordinario': 3, 'infligir': -3, 'ignorar': -3, 'desilusión': -3, 'orina': -3, 'reducir': -3, 'desaparición': -3, 'maleducado': -3, 'oportunidad': 3, 'borrar': -3, 'pasión': 3, 'neutralización': -3, 'corte': -3, 'excéntricas': -3, 'redundante': -3, 'tesoro': 3, 'juguete': 3, 'indolentes': -3}\n"
     ]
    }
   ],
   "source": [
    "# Se carga en 'datos' el archivo csv en memoria\n",
    "datos = pandas.read_csv(\"comentarios_peliculas.csv\", skiprows=1, delimiter=';', skip_blank_lines=True, encoding='utf-8')\n",
    "\n",
    "elementos_subjetivos = diccionarioElementosSubjetivos(\"elementos_subjetivos.txt\")\n",
    "print (elementos_subjetivos)"
   ]
  },
  {
   "cell_type": "markdown",
   "metadata": {},
   "source": [
    "### 2. Características del corpus\n",
    "Para conocer acerca del corpus sobre el cual se trabajará se realiza un breve análisis de los datos. Para ello se obtiene la cantidad de filas y columnas que el dataset posee; donde las filas corresponden a los comentarios y las columnas a los atributos asociados a los mismos. Por otro lado se obtiene la cantidad de peliculas del corpus, la cantidad de comentarios para cada película, en el que se realiza un ploteo, entre otros. A su vez se listan esos atributos junto a su tipo asociado. Una vez hecho esto se procede a chequear de que los atributos de los comentarios tengan o no valores faltantes, ya que en caso de tenerlos hay que tomar una decisión en base a que hacer con los mismos (existen varias técnicas para este tratamiento). "
   ]
  },
  {
   "cell_type": "code",
   "execution_count": 220,
   "metadata": {
    "collapsed": false
   },
   "outputs": [
    {
     "name": "stdout",
     "output_type": "stream",
     "text": [
      "Hay una cantidad de 127 películas en el corpus.\n",
      "El corpus posee 1447 comentarios con 9 atributos por cada uno de ellos.\n",
      "\n",
      "Cantidad de comentarios asociados a cada película:\n",
      "\n",
      "Relatos salvajes                                      69\n",
      "A 60 km/h                                             55\n",
      "Mr. Kaplan                                            49\n",
      "Cincuenta sombras de Grey                             46\n",
      "Sin hijos                                             41\n",
      "El Gran Hotel Budapest                                36\n",
      "23 segundos                                           35\n",
      "Intensa-Mente                                         32\n",
      "Directo al corazón                                    28\n",
      "El planeta de los simios: confrontación               26\n",
      "Tus padres volverán                                   26\n",
      "Betibú                                                24\n",
      "Maléfica                                              21\n",
      "Guardianes de la Galaxia                              21\n",
      "Noé                                                   21\n",
      "Luna de miel en familia                               21\n",
      "Bajo la misma estrella                                20\n",
      "La dama de oro                                        20\n",
      "Avant                                                 20\n",
      "Mundo Jurásico                                        20\n",
      "Operación Monumento                                   20\n",
      "Cómo entrenar a tu dragón 2                           20\n",
      "Búsqueda implacable 3                                 20\n",
      "Avengers: era de Ultrón                               19\n",
      "El padre de Gardel                                    18\n",
      "Las aventuras de Peabody y Sherman                    18\n",
      "Rápidos y furiosos 7                                  18\n",
      "Mad Max: furia en el camino                           18\n",
      "Non-Stop: sin escalas                                 18\n",
      "Divergente                                            17\n",
      "                                                      ..\n",
      "Lugares oscuros                                        4\n",
      "Dos locas en fuga                                      3\n",
      "Los 4 Fantásticos                                      3\n",
      "Osos                                                   3\n",
      "Pompeii                                                3\n",
      "La leyenda de Hércules                                 3\n",
      "Código Sombra: Jack Ryan                               3\n",
      "Violetta: En Concierto                                 3\n",
      "Poltergeist: juegos diabólicos                         3\n",
      "Las novias de mis amigos                               2\n",
      "Cine Arte del Sodre - Los Musicales                    2\n",
      "Cine Arte del Sodre - Cine de Matinée                  2\n",
      "Plano Americano: charlas entre cineastas uruguayos     2\n",
      "Resucitados                                            2\n",
      "Cobain - Montage of Heck                               2\n",
      "True Detective                                         2\n",
      "McFarland: Sin límites                                 1\n",
      "Cineclub CCE - Lo diferente no es peor                 1\n",
      "15 Festival Internacional de Escuelas de Cine          1\n",
      "La Pedrera Short Film Festival #11                     1\n",
      "La Murga, ópera popular                                1\n",
      "1ª Muestra de Avant Premières de Cine Francés          1\n",
      "Muppets 2: los más buscados                            1\n",
      "Heredero del diablo                                    1\n",
      "In-actividad paranormal                                1\n",
      "Aviones 2: equipo de rescate                           1\n",
      "Cine Arte del Sodre: Los Musicales 2                   1\n",
      "El viaje más largo                                     1\n",
      "Domingos Cerrados – Cine y Gastronomía                 1\n",
      "Un golpe de talento                                    1\n",
      "dtype: int64\n"
     ]
    }
   ],
   "source": [
    "# Se obtiene cantidad peliculas, de comentarios y cantidad de atributos\n",
    "cantPeliculas = len(datos.ix[:,0].unique())\n",
    "cantComentarios = len(datos.index)\n",
    "cantAtributos = len(datos.columns)\n",
    "\n",
    "# Se imprimen los datos obtenidos anteriormente junto a sus tipos de datos\n",
    "print (\"Hay una cantidad de \" + str(cantPeliculas) + \" películas en el corpus.\")\n",
    "print (\"El corpus posee \" + str(cantComentarios) + \" comentarios con \" + str(cantAtributos) + \" atributos por cada uno de ellos.\")\n",
    "\n",
    "# Se imprime la cantidad de comentarios para cada pelicula\n",
    "print (\"\\nCantidad de comentarios asociados a cada película:\\n\")\n",
    "print (datos.ix[:,0].value_counts())"
   ]
  },
  {
   "cell_type": "code",
   "execution_count": 221,
   "metadata": {
    "collapsed": false
   },
   "outputs": [
    {
     "ename": "TypeError",
     "evalue": "'dict_keys' object does not support indexing",
     "output_type": "error",
     "traceback": [
      "\u001b[1;31m---------------------------------------------------------------------------\u001b[0m",
      "\u001b[1;31mTypeError\u001b[0m                                 Traceback (most recent call last)",
      "\u001b[1;32m<ipython-input-221-0f1e2cd5c7ab>\u001b[0m in \u001b[0;36m<module>\u001b[1;34m()\u001b[0m\n\u001b[0;32m     14\u001b[0m \u001b[0mfigure\u001b[0m\u001b[1;33m(\u001b[0m\u001b[1;36m1\u001b[0m\u001b[1;33m)\u001b[0m\u001b[1;33m\u001b[0m\u001b[0m\n\u001b[0;32m     15\u001b[0m \u001b[0mbarh\u001b[0m\u001b[1;33m(\u001b[0m\u001b[0mpos\u001b[0m\u001b[1;33m,\u001b[0m\u001b[0mcantClasificacion\u001b[0m\u001b[1;33m,\u001b[0m \u001b[0malign\u001b[0m\u001b[1;33m=\u001b[0m\u001b[1;34m'center'\u001b[0m\u001b[1;33m)\u001b[0m\u001b[1;33m\u001b[0m\u001b[0m\n\u001b[1;32m---> 16\u001b[1;33m \u001b[0myticks\u001b[0m\u001b[1;33m(\u001b[0m\u001b[0mpos\u001b[0m\u001b[1;33m,\u001b[0m \u001b[0mkeyClasificacion\u001b[0m\u001b[1;33m)\u001b[0m\u001b[1;33m\u001b[0m\u001b[0m\n\u001b[0m\u001b[0;32m     17\u001b[0m \u001b[0mxlabel\u001b[0m\u001b[1;33m(\u001b[0m\u001b[1;34m'Cantidad de comentarios'\u001b[0m\u001b[1;33m)\u001b[0m\u001b[1;33m\u001b[0m\u001b[0m\n\u001b[0;32m     18\u001b[0m \u001b[0mylabel\u001b[0m\u001b[1;33m(\u001b[0m\u001b[1;34mu'Clasificación'\u001b[0m\u001b[1;33m)\u001b[0m\u001b[1;33m\u001b[0m\u001b[0m\n",
      "\u001b[1;32m/home/fkauffman/anaconda3/lib/python3.4/site-packages/matplotlib/pyplot.py\u001b[0m in \u001b[0;36myticks\u001b[1;34m(*args, **kwargs)\u001b[0m\n\u001b[0;32m   1634\u001b[0m     \u001b[1;32melif\u001b[0m \u001b[0mlen\u001b[0m\u001b[1;33m(\u001b[0m\u001b[0margs\u001b[0m\u001b[1;33m)\u001b[0m\u001b[1;33m==\u001b[0m\u001b[1;36m2\u001b[0m\u001b[1;33m:\u001b[0m\u001b[1;33m\u001b[0m\u001b[0m\n\u001b[0;32m   1635\u001b[0m         \u001b[0mlocs\u001b[0m \u001b[1;33m=\u001b[0m \u001b[0max\u001b[0m\u001b[1;33m.\u001b[0m\u001b[0mset_yticks\u001b[0m\u001b[1;33m(\u001b[0m\u001b[0margs\u001b[0m\u001b[1;33m[\u001b[0m\u001b[1;36m0\u001b[0m\u001b[1;33m]\u001b[0m\u001b[1;33m)\u001b[0m\u001b[1;33m\u001b[0m\u001b[0m\n\u001b[1;32m-> 1636\u001b[1;33m         \u001b[0mlabels\u001b[0m \u001b[1;33m=\u001b[0m \u001b[0max\u001b[0m\u001b[1;33m.\u001b[0m\u001b[0mset_yticklabels\u001b[0m\u001b[1;33m(\u001b[0m\u001b[0margs\u001b[0m\u001b[1;33m[\u001b[0m\u001b[1;36m1\u001b[0m\u001b[1;33m]\u001b[0m\u001b[1;33m,\u001b[0m \u001b[1;33m**\u001b[0m\u001b[0mkwargs\u001b[0m\u001b[1;33m)\u001b[0m\u001b[1;33m\u001b[0m\u001b[0m\n\u001b[0m\u001b[0;32m   1637\u001b[0m     \u001b[1;32melse\u001b[0m\u001b[1;33m:\u001b[0m \u001b[1;32mraise\u001b[0m \u001b[0mTypeError\u001b[0m\u001b[1;33m(\u001b[0m\u001b[1;34m'Illegal number of arguments to yticks'\u001b[0m\u001b[1;33m)\u001b[0m\u001b[1;33m\u001b[0m\u001b[0m\n\u001b[0;32m   1638\u001b[0m     \u001b[1;32mif\u001b[0m \u001b[0mlen\u001b[0m\u001b[1;33m(\u001b[0m\u001b[0mkwargs\u001b[0m\u001b[1;33m)\u001b[0m\u001b[1;33m:\u001b[0m\u001b[1;33m\u001b[0m\u001b[0m\n",
      "\u001b[1;32m/home/fkauffman/anaconda3/lib/python3.4/site-packages/matplotlib/axes/_base.py\u001b[0m in \u001b[0;36mset_yticklabels\u001b[1;34m(self, labels, fontdict, minor, **kwargs)\u001b[0m\n\u001b[0;32m   2931\u001b[0m         \"\"\"\n\u001b[0;32m   2932\u001b[0m         return self.yaxis.set_ticklabels(labels, fontdict,\n\u001b[1;32m-> 2933\u001b[1;33m                                          minor=minor, **kwargs)\n\u001b[0m\u001b[0;32m   2934\u001b[0m \u001b[1;33m\u001b[0m\u001b[0m\n\u001b[0;32m   2935\u001b[0m     \u001b[1;32mdef\u001b[0m \u001b[0mxaxis_date\u001b[0m\u001b[1;33m(\u001b[0m\u001b[0mself\u001b[0m\u001b[1;33m,\u001b[0m \u001b[0mtz\u001b[0m\u001b[1;33m=\u001b[0m\u001b[1;32mNone\u001b[0m\u001b[1;33m)\u001b[0m\u001b[1;33m:\u001b[0m\u001b[1;33m\u001b[0m\u001b[0m\n",
      "\u001b[1;32m/home/fkauffman/anaconda3/lib/python3.4/site-packages/matplotlib/axis.py\u001b[0m in \u001b[0;36mset_ticklabels\u001b[1;34m(self, ticklabels, *args, **kwargs)\u001b[0m\n\u001b[0;32m   1563\u001b[0m             \u001b[1;32mif\u001b[0m \u001b[0mi\u001b[0m \u001b[1;33m<\u001b[0m \u001b[0mlen\u001b[0m\u001b[1;33m(\u001b[0m\u001b[0mticklabels\u001b[0m\u001b[1;33m)\u001b[0m\u001b[1;33m:\u001b[0m\u001b[1;33m\u001b[0m\u001b[0m\n\u001b[0;32m   1564\u001b[0m                 \u001b[1;32mif\u001b[0m \u001b[0mtick\u001b[0m\u001b[1;33m.\u001b[0m\u001b[0mlabel1On\u001b[0m\u001b[1;33m:\u001b[0m\u001b[1;33m\u001b[0m\u001b[0m\n\u001b[1;32m-> 1565\u001b[1;33m                     \u001b[0mtick\u001b[0m\u001b[1;33m.\u001b[0m\u001b[0mlabel1\u001b[0m\u001b[1;33m.\u001b[0m\u001b[0mset_text\u001b[0m\u001b[1;33m(\u001b[0m\u001b[0mticklabels\u001b[0m\u001b[1;33m[\u001b[0m\u001b[0mi\u001b[0m\u001b[1;33m]\u001b[0m\u001b[1;33m)\u001b[0m\u001b[1;33m\u001b[0m\u001b[0m\n\u001b[0m\u001b[0;32m   1566\u001b[0m                     \u001b[0mtick\u001b[0m\u001b[1;33m.\u001b[0m\u001b[0mlabel1\u001b[0m\u001b[1;33m.\u001b[0m\u001b[0mupdate\u001b[0m\u001b[1;33m(\u001b[0m\u001b[0mkwargs\u001b[0m\u001b[1;33m)\u001b[0m\u001b[1;33m\u001b[0m\u001b[0m\n\u001b[0;32m   1567\u001b[0m                     \u001b[0mret1\u001b[0m\u001b[1;33m.\u001b[0m\u001b[0mappend\u001b[0m\u001b[1;33m(\u001b[0m\u001b[0mtick\u001b[0m\u001b[1;33m.\u001b[0m\u001b[0mlabel1\u001b[0m\u001b[1;33m)\u001b[0m\u001b[1;33m\u001b[0m\u001b[0m\n",
      "\u001b[1;31mTypeError\u001b[0m: 'dict_keys' object does not support indexing"
     ]
    },
    {
     "ename": "TypeError",
     "evalue": "'dict_keys' object does not support indexing",
     "output_type": "error",
     "traceback": [
      "\u001b[1;31m---------------------------------------------------------------------------\u001b[0m",
      "\u001b[1;31mTypeError\u001b[0m                                 Traceback (most recent call last)",
      "\u001b[1;32m/home/fkauffman/anaconda3/lib/python3.4/site-packages/IPython/core/formatters.py\u001b[0m in \u001b[0;36m__call__\u001b[1;34m(self, obj)\u001b[0m\n\u001b[0;32m    328\u001b[0m                 \u001b[1;32mpass\u001b[0m\u001b[1;33m\u001b[0m\u001b[0m\n\u001b[0;32m    329\u001b[0m             \u001b[1;32melse\u001b[0m\u001b[1;33m:\u001b[0m\u001b[1;33m\u001b[0m\u001b[0m\n\u001b[1;32m--> 330\u001b[1;33m                 \u001b[1;32mreturn\u001b[0m \u001b[0mprinter\u001b[0m\u001b[1;33m(\u001b[0m\u001b[0mobj\u001b[0m\u001b[1;33m)\u001b[0m\u001b[1;33m\u001b[0m\u001b[0m\n\u001b[0m\u001b[0;32m    331\u001b[0m             \u001b[1;31m# Finally look for special method names\u001b[0m\u001b[1;33m\u001b[0m\u001b[1;33m\u001b[0m\u001b[0m\n\u001b[0;32m    332\u001b[0m             \u001b[0mmethod\u001b[0m \u001b[1;33m=\u001b[0m \u001b[0m_safe_get_formatter_method\u001b[0m\u001b[1;33m(\u001b[0m\u001b[0mobj\u001b[0m\u001b[1;33m,\u001b[0m \u001b[0mself\u001b[0m\u001b[1;33m.\u001b[0m\u001b[0mprint_method\u001b[0m\u001b[1;33m)\u001b[0m\u001b[1;33m\u001b[0m\u001b[0m\n",
      "\u001b[1;32m/home/fkauffman/anaconda3/lib/python3.4/site-packages/IPython/core/pylabtools.py\u001b[0m in \u001b[0;36m<lambda>\u001b[1;34m(fig)\u001b[0m\n\u001b[0;32m    205\u001b[0m \u001b[1;33m\u001b[0m\u001b[0m\n\u001b[0;32m    206\u001b[0m     \u001b[1;32mif\u001b[0m \u001b[1;34m'png'\u001b[0m \u001b[1;32min\u001b[0m \u001b[0mformats\u001b[0m\u001b[1;33m:\u001b[0m\u001b[1;33m\u001b[0m\u001b[0m\n\u001b[1;32m--> 207\u001b[1;33m         \u001b[0mpng_formatter\u001b[0m\u001b[1;33m.\u001b[0m\u001b[0mfor_type\u001b[0m\u001b[1;33m(\u001b[0m\u001b[0mFigure\u001b[0m\u001b[1;33m,\u001b[0m \u001b[1;32mlambda\u001b[0m \u001b[0mfig\u001b[0m\u001b[1;33m:\u001b[0m \u001b[0mprint_figure\u001b[0m\u001b[1;33m(\u001b[0m\u001b[0mfig\u001b[0m\u001b[1;33m,\u001b[0m \u001b[1;34m'png'\u001b[0m\u001b[1;33m,\u001b[0m \u001b[1;33m**\u001b[0m\u001b[0mkwargs\u001b[0m\u001b[1;33m)\u001b[0m\u001b[1;33m)\u001b[0m\u001b[1;33m\u001b[0m\u001b[0m\n\u001b[0m\u001b[0;32m    208\u001b[0m     \u001b[1;32mif\u001b[0m \u001b[1;34m'retina'\u001b[0m \u001b[1;32min\u001b[0m \u001b[0mformats\u001b[0m \u001b[1;32mor\u001b[0m \u001b[1;34m'png2x'\u001b[0m \u001b[1;32min\u001b[0m \u001b[0mformats\u001b[0m\u001b[1;33m:\u001b[0m\u001b[1;33m\u001b[0m\u001b[0m\n\u001b[0;32m    209\u001b[0m         \u001b[0mpng_formatter\u001b[0m\u001b[1;33m.\u001b[0m\u001b[0mfor_type\u001b[0m\u001b[1;33m(\u001b[0m\u001b[0mFigure\u001b[0m\u001b[1;33m,\u001b[0m \u001b[1;32mlambda\u001b[0m \u001b[0mfig\u001b[0m\u001b[1;33m:\u001b[0m \u001b[0mretina_figure\u001b[0m\u001b[1;33m(\u001b[0m\u001b[0mfig\u001b[0m\u001b[1;33m,\u001b[0m \u001b[1;33m**\u001b[0m\u001b[0mkwargs\u001b[0m\u001b[1;33m)\u001b[0m\u001b[1;33m)\u001b[0m\u001b[1;33m\u001b[0m\u001b[0m\n",
      "\u001b[1;32m/home/fkauffman/anaconda3/lib/python3.4/site-packages/IPython/core/pylabtools.py\u001b[0m in \u001b[0;36mprint_figure\u001b[1;34m(fig, fmt, bbox_inches, **kwargs)\u001b[0m\n\u001b[0;32m    115\u001b[0m \u001b[1;33m\u001b[0m\u001b[0m\n\u001b[0;32m    116\u001b[0m     \u001b[0mbytes_io\u001b[0m \u001b[1;33m=\u001b[0m \u001b[0mBytesIO\u001b[0m\u001b[1;33m(\u001b[0m\u001b[1;33m)\u001b[0m\u001b[1;33m\u001b[0m\u001b[0m\n\u001b[1;32m--> 117\u001b[1;33m     \u001b[0mfig\u001b[0m\u001b[1;33m.\u001b[0m\u001b[0mcanvas\u001b[0m\u001b[1;33m.\u001b[0m\u001b[0mprint_figure\u001b[0m\u001b[1;33m(\u001b[0m\u001b[0mbytes_io\u001b[0m\u001b[1;33m,\u001b[0m \u001b[1;33m**\u001b[0m\u001b[0mkw\u001b[0m\u001b[1;33m)\u001b[0m\u001b[1;33m\u001b[0m\u001b[0m\n\u001b[0m\u001b[0;32m    118\u001b[0m     \u001b[0mdata\u001b[0m \u001b[1;33m=\u001b[0m \u001b[0mbytes_io\u001b[0m\u001b[1;33m.\u001b[0m\u001b[0mgetvalue\u001b[0m\u001b[1;33m(\u001b[0m\u001b[1;33m)\u001b[0m\u001b[1;33m\u001b[0m\u001b[0m\n\u001b[0;32m    119\u001b[0m     \u001b[1;32mif\u001b[0m \u001b[0mfmt\u001b[0m \u001b[1;33m==\u001b[0m \u001b[1;34m'svg'\u001b[0m\u001b[1;33m:\u001b[0m\u001b[1;33m\u001b[0m\u001b[0m\n",
      "\u001b[1;32m/home/fkauffman/anaconda3/lib/python3.4/site-packages/matplotlib/backend_bases.py\u001b[0m in \u001b[0;36mprint_figure\u001b[1;34m(self, filename, dpi, facecolor, edgecolor, orientation, format, **kwargs)\u001b[0m\n\u001b[0;32m   2156\u001b[0m                     \u001b[0morientation\u001b[0m\u001b[1;33m=\u001b[0m\u001b[0morientation\u001b[0m\u001b[1;33m,\u001b[0m\u001b[1;33m\u001b[0m\u001b[0m\n\u001b[0;32m   2157\u001b[0m                     \u001b[0mdryrun\u001b[0m\u001b[1;33m=\u001b[0m\u001b[1;32mTrue\u001b[0m\u001b[1;33m,\u001b[0m\u001b[1;33m\u001b[0m\u001b[0m\n\u001b[1;32m-> 2158\u001b[1;33m                     **kwargs)\n\u001b[0m\u001b[0;32m   2159\u001b[0m                 \u001b[0mrenderer\u001b[0m \u001b[1;33m=\u001b[0m \u001b[0mself\u001b[0m\u001b[1;33m.\u001b[0m\u001b[0mfigure\u001b[0m\u001b[1;33m.\u001b[0m\u001b[0m_cachedRenderer\u001b[0m\u001b[1;33m\u001b[0m\u001b[0m\n\u001b[0;32m   2160\u001b[0m                 \u001b[0mbbox_inches\u001b[0m \u001b[1;33m=\u001b[0m \u001b[0mself\u001b[0m\u001b[1;33m.\u001b[0m\u001b[0mfigure\u001b[0m\u001b[1;33m.\u001b[0m\u001b[0mget_tightbbox\u001b[0m\u001b[1;33m(\u001b[0m\u001b[0mrenderer\u001b[0m\u001b[1;33m)\u001b[0m\u001b[1;33m\u001b[0m\u001b[0m\n",
      "\u001b[1;32m/home/fkauffman/anaconda3/lib/python3.4/site-packages/matplotlib/backends/backend_agg.py\u001b[0m in \u001b[0;36mprint_png\u001b[1;34m(self, filename_or_obj, *args, **kwargs)\u001b[0m\n\u001b[0;32m    519\u001b[0m \u001b[1;33m\u001b[0m\u001b[0m\n\u001b[0;32m    520\u001b[0m     \u001b[1;32mdef\u001b[0m \u001b[0mprint_png\u001b[0m\u001b[1;33m(\u001b[0m\u001b[0mself\u001b[0m\u001b[1;33m,\u001b[0m \u001b[0mfilename_or_obj\u001b[0m\u001b[1;33m,\u001b[0m \u001b[1;33m*\u001b[0m\u001b[0margs\u001b[0m\u001b[1;33m,\u001b[0m \u001b[1;33m**\u001b[0m\u001b[0mkwargs\u001b[0m\u001b[1;33m)\u001b[0m\u001b[1;33m:\u001b[0m\u001b[1;33m\u001b[0m\u001b[0m\n\u001b[1;32m--> 521\u001b[1;33m         \u001b[0mFigureCanvasAgg\u001b[0m\u001b[1;33m.\u001b[0m\u001b[0mdraw\u001b[0m\u001b[1;33m(\u001b[0m\u001b[0mself\u001b[0m\u001b[1;33m)\u001b[0m\u001b[1;33m\u001b[0m\u001b[0m\n\u001b[0m\u001b[0;32m    522\u001b[0m         \u001b[0mrenderer\u001b[0m \u001b[1;33m=\u001b[0m \u001b[0mself\u001b[0m\u001b[1;33m.\u001b[0m\u001b[0mget_renderer\u001b[0m\u001b[1;33m(\u001b[0m\u001b[1;33m)\u001b[0m\u001b[1;33m\u001b[0m\u001b[0m\n\u001b[0;32m    523\u001b[0m         \u001b[0moriginal_dpi\u001b[0m \u001b[1;33m=\u001b[0m \u001b[0mrenderer\u001b[0m\u001b[1;33m.\u001b[0m\u001b[0mdpi\u001b[0m\u001b[1;33m\u001b[0m\u001b[0m\n",
      "\u001b[1;32m/home/fkauffman/anaconda3/lib/python3.4/site-packages/matplotlib/backends/backend_agg.py\u001b[0m in \u001b[0;36mdraw\u001b[1;34m(self)\u001b[0m\n\u001b[0;32m    467\u001b[0m \u001b[1;33m\u001b[0m\u001b[0m\n\u001b[0;32m    468\u001b[0m         \u001b[1;32mtry\u001b[0m\u001b[1;33m:\u001b[0m\u001b[1;33m\u001b[0m\u001b[0m\n\u001b[1;32m--> 469\u001b[1;33m             \u001b[0mself\u001b[0m\u001b[1;33m.\u001b[0m\u001b[0mfigure\u001b[0m\u001b[1;33m.\u001b[0m\u001b[0mdraw\u001b[0m\u001b[1;33m(\u001b[0m\u001b[0mself\u001b[0m\u001b[1;33m.\u001b[0m\u001b[0mrenderer\u001b[0m\u001b[1;33m)\u001b[0m\u001b[1;33m\u001b[0m\u001b[0m\n\u001b[0m\u001b[0;32m    470\u001b[0m         \u001b[1;32mfinally\u001b[0m\u001b[1;33m:\u001b[0m\u001b[1;33m\u001b[0m\u001b[0m\n\u001b[0;32m    471\u001b[0m             \u001b[0mRendererAgg\u001b[0m\u001b[1;33m.\u001b[0m\u001b[0mlock\u001b[0m\u001b[1;33m.\u001b[0m\u001b[0mrelease\u001b[0m\u001b[1;33m(\u001b[0m\u001b[1;33m)\u001b[0m\u001b[1;33m\u001b[0m\u001b[0m\n",
      "\u001b[1;32m/home/fkauffman/anaconda3/lib/python3.4/site-packages/matplotlib/artist.py\u001b[0m in \u001b[0;36mdraw_wrapper\u001b[1;34m(artist, renderer, *args, **kwargs)\u001b[0m\n\u001b[0;32m     57\u001b[0m     \u001b[1;32mdef\u001b[0m \u001b[0mdraw_wrapper\u001b[0m\u001b[1;33m(\u001b[0m\u001b[0martist\u001b[0m\u001b[1;33m,\u001b[0m \u001b[0mrenderer\u001b[0m\u001b[1;33m,\u001b[0m \u001b[1;33m*\u001b[0m\u001b[0margs\u001b[0m\u001b[1;33m,\u001b[0m \u001b[1;33m**\u001b[0m\u001b[0mkwargs\u001b[0m\u001b[1;33m)\u001b[0m\u001b[1;33m:\u001b[0m\u001b[1;33m\u001b[0m\u001b[0m\n\u001b[0;32m     58\u001b[0m         \u001b[0mbefore\u001b[0m\u001b[1;33m(\u001b[0m\u001b[0martist\u001b[0m\u001b[1;33m,\u001b[0m \u001b[0mrenderer\u001b[0m\u001b[1;33m)\u001b[0m\u001b[1;33m\u001b[0m\u001b[0m\n\u001b[1;32m---> 59\u001b[1;33m         \u001b[0mdraw\u001b[0m\u001b[1;33m(\u001b[0m\u001b[0martist\u001b[0m\u001b[1;33m,\u001b[0m \u001b[0mrenderer\u001b[0m\u001b[1;33m,\u001b[0m \u001b[1;33m*\u001b[0m\u001b[0margs\u001b[0m\u001b[1;33m,\u001b[0m \u001b[1;33m**\u001b[0m\u001b[0mkwargs\u001b[0m\u001b[1;33m)\u001b[0m\u001b[1;33m\u001b[0m\u001b[0m\n\u001b[0m\u001b[0;32m     60\u001b[0m         \u001b[0mafter\u001b[0m\u001b[1;33m(\u001b[0m\u001b[0martist\u001b[0m\u001b[1;33m,\u001b[0m \u001b[0mrenderer\u001b[0m\u001b[1;33m)\u001b[0m\u001b[1;33m\u001b[0m\u001b[0m\n\u001b[0;32m     61\u001b[0m \u001b[1;33m\u001b[0m\u001b[0m\n",
      "\u001b[1;32m/home/fkauffman/anaconda3/lib/python3.4/site-packages/matplotlib/figure.py\u001b[0m in \u001b[0;36mdraw\u001b[1;34m(self, renderer)\u001b[0m\n\u001b[0;32m   1083\u001b[0m         \u001b[0mdsu\u001b[0m\u001b[1;33m.\u001b[0m\u001b[0msort\u001b[0m\u001b[1;33m(\u001b[0m\u001b[0mkey\u001b[0m\u001b[1;33m=\u001b[0m\u001b[0mitemgetter\u001b[0m\u001b[1;33m(\u001b[0m\u001b[1;36m0\u001b[0m\u001b[1;33m)\u001b[0m\u001b[1;33m)\u001b[0m\u001b[1;33m\u001b[0m\u001b[0m\n\u001b[0;32m   1084\u001b[0m         \u001b[1;32mfor\u001b[0m \u001b[0mzorder\u001b[0m\u001b[1;33m,\u001b[0m \u001b[0ma\u001b[0m\u001b[1;33m,\u001b[0m \u001b[0mfunc\u001b[0m\u001b[1;33m,\u001b[0m \u001b[0margs\u001b[0m \u001b[1;32min\u001b[0m \u001b[0mdsu\u001b[0m\u001b[1;33m:\u001b[0m\u001b[1;33m\u001b[0m\u001b[0m\n\u001b[1;32m-> 1085\u001b[1;33m             \u001b[0mfunc\u001b[0m\u001b[1;33m(\u001b[0m\u001b[1;33m*\u001b[0m\u001b[0margs\u001b[0m\u001b[1;33m)\u001b[0m\u001b[1;33m\u001b[0m\u001b[0m\n\u001b[0m\u001b[0;32m   1086\u001b[0m \u001b[1;33m\u001b[0m\u001b[0m\n\u001b[0;32m   1087\u001b[0m         \u001b[0mrenderer\u001b[0m\u001b[1;33m.\u001b[0m\u001b[0mclose_group\u001b[0m\u001b[1;33m(\u001b[0m\u001b[1;34m'figure'\u001b[0m\u001b[1;33m)\u001b[0m\u001b[1;33m\u001b[0m\u001b[0m\n",
      "\u001b[1;32m/home/fkauffman/anaconda3/lib/python3.4/site-packages/matplotlib/artist.py\u001b[0m in \u001b[0;36mdraw_wrapper\u001b[1;34m(artist, renderer, *args, **kwargs)\u001b[0m\n\u001b[0;32m     57\u001b[0m     \u001b[1;32mdef\u001b[0m \u001b[0mdraw_wrapper\u001b[0m\u001b[1;33m(\u001b[0m\u001b[0martist\u001b[0m\u001b[1;33m,\u001b[0m \u001b[0mrenderer\u001b[0m\u001b[1;33m,\u001b[0m \u001b[1;33m*\u001b[0m\u001b[0margs\u001b[0m\u001b[1;33m,\u001b[0m \u001b[1;33m**\u001b[0m\u001b[0mkwargs\u001b[0m\u001b[1;33m)\u001b[0m\u001b[1;33m:\u001b[0m\u001b[1;33m\u001b[0m\u001b[0m\n\u001b[0;32m     58\u001b[0m         \u001b[0mbefore\u001b[0m\u001b[1;33m(\u001b[0m\u001b[0martist\u001b[0m\u001b[1;33m,\u001b[0m \u001b[0mrenderer\u001b[0m\u001b[1;33m)\u001b[0m\u001b[1;33m\u001b[0m\u001b[0m\n\u001b[1;32m---> 59\u001b[1;33m         \u001b[0mdraw\u001b[0m\u001b[1;33m(\u001b[0m\u001b[0martist\u001b[0m\u001b[1;33m,\u001b[0m \u001b[0mrenderer\u001b[0m\u001b[1;33m,\u001b[0m \u001b[1;33m*\u001b[0m\u001b[0margs\u001b[0m\u001b[1;33m,\u001b[0m \u001b[1;33m**\u001b[0m\u001b[0mkwargs\u001b[0m\u001b[1;33m)\u001b[0m\u001b[1;33m\u001b[0m\u001b[0m\n\u001b[0m\u001b[0;32m     60\u001b[0m         \u001b[0mafter\u001b[0m\u001b[1;33m(\u001b[0m\u001b[0martist\u001b[0m\u001b[1;33m,\u001b[0m \u001b[0mrenderer\u001b[0m\u001b[1;33m)\u001b[0m\u001b[1;33m\u001b[0m\u001b[0m\n\u001b[0;32m     61\u001b[0m \u001b[1;33m\u001b[0m\u001b[0m\n",
      "\u001b[1;32m/home/fkauffman/anaconda3/lib/python3.4/site-packages/matplotlib/axes/_base.py\u001b[0m in \u001b[0;36mdraw\u001b[1;34m(self, renderer, inframe)\u001b[0m\n\u001b[0;32m   2108\u001b[0m \u001b[1;33m\u001b[0m\u001b[0m\n\u001b[0;32m   2109\u001b[0m         \u001b[1;32mfor\u001b[0m \u001b[0mzorder\u001b[0m\u001b[1;33m,\u001b[0m \u001b[0ma\u001b[0m \u001b[1;32min\u001b[0m \u001b[0mdsu\u001b[0m\u001b[1;33m:\u001b[0m\u001b[1;33m\u001b[0m\u001b[0m\n\u001b[1;32m-> 2110\u001b[1;33m             \u001b[0ma\u001b[0m\u001b[1;33m.\u001b[0m\u001b[0mdraw\u001b[0m\u001b[1;33m(\u001b[0m\u001b[0mrenderer\u001b[0m\u001b[1;33m)\u001b[0m\u001b[1;33m\u001b[0m\u001b[0m\n\u001b[0m\u001b[0;32m   2111\u001b[0m \u001b[1;33m\u001b[0m\u001b[0m\n\u001b[0;32m   2112\u001b[0m         \u001b[0mrenderer\u001b[0m\u001b[1;33m.\u001b[0m\u001b[0mclose_group\u001b[0m\u001b[1;33m(\u001b[0m\u001b[1;34m'axes'\u001b[0m\u001b[1;33m)\u001b[0m\u001b[1;33m\u001b[0m\u001b[0m\n",
      "\u001b[1;32m/home/fkauffman/anaconda3/lib/python3.4/site-packages/matplotlib/artist.py\u001b[0m in \u001b[0;36mdraw_wrapper\u001b[1;34m(artist, renderer, *args, **kwargs)\u001b[0m\n\u001b[0;32m     57\u001b[0m     \u001b[1;32mdef\u001b[0m \u001b[0mdraw_wrapper\u001b[0m\u001b[1;33m(\u001b[0m\u001b[0martist\u001b[0m\u001b[1;33m,\u001b[0m \u001b[0mrenderer\u001b[0m\u001b[1;33m,\u001b[0m \u001b[1;33m*\u001b[0m\u001b[0margs\u001b[0m\u001b[1;33m,\u001b[0m \u001b[1;33m**\u001b[0m\u001b[0mkwargs\u001b[0m\u001b[1;33m)\u001b[0m\u001b[1;33m:\u001b[0m\u001b[1;33m\u001b[0m\u001b[0m\n\u001b[0;32m     58\u001b[0m         \u001b[0mbefore\u001b[0m\u001b[1;33m(\u001b[0m\u001b[0martist\u001b[0m\u001b[1;33m,\u001b[0m \u001b[0mrenderer\u001b[0m\u001b[1;33m)\u001b[0m\u001b[1;33m\u001b[0m\u001b[0m\n\u001b[1;32m---> 59\u001b[1;33m         \u001b[0mdraw\u001b[0m\u001b[1;33m(\u001b[0m\u001b[0martist\u001b[0m\u001b[1;33m,\u001b[0m \u001b[0mrenderer\u001b[0m\u001b[1;33m,\u001b[0m \u001b[1;33m*\u001b[0m\u001b[0margs\u001b[0m\u001b[1;33m,\u001b[0m \u001b[1;33m**\u001b[0m\u001b[0mkwargs\u001b[0m\u001b[1;33m)\u001b[0m\u001b[1;33m\u001b[0m\u001b[0m\n\u001b[0m\u001b[0;32m     60\u001b[0m         \u001b[0mafter\u001b[0m\u001b[1;33m(\u001b[0m\u001b[0martist\u001b[0m\u001b[1;33m,\u001b[0m \u001b[0mrenderer\u001b[0m\u001b[1;33m)\u001b[0m\u001b[1;33m\u001b[0m\u001b[0m\n\u001b[0;32m     61\u001b[0m \u001b[1;33m\u001b[0m\u001b[0m\n",
      "\u001b[1;32m/home/fkauffman/anaconda3/lib/python3.4/site-packages/matplotlib/axis.py\u001b[0m in \u001b[0;36mdraw\u001b[1;34m(self, renderer, *args, **kwargs)\u001b[0m\n\u001b[0;32m   1112\u001b[0m         \u001b[0mrenderer\u001b[0m\u001b[1;33m.\u001b[0m\u001b[0mopen_group\u001b[0m\u001b[1;33m(\u001b[0m\u001b[0m__name__\u001b[0m\u001b[1;33m)\u001b[0m\u001b[1;33m\u001b[0m\u001b[0m\n\u001b[0;32m   1113\u001b[0m \u001b[1;33m\u001b[0m\u001b[0m\n\u001b[1;32m-> 1114\u001b[1;33m         \u001b[0mticks_to_draw\u001b[0m \u001b[1;33m=\u001b[0m \u001b[0mself\u001b[0m\u001b[1;33m.\u001b[0m\u001b[0m_update_ticks\u001b[0m\u001b[1;33m(\u001b[0m\u001b[0mrenderer\u001b[0m\u001b[1;33m)\u001b[0m\u001b[1;33m\u001b[0m\u001b[0m\n\u001b[0m\u001b[0;32m   1115\u001b[0m         ticklabelBoxes, ticklabelBoxes2 = self._get_tick_bboxes(ticks_to_draw,\n\u001b[0;32m   1116\u001b[0m                                                                 renderer)\n",
      "\u001b[1;32m/home/fkauffman/anaconda3/lib/python3.4/site-packages/matplotlib/axis.py\u001b[0m in \u001b[0;36m_update_ticks\u001b[1;34m(self, renderer)\u001b[0m\n\u001b[0;32m    955\u001b[0m \u001b[1;33m\u001b[0m\u001b[0m\n\u001b[0;32m    956\u001b[0m         \u001b[0minterval\u001b[0m \u001b[1;33m=\u001b[0m \u001b[0mself\u001b[0m\u001b[1;33m.\u001b[0m\u001b[0mget_view_interval\u001b[0m\u001b[1;33m(\u001b[0m\u001b[1;33m)\u001b[0m\u001b[1;33m\u001b[0m\u001b[0m\n\u001b[1;32m--> 957\u001b[1;33m         \u001b[0mtick_tups\u001b[0m \u001b[1;33m=\u001b[0m \u001b[1;33m[\u001b[0m\u001b[0mt\u001b[0m \u001b[1;32mfor\u001b[0m \u001b[0mt\u001b[0m \u001b[1;32min\u001b[0m \u001b[0mself\u001b[0m\u001b[1;33m.\u001b[0m\u001b[0miter_ticks\u001b[0m\u001b[1;33m(\u001b[0m\u001b[1;33m)\u001b[0m\u001b[1;33m]\u001b[0m\u001b[1;33m\u001b[0m\u001b[0m\n\u001b[0m\u001b[0;32m    958\u001b[0m         \u001b[1;32mif\u001b[0m \u001b[0mself\u001b[0m\u001b[1;33m.\u001b[0m\u001b[0m_smart_bounds\u001b[0m\u001b[1;33m:\u001b[0m\u001b[1;33m\u001b[0m\u001b[0m\n\u001b[0;32m    959\u001b[0m             \u001b[1;31m# handle inverted limits\u001b[0m\u001b[1;33m\u001b[0m\u001b[1;33m\u001b[0m\u001b[0m\n",
      "\u001b[1;32m/home/fkauffman/anaconda3/lib/python3.4/site-packages/matplotlib/axis.py\u001b[0m in \u001b[0;36m<listcomp>\u001b[1;34m(.0)\u001b[0m\n\u001b[0;32m    955\u001b[0m \u001b[1;33m\u001b[0m\u001b[0m\n\u001b[0;32m    956\u001b[0m         \u001b[0minterval\u001b[0m \u001b[1;33m=\u001b[0m \u001b[0mself\u001b[0m\u001b[1;33m.\u001b[0m\u001b[0mget_view_interval\u001b[0m\u001b[1;33m(\u001b[0m\u001b[1;33m)\u001b[0m\u001b[1;33m\u001b[0m\u001b[0m\n\u001b[1;32m--> 957\u001b[1;33m         \u001b[0mtick_tups\u001b[0m \u001b[1;33m=\u001b[0m \u001b[1;33m[\u001b[0m\u001b[0mt\u001b[0m \u001b[1;32mfor\u001b[0m \u001b[0mt\u001b[0m \u001b[1;32min\u001b[0m \u001b[0mself\u001b[0m\u001b[1;33m.\u001b[0m\u001b[0miter_ticks\u001b[0m\u001b[1;33m(\u001b[0m\u001b[1;33m)\u001b[0m\u001b[1;33m]\u001b[0m\u001b[1;33m\u001b[0m\u001b[0m\n\u001b[0m\u001b[0;32m    958\u001b[0m         \u001b[1;32mif\u001b[0m \u001b[0mself\u001b[0m\u001b[1;33m.\u001b[0m\u001b[0m_smart_bounds\u001b[0m\u001b[1;33m:\u001b[0m\u001b[1;33m\u001b[0m\u001b[0m\n\u001b[0;32m    959\u001b[0m             \u001b[1;31m# handle inverted limits\u001b[0m\u001b[1;33m\u001b[0m\u001b[1;33m\u001b[0m\u001b[0m\n",
      "\u001b[1;32m/home/fkauffman/anaconda3/lib/python3.4/site-packages/matplotlib/axis.py\u001b[0m in \u001b[0;36miter_ticks\u001b[1;34m(self)\u001b[0m\n\u001b[0;32m    903\u001b[0m         \u001b[0mself\u001b[0m\u001b[1;33m.\u001b[0m\u001b[0mmajor\u001b[0m\u001b[1;33m.\u001b[0m\u001b[0mformatter\u001b[0m\u001b[1;33m.\u001b[0m\u001b[0mset_locs\u001b[0m\u001b[1;33m(\u001b[0m\u001b[0mmajorLocs\u001b[0m\u001b[1;33m)\u001b[0m\u001b[1;33m\u001b[0m\u001b[0m\n\u001b[0;32m    904\u001b[0m         majorLabels = [self.major.formatter(val, i)\n\u001b[1;32m--> 905\u001b[1;33m                        for i, val in enumerate(majorLocs)]\n\u001b[0m\u001b[0;32m    906\u001b[0m \u001b[1;33m\u001b[0m\u001b[0m\n\u001b[0;32m    907\u001b[0m         \u001b[0mminorLocs\u001b[0m \u001b[1;33m=\u001b[0m \u001b[0mself\u001b[0m\u001b[1;33m.\u001b[0m\u001b[0mminor\u001b[0m\u001b[1;33m.\u001b[0m\u001b[0mlocator\u001b[0m\u001b[1;33m(\u001b[0m\u001b[1;33m)\u001b[0m\u001b[1;33m\u001b[0m\u001b[0m\n",
      "\u001b[1;32m/home/fkauffman/anaconda3/lib/python3.4/site-packages/matplotlib/axis.py\u001b[0m in \u001b[0;36m<listcomp>\u001b[1;34m(.0)\u001b[0m\n\u001b[0;32m    903\u001b[0m         \u001b[0mself\u001b[0m\u001b[1;33m.\u001b[0m\u001b[0mmajor\u001b[0m\u001b[1;33m.\u001b[0m\u001b[0mformatter\u001b[0m\u001b[1;33m.\u001b[0m\u001b[0mset_locs\u001b[0m\u001b[1;33m(\u001b[0m\u001b[0mmajorLocs\u001b[0m\u001b[1;33m)\u001b[0m\u001b[1;33m\u001b[0m\u001b[0m\n\u001b[0;32m    904\u001b[0m         majorLabels = [self.major.formatter(val, i)\n\u001b[1;32m--> 905\u001b[1;33m                        for i, val in enumerate(majorLocs)]\n\u001b[0m\u001b[0;32m    906\u001b[0m \u001b[1;33m\u001b[0m\u001b[0m\n\u001b[0;32m    907\u001b[0m         \u001b[0mminorLocs\u001b[0m \u001b[1;33m=\u001b[0m \u001b[0mself\u001b[0m\u001b[1;33m.\u001b[0m\u001b[0mminor\u001b[0m\u001b[1;33m.\u001b[0m\u001b[0mlocator\u001b[0m\u001b[1;33m(\u001b[0m\u001b[1;33m)\u001b[0m\u001b[1;33m\u001b[0m\u001b[0m\n",
      "\u001b[1;32m/home/fkauffman/anaconda3/lib/python3.4/site-packages/matplotlib/ticker.py\u001b[0m in \u001b[0;36m__call__\u001b[1;34m(self, x, pos)\u001b[0m\n\u001b[0;32m    288\u001b[0m             \u001b[1;32mreturn\u001b[0m \u001b[1;34m''\u001b[0m\u001b[1;33m\u001b[0m\u001b[0m\n\u001b[0;32m    289\u001b[0m         \u001b[1;32melse\u001b[0m\u001b[1;33m:\u001b[0m\u001b[1;33m\u001b[0m\u001b[0m\n\u001b[1;32m--> 290\u001b[1;33m             \u001b[1;32mreturn\u001b[0m \u001b[0mself\u001b[0m\u001b[1;33m.\u001b[0m\u001b[0mseq\u001b[0m\u001b[1;33m[\u001b[0m\u001b[0mpos\u001b[0m\u001b[1;33m]\u001b[0m\u001b[1;33m\u001b[0m\u001b[0m\n\u001b[0m\u001b[0;32m    291\u001b[0m \u001b[1;33m\u001b[0m\u001b[0m\n\u001b[0;32m    292\u001b[0m     \u001b[1;32mdef\u001b[0m \u001b[0mget_offset\u001b[0m\u001b[1;33m(\u001b[0m\u001b[0mself\u001b[0m\u001b[1;33m)\u001b[0m\u001b[1;33m:\u001b[0m\u001b[1;33m\u001b[0m\u001b[0m\n",
      "\u001b[1;31mTypeError\u001b[0m: 'dict_keys' object does not support indexing"
     ]
    },
    {
     "data": {
      "text/plain": [
       "<matplotlib.figure.Figure at 0x7f2bed605048>"
      ]
     },
     "metadata": {},
     "output_type": "display_data"
    }
   ],
   "source": [
    "# Se importa la libreria para utilizar plot\n",
    "# Además se plotea en el própio notebook y no como una ventana nueva\n",
    "%matplotlib inline\n",
    "from pylab import *\n",
    "\n",
    "# Se realiza una gráfica de cantidad de comentarios en función de su clasificación\n",
    "gruposCalificacion = datos.groupby([u'Calificación']).groups\n",
    "keyClasificacion = gruposCalificacion.keys()\n",
    "cantClasificacion = []\n",
    "for k in keyClasificacion:\n",
    "    cantClasificacion.append(len(gruposCalificacion.get(k)))    \n",
    "pos = arange(len(keyClasificacion)) + 0.5 \n",
    "\n",
    "figure(1)\n",
    "barh(pos,cantClasificacion, align='center')\n",
    "yticks(pos, keyClasificacion)\n",
    "xlabel('Cantidad de comentarios')\n",
    "ylabel(u'Clasificación')\n",
    "title(u'Grafica cantidad de comentarios por clasificación')\n",
    "grid(True)\n",
    "show()"
   ]
  },
  {
   "cell_type": "code",
   "execution_count": 222,
   "metadata": {
    "collapsed": false
   },
   "outputs": [
    {
     "name": "stdout",
     "output_type": "stream",
     "text": [
      "\n",
      "Cantidad de comentarios asociados a cada calificación:\n",
      "\n",
      "5    505\n",
      "4    354\n",
      "1    225\n",
      "3    222\n",
      "2    141\n",
      "dtype: int64\n"
     ]
    }
   ],
   "source": [
    "#Se imprime la cantidad de comentarios asociados a cada calse (es decir cantidad de comentarios por calificación)\n",
    "print (\"\\nCantidad de comentarios asociados a cada calificación:\\n\")\n",
    "print (datos.ix[:,7].value_counts())"
   ]
  },
  {
   "cell_type": "code",
   "execution_count": 223,
   "metadata": {
    "collapsed": false
   },
   "outputs": [
    {
     "name": "stdout",
     "output_type": "stream",
     "text": [
      "A continuación se listan los atributos con su tipo asociado:\n",
      "\n",
      "Título          object\n",
      "Año              int64\n",
      "Estrellas        int64\n",
      "Género          object\n",
      "Duración        object\n",
      "Reseña          object\n",
      "ComTexto        object\n",
      "Calificación     int64\n",
      "ComFechaHora    object\n",
      "dtype: object\n"
     ]
    }
   ],
   "source": [
    "print (\"A continuación se listan los atributos con su tipo asociado:\\n\")\n",
    "print (datos.dtypes)"
   ]
  },
  {
   "cell_type": "code",
   "execution_count": 224,
   "metadata": {
    "collapsed": false
   },
   "outputs": [
    {
     "name": "stdout",
     "output_type": "stream",
     "text": [
      "No hay valores faltantes para el tributo Título\n",
      "No hay valores faltantes para el tributo Año\n",
      "No hay valores faltantes para el tributo Estrellas\n",
      "No hay valores faltantes para el tributo Género\n",
      "No hay valores faltantes para el tributo Duración\n",
      "No hay valores faltantes para el tributo Reseña\n",
      "No hay valores faltantes para el tributo ComTexto\n",
      "No hay valores faltantes para el tributo Calificación\n",
      "No hay valores faltantes para el tributo ComFechaHora\n"
     ]
    }
   ],
   "source": [
    "# Se chequea si los atributos poseen o no valores faltantes\n",
    "# Para ello se recorren todos los atributos (columnas de 'datos')\n",
    "for atributo in datos.columns:\n",
    "    \n",
    "    # Se obtiene la cantidad de valores distinto de vacio del atributo \n",
    "    cantValoresAtributo = datos[atributo].describe()['count']\n",
    "    \n",
    "    # Si hay menos que la cantidad de comentarios de 'datos' -> hay valores faltantes\n",
    "    if(cantComentarios > cantValoresAtributo):\n",
    "        print (\"Hay valores faltantes para el atributo \" + atributo)\n",
    "    else:\n",
    "        print (\"No hay valores faltantes para el tributo \" + atributo)"
   ]
  },
  {
   "cell_type": "markdown",
   "metadata": {},
   "source": [
    "### 3. Descartamos columnas innecesarias\n",
    "En esta sección se descartan las columnas (atributos) que se consideran innecesarios. En particular las columnas que creemos se consideran necesarias son solamente las columnas de los comentarios y los puntajes asociados a dichos comentarios. Por lo que se procede a eliminar el resto."
   ]
  },
  {
   "cell_type": "code",
   "execution_count": 225,
   "metadata": {
    "collapsed": false
   },
   "outputs": [
    {
     "name": "stdout",
     "output_type": "stream",
     "text": [
      "                                               ComTexto  Calificación\n",
      "0     Muchas gracias, vi online los primeros 4, lueg...             4\n",
      "1           La mejor serie desde Los Soprano y The Wire             5\n",
      "2     Llega un punto en el que aburre. Es un plato b...             2\n",
      "3     En realidad no es una respuesta , es una corre...             1\n",
      "4     Ahora entiendo menos. El libro en que se basa ...             1\n",
      "5     Una pena desperdiciar un buen elenco y obviame...             1\n",
      "6     MAGISTRAL!! excelente la recreación de época. ...             5\n",
      "7                             es una película mui padre             5\n",
      "8     EXCELENTE! GENIAL! Esperaba ir a ver con mi hi...             5\n",
      "9     Muy, muy buena...para grandes y chicos. Tiene ...             5\n",
      "10    Excelente película, muy original y divertida. ...             5\n",
      "11    Muy buena película, muy graciosa y de humor ba...             4\n",
      "12    Muy linda película. La fui a ver con mi hija, ...             4\n",
      "13    Linda película, buen mensaje y muy buenos efec...             4\n",
      "14    tambien me encanto la pelicula tu comentario e...             5\n",
      "15    la mejor peli que vi no hay ninguna cosa mejor...             5\n",
      "16    Excelente pelicula. Seguramente sea una de las...             4\n",
      "17    Pelicula propaganda. Resumen de la trama: USA ...             1\n",
      "18                        Muy buena pelicula de accion.             4\n",
      "19    Otro film de accion sostenido por Kevin Costne...             2\n",
      "20                Un bayago, no gasten un peso en esto.             1\n",
      "21    Qué nos queda si a Spartacus le sacamos la san...             2\n",
      "22    Bastante entretenida y absolutamente olvidable...             2\n",
      "23    pelicula aburrida en algunas ecsenas pero con ...             3\n",
      "24    Excelente, como todas las películas de Marvel,...             5\n",
      "25                                             la rompe             5\n",
      "26    Excelente pelicula desde todo punto de vistas,...             4\n",
      "27    Cumple sobradamente lo que promete. Y no hablo...             4\n",
      "28    muy buena, pero el 3d aun no esta bien logrado...             4\n",
      "29    Excelente película! Un enfoque distinto a lo q...             5\n",
      "...                                                 ...           ...\n",
      "1417  Me encantó la película, me emocionó hasta el b...             5\n",
      "1418  Aceptable, por momentos conmovedora y emotiva,...             2\n",
      "1419  Tuve la oportunidad de ver la película y me ag...             5\n",
      "1420  A mí la película me gustó mucho. Su realizació...             5\n",
      "1421  Fui al estreno en día de ayer...y la verdad me...             5\n",
      "1422  Excelente. Sin palabras. Una película muy sens...             5\n",
      "1423  Si estás buscando algo distinto esta es la pel...             5\n",
      "1424  Al fin veo una película de la época de la dict...             5\n",
      "1425  Lo siento pero creo que vimos películas comple...             5\n",
      "1426  Véanla!!! No se la pueden perder. Muy interesa...             5\n",
      "1427  La vi anoche, tenía espectativa, una pena, no ...             1\n",
      "1428  Excelente!!! Te mantiene expectante de princip...             5\n",
      "1429  La tres para mi es la mejor, Pero esta buena, ...             3\n",
      "1430  Entretenida, con humor de principio a fin. Ale...             3\n",
      "1431  Buena película de acción, con hermosas vistas ...             4\n",
      "1432  Buena para lo que son las peliculas de aventur...             4\n",
      "1433  Buena pelicula de acción.  Si viste las anteri...             3\n",
      "1434                         Mediocre, no aporta mucho.             2\n",
      "1435  MUY BUENA PELICULA Y MUY ACTUAL DEMUESTRA LO P...             4\n",
      "1436  Esta bien personalmente me gusto ,a pesar que ...             3\n",
      "1437  Aceptable, bien los actores, la trama se basa ...             2\n",
      "1438  Fui con unas amigas, no nos dejaron entrar x n...             1\n",
      "1439  Malísima. No esperaba que fuera mejor que el l...             1\n",
      "1440  me gusto pero no es que me encanto porque la v...             3\n",
      "1441  Lenta. No es lo que esperaba ni mucho menos. L...             1\n",
      "1442                    Mala. Muy lenta. Sin argumento.             2\n",
      "1443  No es buena, pasan 80% de la película introduc...             1\n",
      "1444  Mala. Malísima. No vale ni verla por la tele. ...             1\n",
      "1445  La peor película de Marvel de los últimos tiem...             1\n",
      "1446                                    Qué buenisimo!!             5\n",
      "\n",
      "[1447 rows x 2 columns]\n"
     ]
    }
   ],
   "source": [
    "# Se descartan de 'datos' las columnas innecesarias, dejando solamente los comentarios y sus calificaciones\n",
    "datos.drop(datos.columns[[0,1,2,3,4,5,8]],inplace=True,axis=1)\n",
    "\n",
    "# Se imprime un resumen de los datos\n",
    "print (datos)"
   ]
  },
  {
   "cell_type": "markdown",
   "metadata": {},
   "source": [
    "### 3. Preprocesamiento de los comentarios\n",
    "El corpus sobre el cual se trabaja puede tener contener datos con ruido en su contenido. Es decir, diversos elementos que están mezclados en el contenido pero que además de no aportar nada a la tarea de clasificación, generan ruido dificultando las tareas posteriores. Para ello entonces se procede a realizar el preprocesamiento de los comentarios."
   ]
  },
  {
   "cell_type": "code",
   "execution_count": 226,
   "metadata": {
    "collapsed": false
   },
   "outputs": [],
   "source": [
    "# En primera instancia se quitan los espacios en blanco al final y al principio (espacio, tab, retorno de carro, salto de linea)\n",
    "\n",
    "# Se recorren los datos por filas\n",
    "for i in range(0,len(datos)):\n",
    "    \n",
    "    # Se accede a la fila i columna 0 (es decir el valor comentario) y se lo modifica por el mismo modificado\n",
    "    datos.ix[i,0] = datos.ix[i,0].strip(' \\t\\n\\r')"
   ]
  },
  {
   "cell_type": "code",
   "execution_count": 227,
   "metadata": {
    "collapsed": false
   },
   "outputs": [],
   "source": [
    "# Luego se quitan las etiquetas html de los comentarios\n",
    "\n",
    "# Se recorren los datos por filas\n",
    "for i in range(0,len(datos)):\n",
    "    \n",
    "    # Se obtiene el largo del comentario i\n",
    "    length = len(datos.ix[i,0])\n",
    "    new_length = 0\n",
    "    \n",
    "    # Expresión regular para matchear etiquetas html\n",
    "    reg = r'<\\/?\\w+((\\s+\\w+(\\s*=\\s*(?:\".*?\"|\\'.*?\\'|[^\\'\">\\s]+))?)+\\s*|\\s*)\\/?>'\n",
    "    \n",
    "    # Se aplica la expresión regular al comentario mientras cambien los largos\n",
    "    while new_length != length:\n",
    "        \n",
    "        # Se cambia el comentario por el mismo sin etiquetas html\n",
    "        datos.ix[i,0] = re.sub(reg, \"\", datos.ix[i,0])\n",
    "        new_length = len(datos.ix[i,0])    "
   ]
  },
  {
   "cell_type": "markdown",
   "metadata": {},
   "source": [
    "### 4. Tokenización\n",
    "En esta sección se realiza el proceso de tokenización de los textos utilizando la biblioteca NLTK. Además se convierte a un formato suceptible para la clasificación. Es decir, se toquenizan los comentarios y se calcula el diccionario de palabras frecuentes del mismo. En base a ello y al valor de clasificación asociado se crea una tupla la cual corresponde al comentario analizado. Luego estas tuplas (una por cada comentario) son la entrada para el entrenamiento del algoritmo Entropía Máxima provisto por NLTK."
   ]
  },
  {
   "cell_type": "code",
   "execution_count": 228,
   "metadata": {
    "collapsed": true
   },
   "outputs": [],
   "source": [
    "# Funcion que dado un numero entre (1 y 5) devuelve la clasificación asociada\n",
    "# En este lab si es 5 o 4 -> positivo; 3 -> neutro; 1 o 0 -> negativo\n",
    "def codificarClasificacion(num):\n",
    "    if(num > 3):\n",
    "        return \"pos\"\n",
    "    elif(num == 3):\n",
    "        return \"neu\"\n",
    "    else:\n",
    "        return \"neg\""
   ]
  },
  {
   "cell_type": "code",
   "execution_count": 229,
   "metadata": {
    "collapsed": false
   },
   "outputs": [],
   "source": [
    "# Retorna una lista de tuplas. \n",
    "# Cada tupla posee un diccionario (dict) palabra-frecuencia del comentario y la clasificación asociada\n",
    "# En otras palabras [(dict1, clasificacion1),(dict2, clasificacion2), ... ]\n",
    "\n",
    "listaTuplas = []\n",
    "\n",
    "# Se recorren los comentarios y para cada uno de ellos se tokeniza con nltk\n",
    "for i in range(0,len(datos.ComTexto)):\n",
    "    \n",
    "    # Se crea el diccionario asociado al comentario\n",
    "    dic = {}\n",
    "    \n",
    "    # Por cada palabra retornada de la tokenizacion del comentario\n",
    "    for palabra in nltk.word_tokenize(datos.ix[i,0]):\n",
    "        \n",
    "        # Si la palabra está en el diccionario del comentario, se aumenta la frecuencia\n",
    "        # En caso contrario se la pone en el diccionario con valor 1\n",
    "        if(palabra.lower() in dic): \n",
    "            dic[palabra.lower()] = dic[palabra.lower()] + 1\n",
    "        else:\n",
    "            dic[palabra.lower()] = 1\n",
    "            \n",
    "    # Luego de tokenizado el comentario, se agrega una tupla a la lista que contendrá\n",
    "    # el diccionario de frecuencias y la clasificaion asociada al comentario\n",
    "    listaTuplas.insert(i,(dic,codificarClasificacion(datos.ix[i,1])))"
   ]
  },
  {
   "cell_type": "code",
   "execution_count": 230,
   "metadata": {
    "collapsed": false
   },
   "outputs": [
    {
     "name": "stdout",
     "output_type": "stream",
     "text": [
      "ComTexto        Muchas gracias, vi online los primeros 4, lueg...\n",
      "Calificación                                                    4\n",
      "Name: 0, dtype: object\n",
      "({'la': 1, 'vi': 1, 'online': 1, 'hbo': 1, 'muchas': 1, 'gracias': 1, 'por': 1, 'los': 1, 'luego': 1, 'primeros': 1, ',': 2, 'seguí': 1, '4': 1}, 'pos')\n"
     ]
    }
   ],
   "source": [
    "# Para entender lo anterior\n",
    "\n",
    "# Se imprime el primer comentario junto a su clasificacion\n",
    "print (datos.ix[0,:])\n",
    "\n",
    "# Si todo esta bien al imprimir el primer elemento de la lista\n",
    "# Se deberia ver el diccionario mas la clasificacion asociada al comentario \n",
    "print (listaTuplas[0])"
   ]
  },
  {
   "cell_type": "markdown",
   "metadata": {},
   "source": [
    "### 5. Separamos entrenamiento y testeo \n",
    "Una vez de haber llegado a este punto tenemos los datos tokenizados en la variable listaTuplas. Habrá entonces que dividir dicha lista en conjuntos de entrenamiento y testeo, para primero entrenar el algoritmo y luego testearlo.\n",
    "Para poder entrenar y testear un algoritmo de aprendizaje, como se mencionó, es necesario primero particionar los datos en dos conjuntos disjuntos de entrenamiento y testeo. Se separarán aleatoriamente un 20% de los datos para testeo y el 80% restante se utilizará para el entrenamiento. Para esto se utilizó la función train_test_split del paquete cross_validation de sklearn."
   ]
  },
  {
   "cell_type": "code",
   "execution_count": 231,
   "metadata": {
    "collapsed": false
   },
   "outputs": [
    {
     "name": "stdout",
     "output_type": "stream",
     "text": [
      "1157\n",
      "290\n"
     ]
    }
   ],
   "source": [
    "from sklearn.cross_validation import train_test_split\n",
    "\n",
    "# Se divide el conjunto de datos en train (80%) y test (20%)\n",
    "datos_train, datos_test = train_test_split(listaTuplas, test_size=0.2)\n",
    "\n",
    "# Se chequean las cantidades de la división\n",
    "print (len(datos_train))\n",
    "print (len(datos_test))"
   ]
  },
  {
   "cell_type": "markdown",
   "metadata": {},
   "source": [
    "### 6. Se entrena el algoritmo de máxima entropia y se lo evalua\n",
    "Una vez de tener los datos en un formato aceptable para los algoritmos de entrenamiento y particionado los mismos en test y train, se procede a realizar el entrenamiento del algoritmo de Máxima Entropía. Una vez realizado dicho entrenamiento se procede a evaluarlo."
   ]
  },
  {
   "cell_type": "code",
   "execution_count": 232,
   "metadata": {
    "collapsed": false
   },
   "outputs": [
    {
     "name": "stdout",
     "output_type": "stream",
     "text": [
      "  ==> Training (7 iterations)\n",
      "\n",
      "      Iteration    Log Likelihood    Accuracy\n",
      "      ---------------------------------------\n",
      "             1          -1.09861        0.586\n",
      "             2          -0.80967        0.775\n",
      "             3          -0.67905        0.808\n",
      "             4          -0.59282        0.846\n",
      "             5          -0.53140        0.863\n",
      "             6          -0.48517        0.876\n",
      "         Final          -0.44895        0.885\n"
     ]
    }
   ],
   "source": [
    "# En la siguiente linea se entrena el algoritmo con 7 iteraciones\n",
    "# Obs. El entrenamiento es bastante lento, habría que llegar a un valor de iteraciones adecuado\n",
    "clf_max_ent = nltk.classify.MaxentClassifier.train(datos_train,max_iter=7)"
   ]
  },
  {
   "cell_type": "code",
   "execution_count": 233,
   "metadata": {
    "collapsed": true
   },
   "outputs": [],
   "source": [
    "# Funcion que dada una distribución de probabilidad de las clasificaciones\n",
    "# devuelve la clasificacion que tiene mayor probabilidad\n",
    "def getClasificacion(pdist):\n",
    "    \n",
    "    # Se inicializa la clasificacion\n",
    "    clasificacion = 0;\n",
    "    prob = 0\n",
    "    \n",
    "    # Por cada clasificacion posible, la comparo con la inicializacion\n",
    "    # Me quedo con la mas grande\n",
    "    for i in range(1,6):\n",
    "        if( pdist.prob(i) > prob):\n",
    "            clasificacion = i\n",
    "            prob = pdist.prob(i)\n",
    "\n",
    "    return clasificacion"
   ]
  },
  {
   "cell_type": "code",
   "execution_count": 247,
   "metadata": {
    "collapsed": false
   },
   "outputs": [],
   "source": [
    "def getTasa(clf,datos_test):\n",
    "    # Se define la variable de aciertos\n",
    "    aciertos = 0\n",
    "    \n",
    "    salidaClasificador = []\n",
    "    salida = []\n",
    "\n",
    "    # Para cada comentario del conjunto de testeo se evalua segun el algoritmo entrenado\n",
    "    for comentario in datos_test:\n",
    "\n",
    "        # Se obtiene la clasificacion del algoritmo para el comentario\n",
    "        clasificacion = clf.classify(comentario[0])\n",
    "        salidaClasificador.append(clasificacion)\n",
    "        salida.append(comentario[1])\n",
    "        \n",
    "        # En caso que la clasificacion sea la correcta se aumenta el acierto\n",
    "        if(clasificacion == comentario[1]):\n",
    "            aciertos += 1\n",
    "    \n",
    "    cm = nltk.ConfusionMatrix(salidaClasificador, salida)\n",
    "    print(cm)\n",
    "\n",
    "    return float(aciertos)/len(datos_test)"
   ]
  },
  {
   "cell_type": "code",
   "execution_count": 248,
   "metadata": {
    "collapsed": false
   },
   "outputs": [
    {
     "name": "stdout",
     "output_type": "stream",
     "text": [
      "    |   n   n   p |\n",
      "    |   e   e   o |\n",
      "    |   g   u   s |\n",
      "----+-------------+\n",
      "neg | <43> 17  31 |\n",
      "neu |   .  <1>  3 |\n",
      "pos |  26  22<147>|\n",
      "----+-------------+\n",
      "(row = reference; col = test)\n",
      "\n",
      "Tase de Max Ent: 0.6586206896551724\n"
     ]
    }
   ],
   "source": [
    "print (\"Tase de Max Ent: \" + str(getTasa(clf_max_ent,datos_test)))"
   ]
  },
  {
   "cell_type": "code",
   "execution_count": 269,
   "metadata": {
    "collapsed": true
   },
   "outputs": [],
   "source": [
    "def codificarClasificacionesSubjetivos():\n",
    "    lista = []\n",
    "    for t in elementos_subjetivos:\n",
    "\n",
    "        clasificacion = 'neg'\n",
    "        if elementos_subjetivos[t] == 3:\n",
    "            clasificacion = 'pos'\n",
    "            \n",
    "        lista.append(({t:1},clasificacion))\n",
    "    \n",
    "    return lista"
   ]
  },
  {
   "cell_type": "code",
   "execution_count": 276,
   "metadata": {
    "collapsed": false
   },
   "outputs": [
    {
     "name": "stdout",
     "output_type": "stream",
     "text": [
      "  ==> Training (100 iterations)\n",
      "\n",
      "      Iteration    Log Likelihood    Accuracy\n",
      "      ---------------------------------------\n",
      "             1          -0.69315        0.174\n",
      "             2          -0.40547        1.000\n",
      "             3          -0.28768        1.000\n",
      "             4          -0.22314        1.000\n",
      "             5          -0.18232        1.000\n",
      "             6          -0.15415        1.000\n",
      "             7          -0.13353        1.000\n",
      "             8          -0.11778        1.000\n",
      "             9          -0.10536        1.000\n",
      "            10          -0.09531        1.000\n",
      "            11          -0.08701        1.000\n",
      "            12          -0.08004        1.000\n",
      "            13          -0.07411        1.000\n",
      "            14          -0.06899        1.000\n",
      "            15          -0.06454        1.000\n",
      "            16          -0.06062        1.000\n",
      "            17          -0.05716        1.000\n",
      "            18          -0.05407        1.000\n",
      "            19          -0.05129        1.000\n",
      "            20          -0.04879        1.000\n",
      "            21          -0.04652        1.000\n",
      "            22          -0.04445        1.000\n",
      "            23          -0.04256        1.000\n",
      "            24          -0.04082        1.000\n",
      "            25          -0.03922        1.000\n",
      "            26          -0.03774        1.000\n",
      "            27          -0.03637        1.000\n",
      "            28          -0.03509        1.000\n",
      "            29          -0.03390        1.000\n",
      "            30          -0.03279        1.000\n",
      "            31          -0.03175        1.000\n",
      "            32          -0.03077        1.000\n",
      "            33          -0.02985        1.000\n",
      "            34          -0.02899        1.000\n",
      "            35          -0.02817        1.000\n",
      "            36          -0.02740        1.000\n",
      "            37          -0.02667        1.000\n",
      "            38          -0.02598        1.000\n",
      "            39          -0.02532        1.000\n",
      "            40          -0.02469        1.000\n",
      "            41          -0.02410        1.000\n",
      "            42          -0.02353        1.000\n",
      "            43          -0.02299        1.000\n",
      "            44          -0.02247        1.000\n",
      "            45          -0.02198        1.000\n",
      "            46          -0.02151        1.000\n",
      "            47          -0.02105        1.000\n",
      "            48          -0.02062        1.000\n",
      "            49          -0.02020        1.000\n",
      "            50          -0.01980        1.000\n",
      "            51          -0.01942        1.000\n",
      "            52          -0.01905        1.000\n",
      "            53          -0.01869        1.000\n",
      "            54          -0.01835        1.000\n",
      "            55          -0.01802        1.000\n",
      "            56          -0.01770        1.000\n",
      "            57          -0.01739        1.000\n",
      "            58          -0.01709        1.000\n",
      "            59          -0.01681        1.000\n",
      "            60          -0.01653        1.000\n",
      "            61          -0.01626        1.000\n",
      "            62          -0.01600        1.000\n",
      "            63          -0.01575        1.000\n",
      "            64          -0.01550        1.000\n",
      "            65          -0.01527        1.000\n",
      "            66          -0.01504        1.000\n",
      "            67          -0.01482        1.000\n",
      "            68          -0.01460        1.000\n",
      "            69          -0.01439        1.000\n",
      "            70          -0.01418        1.000\n",
      "            71          -0.01399        1.000\n",
      "            72          -0.01379        1.000\n",
      "            73          -0.01361        1.000\n",
      "            74          -0.01342        1.000\n",
      "            75          -0.01325        1.000\n",
      "            76          -0.01307        1.000\n",
      "            77          -0.01290        1.000\n",
      "            78          -0.01274        1.000\n",
      "            79          -0.01258        1.000\n",
      "            80          -0.01242        1.000\n",
      "            81          -0.01227        1.000\n",
      "            82          -0.01212        1.000\n",
      "            83          -0.01198        1.000\n",
      "            84          -0.01183        1.000\n",
      "            85          -0.01170        1.000\n",
      "            86          -0.01156        1.000\n",
      "            87          -0.01143        1.000\n",
      "            88          -0.01130        1.000\n",
      "            89          -0.01117        1.000\n",
      "            90          -0.01105        1.000\n",
      "            91          -0.01093        1.000\n",
      "            92          -0.01081        1.000\n",
      "            93          -0.01070        1.000\n",
      "            94          -0.01058        1.000\n",
      "            95          -0.01047        1.000\n",
      "            96          -0.01036        1.000\n",
      "            97          -0.01026        1.000\n",
      "            98          -0.01015        1.000\n",
      "            99          -0.01005        1.000\n",
      "         Final          -0.00995        1.000\n"
     ]
    },
    {
     "data": {
      "text/plain": [
       "<ConditionalExponentialClassifier: 2 labels, 2076 features>"
      ]
     },
     "execution_count": 276,
     "metadata": {},
     "output_type": "execute_result"
    }
   ],
   "source": [
    "#print(codificarClasificacionesSubjetivos())\n",
    "clf_max_ent.train(codificarClasificacionesSubjetivos())"
   ]
  },
  {
   "cell_type": "code",
   "execution_count": null,
   "metadata": {
    "collapsed": true
   },
   "outputs": [],
   "source": [
    "\n"
   ]
  },
  {
   "cell_type": "code",
   "execution_count": null,
   "metadata": {
    "collapsed": true
   },
   "outputs": [],
   "source": []
  },
  {
   "cell_type": "code",
   "execution_count": null,
   "metadata": {
    "collapsed": true
   },
   "outputs": [],
   "source": []
  },
  {
   "cell_type": "code",
   "execution_count": null,
   "metadata": {
    "collapsed": true
   },
   "outputs": [],
   "source": []
  },
  {
   "cell_type": "code",
   "execution_count": null,
   "metadata": {
    "collapsed": true
   },
   "outputs": [],
   "source": []
  },
  {
   "cell_type": "code",
   "execution_count": null,
   "metadata": {
    "collapsed": true
   },
   "outputs": [],
   "source": []
  },
  {
   "cell_type": "code",
   "execution_count": null,
   "metadata": {
    "collapsed": true
   },
   "outputs": [],
   "source": []
  }
 ],
 "metadata": {
  "kernelspec": {
   "display_name": "Python 3",
   "language": "python",
   "name": "python3"
  },
  "language_info": {
   "codemirror_mode": {
    "name": "ipython",
    "version": 3
   },
   "file_extension": ".py",
   "mimetype": "text/x-python",
   "name": "python",
   "nbconvert_exporter": "python",
   "pygments_lexer": "ipython3",
   "version": "3.4.3"
  }
 },
 "nbformat": 4,
 "nbformat_minor": 0
}
